{
  "nbformat": 4,
  "nbformat_minor": 0,
  "metadata": {
    "colab": {
      "name": "ПРОЕКТ.ipynb",
      "provenance": [],
      "collapsed_sections": []
    },
    "kernelspec": {
      "name": "python3",
      "display_name": "Python 3"
    },
    "language_info": {
      "name": "python"
    }
  },
  "cells": [
    {
      "cell_type": "markdown",
      "metadata": {
        "id": "IBOqeuD3QOm3"
      },
      "source": [
        "1. Как со временем менялись зарплаты между разными группами (группировка по Department - fire, medicine, police)? (максимальная, медианная, средняя)\n",
        "2. Как распределяются базовая оплата, сверхурочная работа и льготы между разными группами? Нужно построить диаграммы по распределению со временем для каждого департамента по базовым, сверхурочным и льготам\n",
        "3. Как распределяется бюджет на разные группы (department) с течением времени?\n",
        "4. Какое количество людей в каждом департаменте? \n",
        "5. Какое количество с разным уровнем дохода? (гистограмма с шагом в 5к) \n",
        "6. На базе линейной регрессии постройте прогноз по тому, какие будут закупке в следующий год по каждому департаменту\n",
        "\n"
      ]
    },
    {
      "cell_type": "code",
      "metadata": {
        "id": "3Qep8j8AVCtx"
      },
      "source": [
        "import pandas as pd\n",
        "from sklearn.model_selection import train_test_split, cross_val_score, ShuffleSplit\n",
        "from sklearn.metrics import mean_squared_error, accuracy_score, precision_score, recall_score, f1_score, roc_auc_score, roc_curve,auc, fbeta_score\n",
        "import matplotlib.pyplot as plt\n",
        "from sklearn import tree\n",
        "from google.colab import drive"
      ],
      "execution_count": 1,
      "outputs": []
    },
    {
      "cell_type": "code",
      "metadata": {
        "id": "R2rlNNJ5qqDf",
        "colab": {
          "base_uri": "https://localhost:8080/"
        },
        "outputId": "d00bf515-831d-4325-9f3f-0a123781ce6a"
      },
      "source": [
        "\n",
        "drive.mount('/content/drive')"
      ],
      "execution_count": 2,
      "outputs": [
        {
          "output_type": "stream",
          "text": [
            "Mounted at /content/drive\n"
          ],
          "name": "stdout"
        }
      ]
    },
    {
      "cell_type": "code",
      "metadata": {
        "id": "mCYMP2e9qxN_",
        "colab": {
          "base_uri": "https://localhost:8080/"
        },
        "outputId": "b579e895-0126-4e1d-bb35-4e323710ddab"
      },
      "source": [
        "cd drive/My\\ Drive"
      ],
      "execution_count": 3,
      "outputs": [
        {
          "output_type": "stream",
          "text": [
            "/content/drive/My Drive\n"
          ],
          "name": "stdout"
        }
      ]
    },
    {
      "cell_type": "code",
      "metadata": {
        "colab": {
          "resources": {
            "http://localhost:8080/nbextensions/google.colab/files.js": {
              "data": "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",
              "ok": true,
              "headers": [
                [
                  "content-type",
                  "application/javascript"
                ]
              ],
              "status": 200,
              "status_text": ""
            }
          },
          "base_uri": "https://localhost:8080/",
          "height": 73
        },
        "id": "sOmw8qFeq51T",
        "outputId": "ee84875e-a86c-4d50-ed2c-879c83c5ce26"
      },
      "source": [
        "# загрузила файл .csv в google.colab\n",
        "\n",
        "from google.colab import files \n",
        "uploaded = files.upload()"
      ],
      "execution_count": 4,
      "outputs": [
        {
          "output_type": "display_data",
          "data": {
            "text/html": [
              "\n",
              "     <input type=\"file\" id=\"files-309cf22d-c2f3-458f-b36c-1608dbffa6ab\" name=\"files[]\" multiple disabled\n",
              "        style=\"border:none\" />\n",
              "     <output id=\"result-309cf22d-c2f3-458f-b36c-1608dbffa6ab\">\n",
              "      Upload widget is only available when the cell has been executed in the\n",
              "      current browser session. Please rerun this cell to enable.\n",
              "      </output>\n",
              "      <script src=\"/nbextensions/google.colab/files.js\"></script> "
            ],
            "text/plain": [
              "<IPython.core.display.HTML object>"
            ]
          },
          "metadata": {
            "tags": []
          }
        },
        {
          "output_type": "stream",
          "text": [
            "Saving Salaries.csv to Salaries (13).csv\n"
          ],
          "name": "stdout"
        }
      ]
    },
    {
      "cell_type": "code",
      "metadata": {
        "colab": {
          "base_uri": "https://localhost:8080/",
          "height": 406
        },
        "id": "JlOZ-L4YvzDR",
        "outputId": "9e0e9c9a-b2eb-4040-8a67-f68a80174629"
      },
      "source": [
        "# загрузила файл .csv в pandas DataFrame\n",
        "\n",
        "Salaries_df = pd.read_csv('Salaries.csv')\n",
        "Salaries_df"
      ],
      "execution_count": 38,
      "outputs": [
        {
          "output_type": "execute_result",
          "data": {
            "text/html": [
              "<div>\n",
              "<style scoped>\n",
              "    .dataframe tbody tr th:only-of-type {\n",
              "        vertical-align: middle;\n",
              "    }\n",
              "\n",
              "    .dataframe tbody tr th {\n",
              "        vertical-align: top;\n",
              "    }\n",
              "\n",
              "    .dataframe thead th {\n",
              "        text-align: right;\n",
              "    }\n",
              "</style>\n",
              "<table border=\"1\" class=\"dataframe\">\n",
              "  <thead>\n",
              "    <tr style=\"text-align: right;\">\n",
              "      <th></th>\n",
              "      <th>Id</th>\n",
              "      <th>EmployeeName</th>\n",
              "      <th>JobTitle</th>\n",
              "      <th>BasePay</th>\n",
              "      <th>OvertimePay</th>\n",
              "      <th>OtherPay</th>\n",
              "      <th>Benefits</th>\n",
              "      <th>TotalPay</th>\n",
              "      <th>TotalPayBenefits</th>\n",
              "      <th>Year</th>\n",
              "      <th>Notes</th>\n",
              "      <th>Agency</th>\n",
              "      <th>Status</th>\n",
              "    </tr>\n",
              "  </thead>\n",
              "  <tbody>\n",
              "    <tr>\n",
              "      <th>0</th>\n",
              "      <td>1</td>\n",
              "      <td>NATHANIEL FORD</td>\n",
              "      <td>GENERAL MANAGER-METROPOLITAN TRANSIT AUTHORITY</td>\n",
              "      <td>167411.18</td>\n",
              "      <td>0.00</td>\n",
              "      <td>400184.25</td>\n",
              "      <td>NaN</td>\n",
              "      <td>567595.43</td>\n",
              "      <td>567595.43</td>\n",
              "      <td>2011.0</td>\n",
              "      <td>NaN</td>\n",
              "      <td>San Francisco</td>\n",
              "      <td>NaN</td>\n",
              "    </tr>\n",
              "    <tr>\n",
              "      <th>1</th>\n",
              "      <td>2</td>\n",
              "      <td>GARY JIMENEZ</td>\n",
              "      <td>CAPTAIN III (POLICE DEPARTMENT)</td>\n",
              "      <td>155966.02</td>\n",
              "      <td>245131.88</td>\n",
              "      <td>137811.38</td>\n",
              "      <td>NaN</td>\n",
              "      <td>538909.28</td>\n",
              "      <td>538909.28</td>\n",
              "      <td>2011.0</td>\n",
              "      <td>NaN</td>\n",
              "      <td>San Francisco</td>\n",
              "      <td>NaN</td>\n",
              "    </tr>\n",
              "    <tr>\n",
              "      <th>2</th>\n",
              "      <td>3</td>\n",
              "      <td>ALBERT PARDINI</td>\n",
              "      <td>CAPTAIN III (POLICE DEPARTMENT)</td>\n",
              "      <td>212739.13</td>\n",
              "      <td>106088.18</td>\n",
              "      <td>16452.60</td>\n",
              "      <td>NaN</td>\n",
              "      <td>335279.91</td>\n",
              "      <td>335279.91</td>\n",
              "      <td>2011.0</td>\n",
              "      <td>NaN</td>\n",
              "      <td>San Francisco</td>\n",
              "      <td>NaN</td>\n",
              "    </tr>\n",
              "    <tr>\n",
              "      <th>3</th>\n",
              "      <td>4</td>\n",
              "      <td>CHRISTOPHER CHONG</td>\n",
              "      <td>WIRE ROPE CABLE MAINTENANCE MECHANIC</td>\n",
              "      <td>77916.00</td>\n",
              "      <td>56120.71</td>\n",
              "      <td>198306.90</td>\n",
              "      <td>NaN</td>\n",
              "      <td>332343.61</td>\n",
              "      <td>332343.61</td>\n",
              "      <td>2011.0</td>\n",
              "      <td>NaN</td>\n",
              "      <td>San Francisco</td>\n",
              "      <td>NaN</td>\n",
              "    </tr>\n",
              "    <tr>\n",
              "      <th>4</th>\n",
              "      <td>5</td>\n",
              "      <td>PATRICK GARDNER</td>\n",
              "      <td>DEPUTY CHIEF OF DEPARTMENT,(FIRE DEPARTMENT)</td>\n",
              "      <td>134401.60</td>\n",
              "      <td>9737.00</td>\n",
              "      <td>182234.59</td>\n",
              "      <td>NaN</td>\n",
              "      <td>326373.19</td>\n",
              "      <td>326373.19</td>\n",
              "      <td>2011.0</td>\n",
              "      <td>NaN</td>\n",
              "      <td>San Francisco</td>\n",
              "      <td>NaN</td>\n",
              "    </tr>\n",
              "    <tr>\n",
              "      <th>...</th>\n",
              "      <td>...</td>\n",
              "      <td>...</td>\n",
              "      <td>...</td>\n",
              "      <td>...</td>\n",
              "      <td>...</td>\n",
              "      <td>...</td>\n",
              "      <td>...</td>\n",
              "      <td>...</td>\n",
              "      <td>...</td>\n",
              "      <td>...</td>\n",
              "      <td>...</td>\n",
              "      <td>...</td>\n",
              "      <td>...</td>\n",
              "    </tr>\n",
              "    <tr>\n",
              "      <th>95097</th>\n",
              "      <td>95098</td>\n",
              "      <td>Kyaw M Thwin</td>\n",
              "      <td>Custodian</td>\n",
              "      <td>55026.00</td>\n",
              "      <td>5762.46</td>\n",
              "      <td>2928.25</td>\n",
              "      <td>25120.81</td>\n",
              "      <td>63716.71</td>\n",
              "      <td>88837.52</td>\n",
              "      <td>2013.0</td>\n",
              "      <td>NaN</td>\n",
              "      <td>San Francisco</td>\n",
              "      <td>NaN</td>\n",
              "    </tr>\n",
              "    <tr>\n",
              "      <th>95098</th>\n",
              "      <td>95099</td>\n",
              "      <td>Goldie Pui Yi  Tse</td>\n",
              "      <td>Medical Records Clerk</td>\n",
              "      <td>62109.07</td>\n",
              "      <td>0.00</td>\n",
              "      <td>647.25</td>\n",
              "      <td>26077.14</td>\n",
              "      <td>62756.32</td>\n",
              "      <td>88833.46</td>\n",
              "      <td>2013.0</td>\n",
              "      <td>NaN</td>\n",
              "      <td>San Francisco</td>\n",
              "      <td>NaN</td>\n",
              "    </tr>\n",
              "    <tr>\n",
              "      <th>95099</th>\n",
              "      <td>95100</td>\n",
              "      <td>Stanley J Ellicott</td>\n",
              "      <td>Senior Administrative Analyst</td>\n",
              "      <td>70158.20</td>\n",
              "      <td>0.00</td>\n",
              "      <td>0.00</td>\n",
              "      <td>18671.48</td>\n",
              "      <td>70158.20</td>\n",
              "      <td>88829.68</td>\n",
              "      <td>2013.0</td>\n",
              "      <td>NaN</td>\n",
              "      <td>San Francisco</td>\n",
              "      <td>NaN</td>\n",
              "    </tr>\n",
              "    <tr>\n",
              "      <th>95100</th>\n",
              "      <td>95101</td>\n",
              "      <td>Reginald T Gage</td>\n",
              "      <td>Recreation Coordinator</td>\n",
              "      <td>61398.03</td>\n",
              "      <td>0.00</td>\n",
              "      <td>1346.62</td>\n",
              "      <td>26084.20</td>\n",
              "      <td>62744.65</td>\n",
              "      <td>88828.85</td>\n",
              "      <td>2013.0</td>\n",
              "      <td>NaN</td>\n",
              "      <td>San Francisco</td>\n",
              "      <td>NaN</td>\n",
              "    </tr>\n",
              "    <tr>\n",
              "      <th>95101</th>\n",
              "      <td>95102</td>\n",
              "      <td>Joyce  Chan</td>\n",
              "      <td>Accounta</td>\n",
              "      <td>NaN</td>\n",
              "      <td>NaN</td>\n",
              "      <td>NaN</td>\n",
              "      <td>NaN</td>\n",
              "      <td>NaN</td>\n",
              "      <td>NaN</td>\n",
              "      <td>NaN</td>\n",
              "      <td>NaN</td>\n",
              "      <td>NaN</td>\n",
              "      <td>NaN</td>\n",
              "    </tr>\n",
              "  </tbody>\n",
              "</table>\n",
              "<p>95102 rows × 13 columns</p>\n",
              "</div>"
            ],
            "text/plain": [
              "          Id        EmployeeName  ...         Agency  Status\n",
              "0          1      NATHANIEL FORD  ...  San Francisco     NaN\n",
              "1          2        GARY JIMENEZ  ...  San Francisco     NaN\n",
              "2          3      ALBERT PARDINI  ...  San Francisco     NaN\n",
              "3          4   CHRISTOPHER CHONG  ...  San Francisco     NaN\n",
              "4          5     PATRICK GARDNER  ...  San Francisco     NaN\n",
              "...      ...                 ...  ...            ...     ...\n",
              "95097  95098        Kyaw M Thwin  ...  San Francisco     NaN\n",
              "95098  95099  Goldie Pui Yi  Tse  ...  San Francisco     NaN\n",
              "95099  95100  Stanley J Ellicott  ...  San Francisco     NaN\n",
              "95100  95101     Reginald T Gage  ...  San Francisco     NaN\n",
              "95101  95102         Joyce  Chan  ...            NaN     NaN\n",
              "\n",
              "[95102 rows x 13 columns]"
            ]
          },
          "metadata": {
            "tags": []
          },
          "execution_count": 38
        }
      ]
    },
    {
      "cell_type": "code",
      "metadata": {
        "colab": {
          "base_uri": "https://localhost:8080/"
        },
        "id": "wf_P6lyJv-Rt",
        "outputId": "84cf472d-c26b-4ad0-ee75-5576e4271c13"
      },
      "source": [
        "# получила информацию по датафрейму, в колонках Notes и Status значения отсутствуют\n",
        "\n",
        "Salaries_df.info() "
      ],
      "execution_count": 39,
      "outputs": [
        {
          "output_type": "stream",
          "text": [
            "<class 'pandas.core.frame.DataFrame'>\n",
            "RangeIndex: 95102 entries, 0 to 95101\n",
            "Data columns (total 13 columns):\n",
            " #   Column            Non-Null Count  Dtype  \n",
            "---  ------            --------------  -----  \n",
            " 0   Id                95102 non-null  int64  \n",
            " 1   EmployeeName      95102 non-null  object \n",
            " 2   JobTitle          95102 non-null  object \n",
            " 3   BasePay           95093 non-null  float64\n",
            " 4   OvertimePay       95101 non-null  float64\n",
            " 5   OtherPay          95101 non-null  float64\n",
            " 6   Benefits          58942 non-null  float64\n",
            " 7   TotalPay          95101 non-null  float64\n",
            " 8   TotalPayBenefits  95101 non-null  float64\n",
            " 9   Year              95101 non-null  float64\n",
            " 10  Notes             0 non-null      float64\n",
            " 11  Agency            95101 non-null  object \n",
            " 12  Status            0 non-null      float64\n",
            "dtypes: float64(9), int64(1), object(3)\n",
            "memory usage: 9.4+ MB\n"
          ],
          "name": "stdout"
        }
      ]
    },
    {
      "cell_type": "code",
      "metadata": {
        "colab": {
          "base_uri": "https://localhost:8080/",
          "height": 406
        },
        "id": "1q8L233AwuCj",
        "outputId": "989a4431-533f-406b-b426-16c04701f122"
      },
      "source": [
        "# удалила колонки без данных\n",
        "\n",
        "df = Salaries_df.drop(['Notes','Status'], axis = 1) \n",
        "df"
      ],
      "execution_count": 40,
      "outputs": [
        {
          "output_type": "execute_result",
          "data": {
            "text/html": [
              "<div>\n",
              "<style scoped>\n",
              "    .dataframe tbody tr th:only-of-type {\n",
              "        vertical-align: middle;\n",
              "    }\n",
              "\n",
              "    .dataframe tbody tr th {\n",
              "        vertical-align: top;\n",
              "    }\n",
              "\n",
              "    .dataframe thead th {\n",
              "        text-align: right;\n",
              "    }\n",
              "</style>\n",
              "<table border=\"1\" class=\"dataframe\">\n",
              "  <thead>\n",
              "    <tr style=\"text-align: right;\">\n",
              "      <th></th>\n",
              "      <th>Id</th>\n",
              "      <th>EmployeeName</th>\n",
              "      <th>JobTitle</th>\n",
              "      <th>BasePay</th>\n",
              "      <th>OvertimePay</th>\n",
              "      <th>OtherPay</th>\n",
              "      <th>Benefits</th>\n",
              "      <th>TotalPay</th>\n",
              "      <th>TotalPayBenefits</th>\n",
              "      <th>Year</th>\n",
              "      <th>Agency</th>\n",
              "    </tr>\n",
              "  </thead>\n",
              "  <tbody>\n",
              "    <tr>\n",
              "      <th>0</th>\n",
              "      <td>1</td>\n",
              "      <td>NATHANIEL FORD</td>\n",
              "      <td>GENERAL MANAGER-METROPOLITAN TRANSIT AUTHORITY</td>\n",
              "      <td>167411.18</td>\n",
              "      <td>0.00</td>\n",
              "      <td>400184.25</td>\n",
              "      <td>NaN</td>\n",
              "      <td>567595.43</td>\n",
              "      <td>567595.43</td>\n",
              "      <td>2011.0</td>\n",
              "      <td>San Francisco</td>\n",
              "    </tr>\n",
              "    <tr>\n",
              "      <th>1</th>\n",
              "      <td>2</td>\n",
              "      <td>GARY JIMENEZ</td>\n",
              "      <td>CAPTAIN III (POLICE DEPARTMENT)</td>\n",
              "      <td>155966.02</td>\n",
              "      <td>245131.88</td>\n",
              "      <td>137811.38</td>\n",
              "      <td>NaN</td>\n",
              "      <td>538909.28</td>\n",
              "      <td>538909.28</td>\n",
              "      <td>2011.0</td>\n",
              "      <td>San Francisco</td>\n",
              "    </tr>\n",
              "    <tr>\n",
              "      <th>2</th>\n",
              "      <td>3</td>\n",
              "      <td>ALBERT PARDINI</td>\n",
              "      <td>CAPTAIN III (POLICE DEPARTMENT)</td>\n",
              "      <td>212739.13</td>\n",
              "      <td>106088.18</td>\n",
              "      <td>16452.60</td>\n",
              "      <td>NaN</td>\n",
              "      <td>335279.91</td>\n",
              "      <td>335279.91</td>\n",
              "      <td>2011.0</td>\n",
              "      <td>San Francisco</td>\n",
              "    </tr>\n",
              "    <tr>\n",
              "      <th>3</th>\n",
              "      <td>4</td>\n",
              "      <td>CHRISTOPHER CHONG</td>\n",
              "      <td>WIRE ROPE CABLE MAINTENANCE MECHANIC</td>\n",
              "      <td>77916.00</td>\n",
              "      <td>56120.71</td>\n",
              "      <td>198306.90</td>\n",
              "      <td>NaN</td>\n",
              "      <td>332343.61</td>\n",
              "      <td>332343.61</td>\n",
              "      <td>2011.0</td>\n",
              "      <td>San Francisco</td>\n",
              "    </tr>\n",
              "    <tr>\n",
              "      <th>4</th>\n",
              "      <td>5</td>\n",
              "      <td>PATRICK GARDNER</td>\n",
              "      <td>DEPUTY CHIEF OF DEPARTMENT,(FIRE DEPARTMENT)</td>\n",
              "      <td>134401.60</td>\n",
              "      <td>9737.00</td>\n",
              "      <td>182234.59</td>\n",
              "      <td>NaN</td>\n",
              "      <td>326373.19</td>\n",
              "      <td>326373.19</td>\n",
              "      <td>2011.0</td>\n",
              "      <td>San Francisco</td>\n",
              "    </tr>\n",
              "    <tr>\n",
              "      <th>...</th>\n",
              "      <td>...</td>\n",
              "      <td>...</td>\n",
              "      <td>...</td>\n",
              "      <td>...</td>\n",
              "      <td>...</td>\n",
              "      <td>...</td>\n",
              "      <td>...</td>\n",
              "      <td>...</td>\n",
              "      <td>...</td>\n",
              "      <td>...</td>\n",
              "      <td>...</td>\n",
              "    </tr>\n",
              "    <tr>\n",
              "      <th>95097</th>\n",
              "      <td>95098</td>\n",
              "      <td>Kyaw M Thwin</td>\n",
              "      <td>Custodian</td>\n",
              "      <td>55026.00</td>\n",
              "      <td>5762.46</td>\n",
              "      <td>2928.25</td>\n",
              "      <td>25120.81</td>\n",
              "      <td>63716.71</td>\n",
              "      <td>88837.52</td>\n",
              "      <td>2013.0</td>\n",
              "      <td>San Francisco</td>\n",
              "    </tr>\n",
              "    <tr>\n",
              "      <th>95098</th>\n",
              "      <td>95099</td>\n",
              "      <td>Goldie Pui Yi  Tse</td>\n",
              "      <td>Medical Records Clerk</td>\n",
              "      <td>62109.07</td>\n",
              "      <td>0.00</td>\n",
              "      <td>647.25</td>\n",
              "      <td>26077.14</td>\n",
              "      <td>62756.32</td>\n",
              "      <td>88833.46</td>\n",
              "      <td>2013.0</td>\n",
              "      <td>San Francisco</td>\n",
              "    </tr>\n",
              "    <tr>\n",
              "      <th>95099</th>\n",
              "      <td>95100</td>\n",
              "      <td>Stanley J Ellicott</td>\n",
              "      <td>Senior Administrative Analyst</td>\n",
              "      <td>70158.20</td>\n",
              "      <td>0.00</td>\n",
              "      <td>0.00</td>\n",
              "      <td>18671.48</td>\n",
              "      <td>70158.20</td>\n",
              "      <td>88829.68</td>\n",
              "      <td>2013.0</td>\n",
              "      <td>San Francisco</td>\n",
              "    </tr>\n",
              "    <tr>\n",
              "      <th>95100</th>\n",
              "      <td>95101</td>\n",
              "      <td>Reginald T Gage</td>\n",
              "      <td>Recreation Coordinator</td>\n",
              "      <td>61398.03</td>\n",
              "      <td>0.00</td>\n",
              "      <td>1346.62</td>\n",
              "      <td>26084.20</td>\n",
              "      <td>62744.65</td>\n",
              "      <td>88828.85</td>\n",
              "      <td>2013.0</td>\n",
              "      <td>San Francisco</td>\n",
              "    </tr>\n",
              "    <tr>\n",
              "      <th>95101</th>\n",
              "      <td>95102</td>\n",
              "      <td>Joyce  Chan</td>\n",
              "      <td>Accounta</td>\n",
              "      <td>NaN</td>\n",
              "      <td>NaN</td>\n",
              "      <td>NaN</td>\n",
              "      <td>NaN</td>\n",
              "      <td>NaN</td>\n",
              "      <td>NaN</td>\n",
              "      <td>NaN</td>\n",
              "      <td>NaN</td>\n",
              "    </tr>\n",
              "  </tbody>\n",
              "</table>\n",
              "<p>95102 rows × 11 columns</p>\n",
              "</div>"
            ],
            "text/plain": [
              "          Id        EmployeeName  ...    Year         Agency\n",
              "0          1      NATHANIEL FORD  ...  2011.0  San Francisco\n",
              "1          2        GARY JIMENEZ  ...  2011.0  San Francisco\n",
              "2          3      ALBERT PARDINI  ...  2011.0  San Francisco\n",
              "3          4   CHRISTOPHER CHONG  ...  2011.0  San Francisco\n",
              "4          5     PATRICK GARDNER  ...  2011.0  San Francisco\n",
              "...      ...                 ...  ...     ...            ...\n",
              "95097  95098        Kyaw M Thwin  ...  2013.0  San Francisco\n",
              "95098  95099  Goldie Pui Yi  Tse  ...  2013.0  San Francisco\n",
              "95099  95100  Stanley J Ellicott  ...  2013.0  San Francisco\n",
              "95100  95101     Reginald T Gage  ...  2013.0  San Francisco\n",
              "95101  95102         Joyce  Chan  ...     NaN            NaN\n",
              "\n",
              "[95102 rows x 11 columns]"
            ]
          },
          "metadata": {
            "tags": []
          },
          "execution_count": 40
        }
      ]
    },
    {
      "cell_type": "code",
      "metadata": {
        "colab": {
          "base_uri": "https://localhost:8080/"
        },
        "id": "k4m-5ZR2yUAC",
        "outputId": "d18d098d-c067-4732-8bec-33b263f27a02"
      },
      "source": [
        "# проверила остальные на количество пропусков, много пропусков в колонке Benefits - выгоды\n",
        "\n",
        "for col in df.columns:\n",
        "  print(col, round(df[col].isna().sum() / df.shape[0] *100,2)) "
      ],
      "execution_count": 41,
      "outputs": [
        {
          "output_type": "stream",
          "text": [
            "Id 0.0\n",
            "EmployeeName 0.0\n",
            "JobTitle 0.0\n",
            "BasePay 0.01\n",
            "OvertimePay 0.0\n",
            "OtherPay 0.0\n",
            "Benefits 38.02\n",
            "TotalPay 0.0\n",
            "TotalPayBenefits 0.0\n",
            "Year 0.0\n",
            "Agency 0.0\n"
          ],
          "name": "stdout"
        }
      ]
    },
    {
      "cell_type": "code",
      "metadata": {
        "colab": {
          "base_uri": "https://localhost:8080/"
        },
        "id": "n83UlZ9f0IfA",
        "outputId": "14d90714-385a-4fe2-c4f3-3381811ddd32"
      },
      "source": [
        "# проверила на дубликаты\n",
        "\n",
        "df.duplicated().sum() "
      ],
      "execution_count": 42,
      "outputs": [
        {
          "output_type": "execute_result",
          "data": {
            "text/plain": [
              "0"
            ]
          },
          "metadata": {
            "tags": []
          },
          "execution_count": 42
        }
      ]
    },
    {
      "cell_type": "code",
      "metadata": {
        "colab": {
          "base_uri": "https://localhost:8080/",
          "height": 406
        },
        "id": "YAX1pc_V1yWX",
        "outputId": "49216db2-3c5a-4e5b-8bcf-fe99f67dede7"
      },
      "source": [
        "# удалила колонку Benefits\n",
        "\n",
        "df1 = df.drop(['Benefits'], axis = 1) \n",
        "df1"
      ],
      "execution_count": 43,
      "outputs": [
        {
          "output_type": "execute_result",
          "data": {
            "text/html": [
              "<div>\n",
              "<style scoped>\n",
              "    .dataframe tbody tr th:only-of-type {\n",
              "        vertical-align: middle;\n",
              "    }\n",
              "\n",
              "    .dataframe tbody tr th {\n",
              "        vertical-align: top;\n",
              "    }\n",
              "\n",
              "    .dataframe thead th {\n",
              "        text-align: right;\n",
              "    }\n",
              "</style>\n",
              "<table border=\"1\" class=\"dataframe\">\n",
              "  <thead>\n",
              "    <tr style=\"text-align: right;\">\n",
              "      <th></th>\n",
              "      <th>Id</th>\n",
              "      <th>EmployeeName</th>\n",
              "      <th>JobTitle</th>\n",
              "      <th>BasePay</th>\n",
              "      <th>OvertimePay</th>\n",
              "      <th>OtherPay</th>\n",
              "      <th>TotalPay</th>\n",
              "      <th>TotalPayBenefits</th>\n",
              "      <th>Year</th>\n",
              "      <th>Agency</th>\n",
              "    </tr>\n",
              "  </thead>\n",
              "  <tbody>\n",
              "    <tr>\n",
              "      <th>0</th>\n",
              "      <td>1</td>\n",
              "      <td>NATHANIEL FORD</td>\n",
              "      <td>GENERAL MANAGER-METROPOLITAN TRANSIT AUTHORITY</td>\n",
              "      <td>167411.18</td>\n",
              "      <td>0.00</td>\n",
              "      <td>400184.25</td>\n",
              "      <td>567595.43</td>\n",
              "      <td>567595.43</td>\n",
              "      <td>2011.0</td>\n",
              "      <td>San Francisco</td>\n",
              "    </tr>\n",
              "    <tr>\n",
              "      <th>1</th>\n",
              "      <td>2</td>\n",
              "      <td>GARY JIMENEZ</td>\n",
              "      <td>CAPTAIN III (POLICE DEPARTMENT)</td>\n",
              "      <td>155966.02</td>\n",
              "      <td>245131.88</td>\n",
              "      <td>137811.38</td>\n",
              "      <td>538909.28</td>\n",
              "      <td>538909.28</td>\n",
              "      <td>2011.0</td>\n",
              "      <td>San Francisco</td>\n",
              "    </tr>\n",
              "    <tr>\n",
              "      <th>2</th>\n",
              "      <td>3</td>\n",
              "      <td>ALBERT PARDINI</td>\n",
              "      <td>CAPTAIN III (POLICE DEPARTMENT)</td>\n",
              "      <td>212739.13</td>\n",
              "      <td>106088.18</td>\n",
              "      <td>16452.60</td>\n",
              "      <td>335279.91</td>\n",
              "      <td>335279.91</td>\n",
              "      <td>2011.0</td>\n",
              "      <td>San Francisco</td>\n",
              "    </tr>\n",
              "    <tr>\n",
              "      <th>3</th>\n",
              "      <td>4</td>\n",
              "      <td>CHRISTOPHER CHONG</td>\n",
              "      <td>WIRE ROPE CABLE MAINTENANCE MECHANIC</td>\n",
              "      <td>77916.00</td>\n",
              "      <td>56120.71</td>\n",
              "      <td>198306.90</td>\n",
              "      <td>332343.61</td>\n",
              "      <td>332343.61</td>\n",
              "      <td>2011.0</td>\n",
              "      <td>San Francisco</td>\n",
              "    </tr>\n",
              "    <tr>\n",
              "      <th>4</th>\n",
              "      <td>5</td>\n",
              "      <td>PATRICK GARDNER</td>\n",
              "      <td>DEPUTY CHIEF OF DEPARTMENT,(FIRE DEPARTMENT)</td>\n",
              "      <td>134401.60</td>\n",
              "      <td>9737.00</td>\n",
              "      <td>182234.59</td>\n",
              "      <td>326373.19</td>\n",
              "      <td>326373.19</td>\n",
              "      <td>2011.0</td>\n",
              "      <td>San Francisco</td>\n",
              "    </tr>\n",
              "    <tr>\n",
              "      <th>...</th>\n",
              "      <td>...</td>\n",
              "      <td>...</td>\n",
              "      <td>...</td>\n",
              "      <td>...</td>\n",
              "      <td>...</td>\n",
              "      <td>...</td>\n",
              "      <td>...</td>\n",
              "      <td>...</td>\n",
              "      <td>...</td>\n",
              "      <td>...</td>\n",
              "    </tr>\n",
              "    <tr>\n",
              "      <th>95097</th>\n",
              "      <td>95098</td>\n",
              "      <td>Kyaw M Thwin</td>\n",
              "      <td>Custodian</td>\n",
              "      <td>55026.00</td>\n",
              "      <td>5762.46</td>\n",
              "      <td>2928.25</td>\n",
              "      <td>63716.71</td>\n",
              "      <td>88837.52</td>\n",
              "      <td>2013.0</td>\n",
              "      <td>San Francisco</td>\n",
              "    </tr>\n",
              "    <tr>\n",
              "      <th>95098</th>\n",
              "      <td>95099</td>\n",
              "      <td>Goldie Pui Yi  Tse</td>\n",
              "      <td>Medical Records Clerk</td>\n",
              "      <td>62109.07</td>\n",
              "      <td>0.00</td>\n",
              "      <td>647.25</td>\n",
              "      <td>62756.32</td>\n",
              "      <td>88833.46</td>\n",
              "      <td>2013.0</td>\n",
              "      <td>San Francisco</td>\n",
              "    </tr>\n",
              "    <tr>\n",
              "      <th>95099</th>\n",
              "      <td>95100</td>\n",
              "      <td>Stanley J Ellicott</td>\n",
              "      <td>Senior Administrative Analyst</td>\n",
              "      <td>70158.20</td>\n",
              "      <td>0.00</td>\n",
              "      <td>0.00</td>\n",
              "      <td>70158.20</td>\n",
              "      <td>88829.68</td>\n",
              "      <td>2013.0</td>\n",
              "      <td>San Francisco</td>\n",
              "    </tr>\n",
              "    <tr>\n",
              "      <th>95100</th>\n",
              "      <td>95101</td>\n",
              "      <td>Reginald T Gage</td>\n",
              "      <td>Recreation Coordinator</td>\n",
              "      <td>61398.03</td>\n",
              "      <td>0.00</td>\n",
              "      <td>1346.62</td>\n",
              "      <td>62744.65</td>\n",
              "      <td>88828.85</td>\n",
              "      <td>2013.0</td>\n",
              "      <td>San Francisco</td>\n",
              "    </tr>\n",
              "    <tr>\n",
              "      <th>95101</th>\n",
              "      <td>95102</td>\n",
              "      <td>Joyce  Chan</td>\n",
              "      <td>Accounta</td>\n",
              "      <td>NaN</td>\n",
              "      <td>NaN</td>\n",
              "      <td>NaN</td>\n",
              "      <td>NaN</td>\n",
              "      <td>NaN</td>\n",
              "      <td>NaN</td>\n",
              "      <td>NaN</td>\n",
              "    </tr>\n",
              "  </tbody>\n",
              "</table>\n",
              "<p>95102 rows × 10 columns</p>\n",
              "</div>"
            ],
            "text/plain": [
              "          Id        EmployeeName  ...    Year         Agency\n",
              "0          1      NATHANIEL FORD  ...  2011.0  San Francisco\n",
              "1          2        GARY JIMENEZ  ...  2011.0  San Francisco\n",
              "2          3      ALBERT PARDINI  ...  2011.0  San Francisco\n",
              "3          4   CHRISTOPHER CHONG  ...  2011.0  San Francisco\n",
              "4          5     PATRICK GARDNER  ...  2011.0  San Francisco\n",
              "...      ...                 ...  ...     ...            ...\n",
              "95097  95098        Kyaw M Thwin  ...  2013.0  San Francisco\n",
              "95098  95099  Goldie Pui Yi  Tse  ...  2013.0  San Francisco\n",
              "95099  95100  Stanley J Ellicott  ...  2013.0  San Francisco\n",
              "95100  95101     Reginald T Gage  ...  2013.0  San Francisco\n",
              "95101  95102         Joyce  Chan  ...     NaN            NaN\n",
              "\n",
              "[95102 rows x 10 columns]"
            ]
          },
          "metadata": {
            "tags": []
          },
          "execution_count": 43
        }
      ]
    },
    {
      "cell_type": "code",
      "metadata": {
        "colab": {
          "base_uri": "https://localhost:8080/"
        },
        "id": "Wz7JlR7sqG6E",
        "outputId": "d6a88b15-4e3c-488c-ac75-80ca3fac9740"
      },
      "source": [
        "# группирую по году\n",
        "\n",
        "df1.groupby('Year')['Year'].count() \n"
      ],
      "execution_count": 44,
      "outputs": [
        {
          "output_type": "execute_result",
          "data": {
            "text/plain": [
              "Year\n",
              "2011.0    36159\n",
              "2012.0    36766\n",
              "2013.0    22176\n",
              "Name: Year, dtype: int64"
            ]
          },
          "metadata": {
            "tags": []
          },
          "execution_count": 44
        }
      ]
    },
    {
      "cell_type": "code",
      "metadata": {
        "colab": {
          "base_uri": "https://localhost:8080/",
          "height": 314
        },
        "id": "bijqNLF6Paiz",
        "outputId": "12680e1e-8bc5-4a78-a03d-41172c518aba"
      },
      "source": [
        "# сравниваю изменение зп в течении времени - посмотрим базовую зп (по всем вакансиям)\n",
        "\n",
        "\n",
        "import seaborn as sns \n",
        "\n",
        "sal = df1.groupby('Year').mean()\n",
        "sal.reset_index(inplace=True)\n",
        "sns.barplot(x = 'Year', y='BasePay' , data = sal)\n",
        "plt.figure()\n"
      ],
      "execution_count": 45,
      "outputs": [
        {
          "output_type": "execute_result",
          "data": {
            "text/plain": [
              "<Figure size 432x288 with 0 Axes>"
            ]
          },
          "metadata": {
            "tags": []
          },
          "execution_count": 45
        },
        {
          "output_type": "display_data",
          "data": {
            "image/png": "[encoded data removed]",
            "text/plain": [
              "<Figure size 432x288 with 1 Axes>"
            ]
          },
          "metadata": {
            "tags": [],
            "needs_background": "light"
          }
        },
        {
          "output_type": "display_data",
          "data": {
            "text/plain": [
              "<Figure size 432x288 with 0 Axes>"
            ]
          },
          "metadata": {
            "tags": []
          }
        }
      ]
    },
    {
      "cell_type": "code",
      "metadata": {
        "colab": {
          "base_uri": "https://localhost:8080/"
        },
        "id": "J-FphY9ROlBN",
        "outputId": "d7cbadc6-4960-4f02-c34f-c8a7a404a39a"
      },
      "source": [
        "# посмотрим кол-во зарплат разных должностей\n",
        "\n",
        "\n",
        "df1['JobTitle'].value_counts()"
      ],
      "execution_count": 46,
      "outputs": [
        {
          "output_type": "execute_result",
          "data": {
            "text/plain": [
              "Transit Operator                                      3861\n",
              "Registered Nurse                                      2392\n",
              "TRANSIT OPERATOR                                      2388\n",
              "Special Nurse                                         1629\n",
              "Police Officer 3                                      1588\n",
              "                                                      ... \n",
              "Braillist                                                1\n",
              "SENIOR SUPERVISING PROBATION OFFICER, JUVENILE POU       1\n",
              "WHARFINGER I                                             1\n",
              "CHIEF OF DEPARTMENT, (FIRE DEPARTMENT)                   1\n",
              "TREASURER                                                1\n",
              "Name: JobTitle, Length: 2112, dtype: int64"
            ]
          },
          "metadata": {
            "tags": []
          },
          "execution_count": 46
        }
      ]
    },
    {
      "cell_type": "markdown",
      "metadata": {
        "id": "Nw5EU93O3ZXT"
      },
      "source": [
        "Как со временем менялись зарплаты между разными группами (группировка по Department - fire, medicine, police)? (максимальная, медианная, средняя)\n"
      ]
    },
    {
      "cell_type": "code",
      "metadata": {
        "colab": {
          "base_uri": "https://localhost:8080/",
          "height": 406
        },
        "id": "2KpYSkjT-vfi",
        "outputId": "524847fa-1d11-42cd-84c8-337951b4dd87"
      },
      "source": [
        "# выбрала зарплаты пожарных, сохранила в новый DataFrame\n",
        "\n",
        "t1 = df1.JobTitle.str.contains('FIRE DEPARTMENT') \n",
        "fire_df = df1[t1]\n",
        "fire_df"
      ],
      "execution_count": 47,
      "outputs": [
        {
          "output_type": "execute_result",
          "data": {
            "text/html": [
              "<div>\n",
              "<style scoped>\n",
              "    .dataframe tbody tr th:only-of-type {\n",
              "        vertical-align: middle;\n",
              "    }\n",
              "\n",
              "    .dataframe tbody tr th {\n",
              "        vertical-align: top;\n",
              "    }\n",
              "\n",
              "    .dataframe thead th {\n",
              "        text-align: right;\n",
              "    }\n",
              "</style>\n",
              "<table border=\"1\" class=\"dataframe\">\n",
              "  <thead>\n",
              "    <tr style=\"text-align: right;\">\n",
              "      <th></th>\n",
              "      <th>Id</th>\n",
              "      <th>EmployeeName</th>\n",
              "      <th>JobTitle</th>\n",
              "      <th>BasePay</th>\n",
              "      <th>OvertimePay</th>\n",
              "      <th>OtherPay</th>\n",
              "      <th>TotalPay</th>\n",
              "      <th>TotalPayBenefits</th>\n",
              "      <th>Year</th>\n",
              "      <th>Agency</th>\n",
              "    </tr>\n",
              "  </thead>\n",
              "  <tbody>\n",
              "    <tr>\n",
              "      <th>4</th>\n",
              "      <td>5</td>\n",
              "      <td>PATRICK GARDNER</td>\n",
              "      <td>DEPUTY CHIEF OF DEPARTMENT,(FIRE DEPARTMENT)</td>\n",
              "      <td>134401.60</td>\n",
              "      <td>9737.00</td>\n",
              "      <td>182234.59</td>\n",
              "      <td>326373.19</td>\n",
              "      <td>326373.19</td>\n",
              "      <td>2011.0</td>\n",
              "      <td>San Francisco</td>\n",
              "    </tr>\n",
              "    <tr>\n",
              "      <th>6</th>\n",
              "      <td>7</td>\n",
              "      <td>ALSON LEE</td>\n",
              "      <td>BATTALION CHIEF, (FIRE DEPARTMENT)</td>\n",
              "      <td>92492.01</td>\n",
              "      <td>89062.90</td>\n",
              "      <td>134426.14</td>\n",
              "      <td>315981.05</td>\n",
              "      <td>315981.05</td>\n",
              "      <td>2011.0</td>\n",
              "      <td>San Francisco</td>\n",
              "    </tr>\n",
              "    <tr>\n",
              "      <th>8</th>\n",
              "      <td>9</td>\n",
              "      <td>MICHAEL MORRIS</td>\n",
              "      <td>BATTALION CHIEF, (FIRE DEPARTMENT)</td>\n",
              "      <td>176932.64</td>\n",
              "      <td>86362.68</td>\n",
              "      <td>40132.23</td>\n",
              "      <td>303427.55</td>\n",
              "      <td>303427.55</td>\n",
              "      <td>2011.0</td>\n",
              "      <td>San Francisco</td>\n",
              "    </tr>\n",
              "    <tr>\n",
              "      <th>9</th>\n",
              "      <td>10</td>\n",
              "      <td>JOANNE HAYES-WHITE</td>\n",
              "      <td>CHIEF OF DEPARTMENT, (FIRE DEPARTMENT)</td>\n",
              "      <td>285262.00</td>\n",
              "      <td>0.00</td>\n",
              "      <td>17115.73</td>\n",
              "      <td>302377.73</td>\n",
              "      <td>302377.73</td>\n",
              "      <td>2011.0</td>\n",
              "      <td>San Francisco</td>\n",
              "    </tr>\n",
              "    <tr>\n",
              "      <th>10</th>\n",
              "      <td>11</td>\n",
              "      <td>ARTHUR KENNEY</td>\n",
              "      <td>ASSISTANT CHIEF OF DEPARTMENT, (FIRE DEPARTMENT)</td>\n",
              "      <td>194999.39</td>\n",
              "      <td>71344.88</td>\n",
              "      <td>33149.90</td>\n",
              "      <td>299494.17</td>\n",
              "      <td>299494.17</td>\n",
              "      <td>2011.0</td>\n",
              "      <td>San Francisco</td>\n",
              "    </tr>\n",
              "    <tr>\n",
              "      <th>...</th>\n",
              "      <td>...</td>\n",
              "      <td>...</td>\n",
              "      <td>...</td>\n",
              "      <td>...</td>\n",
              "      <td>...</td>\n",
              "      <td>...</td>\n",
              "      <td>...</td>\n",
              "      <td>...</td>\n",
              "      <td>...</td>\n",
              "      <td>...</td>\n",
              "    </tr>\n",
              "    <tr>\n",
              "      <th>4955</th>\n",
              "      <td>4956</td>\n",
              "      <td>AUDRY LEE</td>\n",
              "      <td>BATTALION CHIEF, (FIRE DEPARTMENT)</td>\n",
              "      <td>21804.00</td>\n",
              "      <td>46307.75</td>\n",
              "      <td>56392.91</td>\n",
              "      <td>124504.66</td>\n",
              "      <td>124504.66</td>\n",
              "      <td>2011.0</td>\n",
              "      <td>San Francisco</td>\n",
              "    </tr>\n",
              "    <tr>\n",
              "      <th>5498</th>\n",
              "      <td>5499</td>\n",
              "      <td>VINCENT PEREZ</td>\n",
              "      <td>LIEUTENANT, FIRE DEPARTMENT</td>\n",
              "      <td>59663.78</td>\n",
              "      <td>13979.51</td>\n",
              "      <td>47704.14</td>\n",
              "      <td>121347.43</td>\n",
              "      <td>121347.43</td>\n",
              "      <td>2011.0</td>\n",
              "      <td>San Francisco</td>\n",
              "    </tr>\n",
              "    <tr>\n",
              "      <th>8436</th>\n",
              "      <td>8437</td>\n",
              "      <td>JENSEN RHODES</td>\n",
              "      <td>LIEUTENANT, FIRE DEPARTMENT</td>\n",
              "      <td>93066.59</td>\n",
              "      <td>1626.13</td>\n",
              "      <td>10703.77</td>\n",
              "      <td>105396.49</td>\n",
              "      <td>105396.49</td>\n",
              "      <td>2011.0</td>\n",
              "      <td>San Francisco</td>\n",
              "    </tr>\n",
              "    <tr>\n",
              "      <th>16285</th>\n",
              "      <td>16286</td>\n",
              "      <td>AARON STEVENSON</td>\n",
              "      <td>ASSISTANT CHIEF OF DEPARTMENT, (FIRE DEPARTMENT)</td>\n",
              "      <td>21948.99</td>\n",
              "      <td>14065.26</td>\n",
              "      <td>37430.72</td>\n",
              "      <td>73444.97</td>\n",
              "      <td>73444.97</td>\n",
              "      <td>2011.0</td>\n",
              "      <td>San Francisco</td>\n",
              "    </tr>\n",
              "    <tr>\n",
              "      <th>32623</th>\n",
              "      <td>32624</td>\n",
              "      <td>JAMES BARDEN</td>\n",
              "      <td>BATTALION CHIEF, (FIRE DEPARTMENT)</td>\n",
              "      <td>0.00</td>\n",
              "      <td>1290.69</td>\n",
              "      <td>5802.68</td>\n",
              "      <td>7093.37</td>\n",
              "      <td>7093.37</td>\n",
              "      <td>2011.0</td>\n",
              "      <td>San Francisco</td>\n",
              "    </tr>\n",
              "  </tbody>\n",
              "</table>\n",
              "<p>222 rows × 10 columns</p>\n",
              "</div>"
            ],
            "text/plain": [
              "          Id        EmployeeName  ...    Year         Agency\n",
              "4          5     PATRICK GARDNER  ...  2011.0  San Francisco\n",
              "6          7           ALSON LEE  ...  2011.0  San Francisco\n",
              "8          9      MICHAEL MORRIS  ...  2011.0  San Francisco\n",
              "9         10  JOANNE HAYES-WHITE  ...  2011.0  San Francisco\n",
              "10        11       ARTHUR KENNEY  ...  2011.0  San Francisco\n",
              "...      ...                 ...  ...     ...            ...\n",
              "4955    4956           AUDRY LEE  ...  2011.0  San Francisco\n",
              "5498    5499       VINCENT PEREZ  ...  2011.0  San Francisco\n",
              "8436    8437       JENSEN RHODES  ...  2011.0  San Francisco\n",
              "16285  16286     AARON STEVENSON  ...  2011.0  San Francisco\n",
              "32623  32624        JAMES BARDEN  ...  2011.0  San Francisco\n",
              "\n",
              "[222 rows x 10 columns]"
            ]
          },
          "metadata": {
            "tags": []
          },
          "execution_count": 47
        }
      ]
    },
    {
      "cell_type": "code",
      "metadata": {
        "colab": {
          "base_uri": "https://localhost:8080/",
          "height": 304
        },
        "id": "QYuPIkacB18m",
        "outputId": "f6dbab10-c0f3-45da-db9c-06abfff73421"
      },
      "source": [
        "# сгруппировала по году\n",
        "\n",
        "fire_df['BasePay'] = df['BasePay'].apply(pd.to_numeric, downcast='float', errors='coerce') \n",
        "fire_df.groupby(['Year','JobTitle'],as_index=False).mean()\n",
        "\n"
      ],
      "execution_count": 48,
      "outputs": [
        {
          "output_type": "stream",
          "text": [
            "/usr/local/lib/python3.7/dist-packages/ipykernel_launcher.py:3: SettingWithCopyWarning: \n",
            "A value is trying to be set on a copy of a slice from a DataFrame.\n",
            "Try using .loc[row_indexer,col_indexer] = value instead\n",
            "\n",
            "See the caveats in the documentation: https://pandas.pydata.org/pandas-docs/stable/user_guide/indexing.html#returning-a-view-versus-a-copy\n",
            "  This is separate from the ipykernel package so we can avoid doing imports until\n"
          ],
          "name": "stderr"
        },
        {
          "output_type": "execute_result",
          "data": {
            "text/html": [
              "<div>\n",
              "<style scoped>\n",
              "    .dataframe tbody tr th:only-of-type {\n",
              "        vertical-align: middle;\n",
              "    }\n",
              "\n",
              "    .dataframe tbody tr th {\n",
              "        vertical-align: top;\n",
              "    }\n",
              "\n",
              "    .dataframe thead th {\n",
              "        text-align: right;\n",
              "    }\n",
              "</style>\n",
              "<table border=\"1\" class=\"dataframe\">\n",
              "  <thead>\n",
              "    <tr style=\"text-align: right;\">\n",
              "      <th></th>\n",
              "      <th>Year</th>\n",
              "      <th>JobTitle</th>\n",
              "      <th>Id</th>\n",
              "      <th>BasePay</th>\n",
              "      <th>OvertimePay</th>\n",
              "      <th>OtherPay</th>\n",
              "      <th>TotalPay</th>\n",
              "      <th>TotalPayBenefits</th>\n",
              "    </tr>\n",
              "  </thead>\n",
              "  <tbody>\n",
              "    <tr>\n",
              "      <th>0</th>\n",
              "      <td>2011.0</td>\n",
              "      <td>ASSISTANT CHIEF OF DEPARTMENT, (FIRE DEPARTMENT)</td>\n",
              "      <td>5454.666667</td>\n",
              "      <td>131621.046667</td>\n",
              "      <td>40684.903333</td>\n",
              "      <td>31121.900000</td>\n",
              "      <td>203427.850000</td>\n",
              "      <td>203427.850000</td>\n",
              "    </tr>\n",
              "    <tr>\n",
              "      <th>1</th>\n",
              "      <td>2011.0</td>\n",
              "      <td>BATTALION CHIEF, (FIRE DEPARTMENT)</td>\n",
              "      <td>1092.866667</td>\n",
              "      <td>144875.108667</td>\n",
              "      <td>35115.257333</td>\n",
              "      <td>36665.170889</td>\n",
              "      <td>216655.536889</td>\n",
              "      <td>216655.536889</td>\n",
              "    </tr>\n",
              "    <tr>\n",
              "      <th>2</th>\n",
              "      <td>2011.0</td>\n",
              "      <td>CHIEF OF DEPARTMENT, (FIRE DEPARTMENT)</td>\n",
              "      <td>10.000000</td>\n",
              "      <td>285262.000000</td>\n",
              "      <td>0.000000</td>\n",
              "      <td>17115.730000</td>\n",
              "      <td>302377.730000</td>\n",
              "      <td>302377.730000</td>\n",
              "    </tr>\n",
              "    <tr>\n",
              "      <th>3</th>\n",
              "      <td>2011.0</td>\n",
              "      <td>DEPUTY CHIEF OF DEPARTMENT,(FIRE DEPARTMENT)</td>\n",
              "      <td>26.000000</td>\n",
              "      <td>199852.653333</td>\n",
              "      <td>4605.000000</td>\n",
              "      <td>74901.906667</td>\n",
              "      <td>279359.560000</td>\n",
              "      <td>279359.560000</td>\n",
              "    </tr>\n",
              "    <tr>\n",
              "      <th>4</th>\n",
              "      <td>2011.0</td>\n",
              "      <td>LIEUTENANT, FIRE DEPARTMENT</td>\n",
              "      <td>1729.088235</td>\n",
              "      <td>123166.477471</td>\n",
              "      <td>24492.825941</td>\n",
              "      <td>16491.918588</td>\n",
              "      <td>164151.222000</td>\n",
              "      <td>164151.222000</td>\n",
              "    </tr>\n",
              "  </tbody>\n",
              "</table>\n",
              "</div>"
            ],
            "text/plain": [
              "     Year  ... TotalPayBenefits\n",
              "0  2011.0  ...    203427.850000\n",
              "1  2011.0  ...    216655.536889\n",
              "2  2011.0  ...    302377.730000\n",
              "3  2011.0  ...    279359.560000\n",
              "4  2011.0  ...    164151.222000\n",
              "\n",
              "[5 rows x 8 columns]"
            ]
          },
          "metadata": {
            "tags": []
          },
          "execution_count": 48
        }
      ]
    },
    {
      "cell_type": "code",
      "metadata": {
        "colab": {
          "base_uri": "https://localhost:8080/"
        },
        "id": "SOGIhu6WBmRf",
        "outputId": "5ec587fd-4908-4589-801d-b060aae3e892"
      },
      "source": [
        "# нашла максимальную базовую зарплату\n",
        "\n",
        "fire_df['BasePay'].max() "
      ],
      "execution_count": 49,
      "outputs": [
        {
          "output_type": "execute_result",
          "data": {
            "text/plain": [
              "285262.0"
            ]
          },
          "metadata": {
            "tags": []
          },
          "execution_count": 49
        }
      ]
    },
    {
      "cell_type": "code",
      "metadata": {
        "colab": {
          "base_uri": "https://localhost:8080/"
        },
        "id": "4ZDye8MsDQCk",
        "outputId": "add5b640-87a2-470d-db2e-9aa31c6dacf4"
      },
      "source": [
        "# нашла среднее значение\n",
        "\n",
        "fire_df['BasePay'].mean() "
      ],
      "execution_count": 50,
      "outputs": [
        {
          "output_type": "execute_result",
          "data": {
            "text/plain": [
              "129447.58630630636"
            ]
          },
          "metadata": {
            "tags": []
          },
          "execution_count": 50
        }
      ]
    },
    {
      "cell_type": "code",
      "metadata": {
        "colab": {
          "base_uri": "https://localhost:8080/"
        },
        "id": "1aHKmm5aENTX",
        "outputId": "df538b85-ba37-4d1f-af1d-760d95823f18"
      },
      "source": [
        "# нашла медианное значение\n",
        "\n",
        "fire_df['BasePay'].median() # медианное значение"
      ],
      "execution_count": 51,
      "outputs": [
        {
          "output_type": "execute_result",
          "data": {
            "text/plain": [
              "123105.02"
            ]
          },
          "metadata": {
            "tags": []
          },
          "execution_count": 51
        }
      ]
    },
    {
      "cell_type": "code",
      "metadata": {
        "colab": {
          "base_uri": "https://localhost:8080/",
          "height": 160
        },
        "id": "gexiVpDPWE9L",
        "outputId": "43367d02-83d3-4392-b7a4-3ef7d5702715"
      },
      "source": [
        "# нашла максимальную, медианную и среднюю зп с указанием должности\n",
        "\n",
        "display(fire_df[[\"JobTitle\",\"TotalPay\",\"Year\",]].groupby([\"JobTitle\",\"Year\"]).agg([\"max\",'median',\"min\"]).style.background_gradient(cmap=\"CMRmap_r\")) "
      ],
      "execution_count": 52,
      "outputs": [
        {
          "output_type": "display_data",
          "data": {
            "text/html": [
              "<style  type=\"text/css\" >\n",
              "#T_acf446e6_df46_11eb_96a1_0242ac1c0002row0_col0{\n",
              "            background-color:  #87308f;\n",
              "            color:  #f1f1f1;\n",
              "        }#T_acf446e6_df46_11eb_96a1_0242ac1c0002row0_col1{\n",
              "            background-color:  #d73b49;\n",
              "            color:  #f1f1f1;\n",
              "        }#T_acf446e6_df46_11eb_96a1_0242ac1c0002row0_col2{\n",
              "            background-color:  #e6c72f;\n",
              "            color:  #000000;\n",
              "        }#T_acf446e6_df46_11eb_96a1_0242ac1c0002row1_col0{\n",
              "            background-color:  #292684;\n",
              "            color:  #f1f1f1;\n",
              "        }#T_acf446e6_df46_11eb_96a1_0242ac1c0002row1_col1{\n",
              "            background-color:  #f26112;\n",
              "            color:  #000000;\n",
              "        }#T_acf446e6_df46_11eb_96a1_0242ac1c0002row1_col2,#T_acf446e6_df46_11eb_96a1_0242ac1c0002row4_col0,#T_acf446e6_df46_11eb_96a1_0242ac1c0002row4_col1{\n",
              "            background-color:  #ffffff;\n",
              "            color:  #000000;\n",
              "        }#T_acf446e6_df46_11eb_96a1_0242ac1c0002row2_col0{\n",
              "            background-color:  #6f2ca3;\n",
              "            color:  #f1f1f1;\n",
              "        }#T_acf446e6_df46_11eb_96a1_0242ac1c0002row2_col1,#T_acf446e6_df46_11eb_96a1_0242ac1c0002row2_col2,#T_acf446e6_df46_11eb_96a1_0242ac1c0002row3_col0{\n",
              "            background-color:  #000000;\n",
              "            color:  #f1f1f1;\n",
              "        }#T_acf446e6_df46_11eb_96a1_0242ac1c0002row3_col1{\n",
              "            background-color:  #602aaf;\n",
              "            color:  #f1f1f1;\n",
              "        }#T_acf446e6_df46_11eb_96a1_0242ac1c0002row3_col2{\n",
              "            background-color:  #36269a;\n",
              "            color:  #f1f1f1;\n",
              "        }#T_acf446e6_df46_11eb_96a1_0242ac1c0002row4_col2{\n",
              "            background-color:  #e69509;\n",
              "            color:  #000000;\n",
              "        }</style><table id=\"T_acf446e6_df46_11eb_96a1_0242ac1c0002\" ><thead>    <tr>        <th class=\"blank\" ></th>        <th class=\"blank level0\" ></th>        <th class=\"col_heading level0 col0\" colspan=3>TotalPay</th>    </tr>    <tr>        <th class=\"blank\" ></th>        <th class=\"blank level1\" ></th>        <th class=\"col_heading level1 col0\" >max</th>        <th class=\"col_heading level1 col1\" >median</th>        <th class=\"col_heading level1 col2\" >min</th>    </tr>    <tr>        <th class=\"index_name level0\" >JobTitle</th>        <th class=\"index_name level1\" >Year</th>        <th class=\"blank\" ></th>        <th class=\"blank\" ></th>        <th class=\"blank\" ></th>    </tr></thead><tbody>\n",
              "                <tr>\n",
              "                        <th id=\"T_acf446e6_df46_11eb_96a1_0242ac1c0002level0_row0\" class=\"row_heading level0 row0\" >ASSISTANT CHIEF OF DEPARTMENT, (FIRE DEPARTMENT)</th>\n",
              "                        <th id=\"T_acf446e6_df46_11eb_96a1_0242ac1c0002level1_row0\" class=\"row_heading level1 row0\" >2011.0</th>\n",
              "                        <td id=\"T_acf446e6_df46_11eb_96a1_0242ac1c0002row0_col0\" class=\"data row0 col0\" >299494.170000</td>\n",
              "                        <td id=\"T_acf446e6_df46_11eb_96a1_0242ac1c0002row0_col1\" class=\"data row0 col1\" >237344.410000</td>\n",
              "                        <td id=\"T_acf446e6_df46_11eb_96a1_0242ac1c0002row0_col2\" class=\"data row0 col2\" >73444.970000</td>\n",
              "            </tr>\n",
              "            <tr>\n",
              "                        <th id=\"T_acf446e6_df46_11eb_96a1_0242ac1c0002level0_row1\" class=\"row_heading level0 row1\" >BATTALION CHIEF, (FIRE DEPARTMENT)</th>\n",
              "                        <th id=\"T_acf446e6_df46_11eb_96a1_0242ac1c0002level1_row1\" class=\"row_heading level1 row1\" >2011.0</th>\n",
              "                        <td id=\"T_acf446e6_df46_11eb_96a1_0242ac1c0002row1_col0\" class=\"data row1 col0\" >315981.050000</td>\n",
              "                        <td id=\"T_acf446e6_df46_11eb_96a1_0242ac1c0002row1_col1\" class=\"data row1 col1\" >221049.320000</td>\n",
              "                        <td id=\"T_acf446e6_df46_11eb_96a1_0242ac1c0002row1_col2\" class=\"data row1 col2\" >7093.370000</td>\n",
              "            </tr>\n",
              "            <tr>\n",
              "                        <th id=\"T_acf446e6_df46_11eb_96a1_0242ac1c0002level0_row2\" class=\"row_heading level0 row2\" >CHIEF OF DEPARTMENT, (FIRE DEPARTMENT)</th>\n",
              "                        <th id=\"T_acf446e6_df46_11eb_96a1_0242ac1c0002level1_row2\" class=\"row_heading level1 row2\" >2011.0</th>\n",
              "                        <td id=\"T_acf446e6_df46_11eb_96a1_0242ac1c0002row2_col0\" class=\"data row2 col0\" >302377.730000</td>\n",
              "                        <td id=\"T_acf446e6_df46_11eb_96a1_0242ac1c0002row2_col1\" class=\"data row2 col1\" >302377.730000</td>\n",
              "                        <td id=\"T_acf446e6_df46_11eb_96a1_0242ac1c0002row2_col2\" class=\"data row2 col2\" >302377.730000</td>\n",
              "            </tr>\n",
              "            <tr>\n",
              "                        <th id=\"T_acf446e6_df46_11eb_96a1_0242ac1c0002level0_row3\" class=\"row_heading level0 row3\" >DEPUTY CHIEF OF DEPARTMENT,(FIRE DEPARTMENT)</th>\n",
              "                        <th id=\"T_acf446e6_df46_11eb_96a1_0242ac1c0002level1_row3\" class=\"row_heading level1 row3\" >2011.0</th>\n",
              "                        <td id=\"T_acf446e6_df46_11eb_96a1_0242ac1c0002row3_col0\" class=\"data row3 col0\" >326373.190000</td>\n",
              "                        <td id=\"T_acf446e6_df46_11eb_96a1_0242ac1c0002row3_col1\" class=\"data row3 col1\" >261366.140000</td>\n",
              "                        <td id=\"T_acf446e6_df46_11eb_96a1_0242ac1c0002row3_col2\" class=\"data row3 col2\" >250339.350000</td>\n",
              "            </tr>\n",
              "            <tr>\n",
              "                        <th id=\"T_acf446e6_df46_11eb_96a1_0242ac1c0002level0_row4\" class=\"row_heading level0 row4\" >LIEUTENANT, FIRE DEPARTMENT</th>\n",
              "                        <th id=\"T_acf446e6_df46_11eb_96a1_0242ac1c0002level1_row4\" class=\"row_heading level1 row4\" >2011.0</th>\n",
              "                        <td id=\"T_acf446e6_df46_11eb_96a1_0242ac1c0002row4_col0\" class=\"data row4 col0\" >248434.390000</td>\n",
              "                        <td id=\"T_acf446e6_df46_11eb_96a1_0242ac1c0002row4_col1\" class=\"data row4 col1\" >158300.825000</td>\n",
              "                        <td id=\"T_acf446e6_df46_11eb_96a1_0242ac1c0002row4_col2\" class=\"data row4 col2\" >105396.490000</td>\n",
              "            </tr>\n",
              "    </tbody></table>"
            ],
            "text/plain": [
              "<pandas.io.formats.style.Styler at 0x7f2be8a1b310>"
            ]
          },
          "metadata": {
            "tags": []
          }
        }
      ]
    },
    {
      "cell_type": "code",
      "metadata": {
        "colab": {
          "base_uri": "https://localhost:8080/",
          "height": 611
        },
        "id": "TTLNVNmJXw_t",
        "outputId": "8f8ffd2e-2f23-46e9-ee4b-85223d7e0cff"
      },
      "source": [
        "# проиллюстрировала наглядно максимальную, медианную и среднюю зп\n",
        "\n",
        "fire_df[[\"JobTitle\",\"TotalPay\",\"Year\",]].groupby([\"JobTitle\",\"Year\"]).agg([\"max\",'median',\"min\"]).plot(kind=\"line\",color =[\"orange\",\"black\",\"purple\"]) \n",
        "plt.title(\"TotalPay with each Job Title (max,mean,min)\", fontsize=10)\n",
        "plt.ylabel(\"TotalPay\",fontsize=10)\n",
        "plt.xlabel(\" \")\n",
        "plt.xticks(rotation=90)\n",
        "plt.show()"
      ],
      "execution_count": 53,
      "outputs": [
        {
          "output_type": "display_data",
          "data": {
            "image/png": "[encoded data removed]",
            "text/plain": [
              "<Figure size 432x288 with 1 Axes>"
            ]
          },
          "metadata": {
            "tags": [],
            "needs_background": "light"
          }
        }
      ]
    },
    {
      "cell_type": "code",
      "metadata": {
        "colab": {
          "base_uri": "https://localhost:8080/",
          "height": 406
        },
        "id": "FYz721pn_ZmL",
        "outputId": "521d7d8b-4136-4e84-d160-c1bcd3cefbcf"
      },
      "source": [
        "# выбрала зарплаты медиков, сохранила в новый DataFrame\n",
        "\n",
        "t2 = df1.JobTitle.str.contains('MEDIC')\n",
        "med_df = df1[t2]\n",
        "med_df"
      ],
      "execution_count": 54,
      "outputs": [
        {
          "output_type": "execute_result",
          "data": {
            "text/html": [
              "<div>\n",
              "<style scoped>\n",
              "    .dataframe tbody tr th:only-of-type {\n",
              "        vertical-align: middle;\n",
              "    }\n",
              "\n",
              "    .dataframe tbody tr th {\n",
              "        vertical-align: top;\n",
              "    }\n",
              "\n",
              "    .dataframe thead th {\n",
              "        text-align: right;\n",
              "    }\n",
              "</style>\n",
              "<table border=\"1\" class=\"dataframe\">\n",
              "  <thead>\n",
              "    <tr style=\"text-align: right;\">\n",
              "      <th></th>\n",
              "      <th>Id</th>\n",
              "      <th>EmployeeName</th>\n",
              "      <th>JobTitle</th>\n",
              "      <th>BasePay</th>\n",
              "      <th>OvertimePay</th>\n",
              "      <th>OtherPay</th>\n",
              "      <th>TotalPay</th>\n",
              "      <th>TotalPayBenefits</th>\n",
              "      <th>Year</th>\n",
              "      <th>Agency</th>\n",
              "    </tr>\n",
              "  </thead>\n",
              "  <tbody>\n",
              "    <tr>\n",
              "      <th>17</th>\n",
              "      <td>18</td>\n",
              "      <td>SEBASTIAN WONG</td>\n",
              "      <td>CAPTAIN, EMERGENCYCY MEDICAL SERVICES</td>\n",
              "      <td>140546.87</td>\n",
              "      <td>119397.26</td>\n",
              "      <td>18625.08</td>\n",
              "      <td>278569.21</td>\n",
              "      <td>278569.21</td>\n",
              "      <td>2011.0</td>\n",
              "      <td>San Francisco</td>\n",
              "    </tr>\n",
              "    <tr>\n",
              "      <th>19</th>\n",
              "      <td>20</td>\n",
              "      <td>ELLEN MOFFATT</td>\n",
              "      <td>ASSISTANT MEDICAL EXAMINER</td>\n",
              "      <td>257510.59</td>\n",
              "      <td>880.16</td>\n",
              "      <td>16159.50</td>\n",
              "      <td>274550.25</td>\n",
              "      <td>274550.25</td>\n",
              "      <td>2011.0</td>\n",
              "      <td>San Francisco</td>\n",
              "    </tr>\n",
              "    <tr>\n",
              "      <th>20</th>\n",
              "      <td>21</td>\n",
              "      <td>VENUS AZAR</td>\n",
              "      <td>ASSISTANT MEDICAL EXAMINER</td>\n",
              "      <td>257510.48</td>\n",
              "      <td>0.00</td>\n",
              "      <td>16679.79</td>\n",
              "      <td>274190.27</td>\n",
              "      <td>274190.27</td>\n",
              "      <td>2011.0</td>\n",
              "      <td>San Francisco</td>\n",
              "    </tr>\n",
              "    <tr>\n",
              "      <th>21</th>\n",
              "      <td>22</td>\n",
              "      <td>JUDY MELINEK</td>\n",
              "      <td>ASSISTANT MEDICAL EXAMINER</td>\n",
              "      <td>257510.44</td>\n",
              "      <td>377.21</td>\n",
              "      <td>15883.56</td>\n",
              "      <td>273771.21</td>\n",
              "      <td>273771.21</td>\n",
              "      <td>2011.0</td>\n",
              "      <td>San Francisco</td>\n",
              "    </tr>\n",
              "    <tr>\n",
              "      <th>36</th>\n",
              "      <td>37</td>\n",
              "      <td>SUSAN CURRIN</td>\n",
              "      <td>ADMINISTRATOR, SFGH MEDICAL CENTER</td>\n",
              "      <td>245124.44</td>\n",
              "      <td>0.00</td>\n",
              "      <td>12000.00</td>\n",
              "      <td>257124.44</td>\n",
              "      <td>257124.44</td>\n",
              "      <td>2011.0</td>\n",
              "      <td>San Francisco</td>\n",
              "    </tr>\n",
              "    <tr>\n",
              "      <th>...</th>\n",
              "      <td>...</td>\n",
              "      <td>...</td>\n",
              "      <td>...</td>\n",
              "      <td>...</td>\n",
              "      <td>...</td>\n",
              "      <td>...</td>\n",
              "      <td>...</td>\n",
              "      <td>...</td>\n",
              "      <td>...</td>\n",
              "      <td>...</td>\n",
              "    </tr>\n",
              "    <tr>\n",
              "      <th>35597</th>\n",
              "      <td>35598</td>\n",
              "      <td>JOHN CORTEZ</td>\n",
              "      <td>MEDICAL SOCIAL WORKER</td>\n",
              "      <td>0.00</td>\n",
              "      <td>0.00</td>\n",
              "      <td>672.04</td>\n",
              "      <td>672.04</td>\n",
              "      <td>672.04</td>\n",
              "      <td>2011.0</td>\n",
              "      <td>San Francisco</td>\n",
              "    </tr>\n",
              "    <tr>\n",
              "      <th>35732</th>\n",
              "      <td>35733</td>\n",
              "      <td>NICOLE BARTOLINI</td>\n",
              "      <td>MEDICAL SOCIAL WORKER</td>\n",
              "      <td>516.40</td>\n",
              "      <td>0.00</td>\n",
              "      <td>20.66</td>\n",
              "      <td>537.06</td>\n",
              "      <td>537.06</td>\n",
              "      <td>2011.0</td>\n",
              "      <td>San Francisco</td>\n",
              "    </tr>\n",
              "    <tr>\n",
              "      <th>35764</th>\n",
              "      <td>35765</td>\n",
              "      <td>CRAIG STROOPE</td>\n",
              "      <td>MEDICAL EXAMINER'S INVESTIGATOR I</td>\n",
              "      <td>0.00</td>\n",
              "      <td>0.00</td>\n",
              "      <td>481.02</td>\n",
              "      <td>481.02</td>\n",
              "      <td>481.02</td>\n",
              "      <td>2011.0</td>\n",
              "      <td>San Francisco</td>\n",
              "    </tr>\n",
              "    <tr>\n",
              "      <th>36076</th>\n",
              "      <td>36077</td>\n",
              "      <td>DEBRA TANIS</td>\n",
              "      <td>FIRE RESCUE PARAMEDIC</td>\n",
              "      <td>0.00</td>\n",
              "      <td>0.00</td>\n",
              "      <td>92.21</td>\n",
              "      <td>92.21</td>\n",
              "      <td>92.21</td>\n",
              "      <td>2011.0</td>\n",
              "      <td>San Francisco</td>\n",
              "    </tr>\n",
              "    <tr>\n",
              "      <th>36115</th>\n",
              "      <td>36116</td>\n",
              "      <td>ANTOINETTE GIBSON</td>\n",
              "      <td>MEDICAL EVALUATIONS ASSISTANT</td>\n",
              "      <td>0.00</td>\n",
              "      <td>0.00</td>\n",
              "      <td>42.02</td>\n",
              "      <td>42.02</td>\n",
              "      <td>42.02</td>\n",
              "      <td>2011.0</td>\n",
              "      <td>San Francisco</td>\n",
              "    </tr>\n",
              "  </tbody>\n",
              "</table>\n",
              "<p>739 rows × 10 columns</p>\n",
              "</div>"
            ],
            "text/plain": [
              "          Id       EmployeeName  ...    Year         Agency\n",
              "17        18     SEBASTIAN WONG  ...  2011.0  San Francisco\n",
              "19        20      ELLEN MOFFATT  ...  2011.0  San Francisco\n",
              "20        21         VENUS AZAR  ...  2011.0  San Francisco\n",
              "21        22       JUDY MELINEK  ...  2011.0  San Francisco\n",
              "36        37       SUSAN CURRIN  ...  2011.0  San Francisco\n",
              "...      ...                ...  ...     ...            ...\n",
              "35597  35598        JOHN CORTEZ  ...  2011.0  San Francisco\n",
              "35732  35733   NICOLE BARTOLINI  ...  2011.0  San Francisco\n",
              "35764  35765      CRAIG STROOPE  ...  2011.0  San Francisco\n",
              "36076  36077        DEBRA TANIS  ...  2011.0  San Francisco\n",
              "36115  36116  ANTOINETTE GIBSON  ...  2011.0  San Francisco\n",
              "\n",
              "[739 rows x 10 columns]"
            ]
          },
          "metadata": {
            "tags": []
          },
          "execution_count": 54
        }
      ]
    },
    {
      "cell_type": "code",
      "metadata": {
        "colab": {
          "base_uri": "https://localhost:8080/",
          "height": 754
        },
        "id": "n_Q-Z12MF3uZ",
        "outputId": "849d566c-fc5a-4573-c762-dbff80fd1a7f"
      },
      "source": [
        "# сгруппировала по году\n",
        "\n",
        "med_df['BasePay'] = df['BasePay'].apply(pd.to_numeric, downcast='float', errors='coerce') \n",
        "med_df.groupby(['Year','JobTitle'],as_index=False).mean()"
      ],
      "execution_count": 55,
      "outputs": [
        {
          "output_type": "stream",
          "text": [
            "/usr/local/lib/python3.7/dist-packages/ipykernel_launcher.py:3: SettingWithCopyWarning: \n",
            "A value is trying to be set on a copy of a slice from a DataFrame.\n",
            "Try using .loc[row_indexer,col_indexer] = value instead\n",
            "\n",
            "See the caveats in the documentation: https://pandas.pydata.org/pandas-docs/stable/user_guide/indexing.html#returning-a-view-versus-a-copy\n",
            "  This is separate from the ipykernel package so we can avoid doing imports until\n"
          ],
          "name": "stderr"
        },
        {
          "output_type": "execute_result",
          "data": {
            "text/html": [
              "<div>\n",
              "<style scoped>\n",
              "    .dataframe tbody tr th:only-of-type {\n",
              "        vertical-align: middle;\n",
              "    }\n",
              "\n",
              "    .dataframe tbody tr th {\n",
              "        vertical-align: top;\n",
              "    }\n",
              "\n",
              "    .dataframe thead th {\n",
              "        text-align: right;\n",
              "    }\n",
              "</style>\n",
              "<table border=\"1\" class=\"dataframe\">\n",
              "  <thead>\n",
              "    <tr style=\"text-align: right;\">\n",
              "      <th></th>\n",
              "      <th>Year</th>\n",
              "      <th>JobTitle</th>\n",
              "      <th>Id</th>\n",
              "      <th>BasePay</th>\n",
              "      <th>OvertimePay</th>\n",
              "      <th>OtherPay</th>\n",
              "      <th>TotalPay</th>\n",
              "      <th>TotalPayBenefits</th>\n",
              "    </tr>\n",
              "  </thead>\n",
              "  <tbody>\n",
              "    <tr>\n",
              "      <th>0</th>\n",
              "      <td>2011.0</td>\n",
              "      <td>ADMINISTRATOR, SFGH MEDICAL CENTER</td>\n",
              "      <td>37.000000</td>\n",
              "      <td>245124.440000</td>\n",
              "      <td>0.000000</td>\n",
              "      <td>12000.000000</td>\n",
              "      <td>257124.440000</td>\n",
              "      <td>257124.440000</td>\n",
              "    </tr>\n",
              "    <tr>\n",
              "      <th>1</th>\n",
              "      <td>2011.0</td>\n",
              "      <td>ASSISTANT MEDICAL EXAMINER</td>\n",
              "      <td>3170.400000</td>\n",
              "      <td>199964.568000</td>\n",
              "      <td>251.474000</td>\n",
              "      <td>12577.130000</td>\n",
              "      <td>212793.172000</td>\n",
              "      <td>212793.172000</td>\n",
              "    </tr>\n",
              "    <tr>\n",
              "      <th>2</th>\n",
              "      <td>2011.0</td>\n",
              "      <td>CAPTAIN, EMERGENCYCY MEDICAL SERVICES</td>\n",
              "      <td>2775.208333</td>\n",
              "      <td>131835.131250</td>\n",
              "      <td>24316.274167</td>\n",
              "      <td>17859.551250</td>\n",
              "      <td>174010.956667</td>\n",
              "      <td>174010.956667</td>\n",
              "    </tr>\n",
              "    <tr>\n",
              "      <th>3</th>\n",
              "      <td>2011.0</td>\n",
              "      <td>EMERGENCY MEDICAL SERVICES AGENCY SPECIALIST</td>\n",
              "      <td>17472.833333</td>\n",
              "      <td>63474.136667</td>\n",
              "      <td>0.000000</td>\n",
              "      <td>8974.040000</td>\n",
              "      <td>72448.176667</td>\n",
              "      <td>72448.176667</td>\n",
              "    </tr>\n",
              "    <tr>\n",
              "      <th>4</th>\n",
              "      <td>2011.0</td>\n",
              "      <td>FIRE FIGHTER PARAMEDIC</td>\n",
              "      <td>6230.730897</td>\n",
              "      <td>102572.556246</td>\n",
              "      <td>15239.395714</td>\n",
              "      <td>11616.559136</td>\n",
              "      <td>129428.511096</td>\n",
              "      <td>129428.511096</td>\n",
              "    </tr>\n",
              "    <tr>\n",
              "      <th>5</th>\n",
              "      <td>2011.0</td>\n",
              "      <td>FIRE RESCUE PARAMEDIC</td>\n",
              "      <td>15513.285714</td>\n",
              "      <td>67346.748571</td>\n",
              "      <td>1426.511429</td>\n",
              "      <td>12171.924286</td>\n",
              "      <td>80945.184286</td>\n",
              "      <td>80945.184286</td>\n",
              "    </tr>\n",
              "    <tr>\n",
              "      <th>6</th>\n",
              "      <td>2011.0</td>\n",
              "      <td>MEDICAL EVALUATIONS ASSISTANT</td>\n",
              "      <td>25231.272727</td>\n",
              "      <td>41968.424364</td>\n",
              "      <td>1260.968061</td>\n",
              "      <td>1311.529758</td>\n",
              "      <td>44540.922182</td>\n",
              "      <td>44540.922182</td>\n",
              "    </tr>\n",
              "    <tr>\n",
              "      <th>7</th>\n",
              "      <td>2011.0</td>\n",
              "      <td>MEDICAL EXAMINER'S INVESTIGATOR I</td>\n",
              "      <td>29786.900000</td>\n",
              "      <td>19584.314000</td>\n",
              "      <td>640.706000</td>\n",
              "      <td>518.185000</td>\n",
              "      <td>20743.205000</td>\n",
              "      <td>20743.205000</td>\n",
              "    </tr>\n",
              "    <tr>\n",
              "      <th>8</th>\n",
              "      <td>2011.0</td>\n",
              "      <td>MEDICAL EXAMINER'S INVESTIGATOR II</td>\n",
              "      <td>8875.375000</td>\n",
              "      <td>83139.748750</td>\n",
              "      <td>12349.671250</td>\n",
              "      <td>8333.238750</td>\n",
              "      <td>103822.658750</td>\n",
              "      <td>103822.658750</td>\n",
              "    </tr>\n",
              "    <tr>\n",
              "      <th>9</th>\n",
              "      <td>2011.0</td>\n",
              "      <td>MEDICAL EXAMINER'S INVESTIGATOR III</td>\n",
              "      <td>8301.500000</td>\n",
              "      <td>68877.580000</td>\n",
              "      <td>5702.905000</td>\n",
              "      <td>31607.910000</td>\n",
              "      <td>106188.395000</td>\n",
              "      <td>106188.395000</td>\n",
              "    </tr>\n",
              "    <tr>\n",
              "      <th>10</th>\n",
              "      <td>2011.0</td>\n",
              "      <td>MEDICAL RECORDS CLERK</td>\n",
              "      <td>24419.134615</td>\n",
              "      <td>44681.806731</td>\n",
              "      <td>1531.013462</td>\n",
              "      <td>434.220577</td>\n",
              "      <td>46647.040769</td>\n",
              "      <td>46647.040769</td>\n",
              "    </tr>\n",
              "    <tr>\n",
              "      <th>11</th>\n",
              "      <td>2011.0</td>\n",
              "      <td>MEDICAL RECORDS TECHNICIAN</td>\n",
              "      <td>20523.894737</td>\n",
              "      <td>57200.251842</td>\n",
              "      <td>3127.148158</td>\n",
              "      <td>470.939211</td>\n",
              "      <td>60798.339211</td>\n",
              "      <td>60798.339211</td>\n",
              "    </tr>\n",
              "    <tr>\n",
              "      <th>12</th>\n",
              "      <td>2011.0</td>\n",
              "      <td>MEDICAL RECORDS TECHNICIAN SUPERVISOR</td>\n",
              "      <td>15195.166667</td>\n",
              "      <td>71623.031667</td>\n",
              "      <td>4118.741667</td>\n",
              "      <td>1568.211667</td>\n",
              "      <td>77309.985000</td>\n",
              "      <td>77309.985000</td>\n",
              "    </tr>\n",
              "    <tr>\n",
              "      <th>13</th>\n",
              "      <td>2011.0</td>\n",
              "      <td>MEDICAL SOCIAL WORK SUPERVISOR</td>\n",
              "      <td>10927.000000</td>\n",
              "      <td>93148.996667</td>\n",
              "      <td>0.000000</td>\n",
              "      <td>0.000000</td>\n",
              "      <td>93148.996667</td>\n",
              "      <td>93148.996667</td>\n",
              "    </tr>\n",
              "    <tr>\n",
              "      <th>14</th>\n",
              "      <td>2011.0</td>\n",
              "      <td>MEDICAL SOCIAL WORKER</td>\n",
              "      <td>19559.234043</td>\n",
              "      <td>60308.912660</td>\n",
              "      <td>0.000000</td>\n",
              "      <td>1110.395213</td>\n",
              "      <td>61419.307872</td>\n",
              "      <td>61419.307872</td>\n",
              "    </tr>\n",
              "    <tr>\n",
              "      <th>15</th>\n",
              "      <td>2011.0</td>\n",
              "      <td>MEDICAL STAFF SERVICES DEPARTMENT ANALYST</td>\n",
              "      <td>14756.500000</td>\n",
              "      <td>78912.030000</td>\n",
              "      <td>0.000000</td>\n",
              "      <td>0.000000</td>\n",
              "      <td>78912.030000</td>\n",
              "      <td>78912.030000</td>\n",
              "    </tr>\n",
              "    <tr>\n",
              "      <th>16</th>\n",
              "      <td>2011.0</td>\n",
              "      <td>MEDICAL STAFF SERVICES DEPARTMENT SPECIALIST</td>\n",
              "      <td>21052.250000</td>\n",
              "      <td>59923.957500</td>\n",
              "      <td>0.000000</td>\n",
              "      <td>0.000000</td>\n",
              "      <td>59923.957500</td>\n",
              "      <td>59923.957500</td>\n",
              "    </tr>\n",
              "    <tr>\n",
              "      <th>17</th>\n",
              "      <td>2011.0</td>\n",
              "      <td>MEDICAL TRANSCRIBER TYPIST</td>\n",
              "      <td>21979.400000</td>\n",
              "      <td>56231.602000</td>\n",
              "      <td>177.344000</td>\n",
              "      <td>1245.916000</td>\n",
              "      <td>57654.862000</td>\n",
              "      <td>57654.862000</td>\n",
              "    </tr>\n",
              "    <tr>\n",
              "      <th>18</th>\n",
              "      <td>2011.0</td>\n",
              "      <td>SENIOR MEDICAL SOCIAL WORKER</td>\n",
              "      <td>15004.400000</td>\n",
              "      <td>77743.412000</td>\n",
              "      <td>0.000000</td>\n",
              "      <td>432.660000</td>\n",
              "      <td>78176.072000</td>\n",
              "      <td>78176.072000</td>\n",
              "    </tr>\n",
              "    <tr>\n",
              "      <th>19</th>\n",
              "      <td>2011.0</td>\n",
              "      <td>SENIOR MEDICAL TRANSCRIBER TYPIST</td>\n",
              "      <td>20898.000000</td>\n",
              "      <td>58484.630000</td>\n",
              "      <td>1937.960000</td>\n",
              "      <td>0.000000</td>\n",
              "      <td>60422.590000</td>\n",
              "      <td>60422.590000</td>\n",
              "    </tr>\n",
              "  </tbody>\n",
              "</table>\n",
              "</div>"
            ],
            "text/plain": [
              "      Year  ... TotalPayBenefits\n",
              "0   2011.0  ...    257124.440000\n",
              "1   2011.0  ...    212793.172000\n",
              "2   2011.0  ...    174010.956667\n",
              "3   2011.0  ...     72448.176667\n",
              "4   2011.0  ...    129428.511096\n",
              "5   2011.0  ...     80945.184286\n",
              "6   2011.0  ...     44540.922182\n",
              "7   2011.0  ...     20743.205000\n",
              "8   2011.0  ...    103822.658750\n",
              "9   2011.0  ...    106188.395000\n",
              "10  2011.0  ...     46647.040769\n",
              "11  2011.0  ...     60798.339211\n",
              "12  2011.0  ...     77309.985000\n",
              "13  2011.0  ...     93148.996667\n",
              "14  2011.0  ...     61419.307872\n",
              "15  2011.0  ...     78912.030000\n",
              "16  2011.0  ...     59923.957500\n",
              "17  2011.0  ...     57654.862000\n",
              "18  2011.0  ...     78176.072000\n",
              "19  2011.0  ...     60422.590000\n",
              "\n",
              "[20 rows x 8 columns]"
            ]
          },
          "metadata": {
            "tags": []
          },
          "execution_count": 55
        }
      ]
    },
    {
      "cell_type": "code",
      "metadata": {
        "colab": {
          "base_uri": "https://localhost:8080/"
        },
        "id": "4BwmfzmfFc15",
        "outputId": "08dd9fe2-c3f7-425a-c67e-4917b8be6509"
      },
      "source": [
        "# нашла максимальную зп\n",
        "\n",
        "med_df['BasePay'].max()"
      ],
      "execution_count": 56,
      "outputs": [
        {
          "output_type": "execute_result",
          "data": {
            "text/plain": [
              "257510.59"
            ]
          },
          "metadata": {
            "tags": []
          },
          "execution_count": 56
        }
      ]
    },
    {
      "cell_type": "code",
      "metadata": {
        "colab": {
          "base_uri": "https://localhost:8080/"
        },
        "id": "OobBTtSGFl2K",
        "outputId": "ed8cdd0e-b5e3-44b1-fb74-c064ae63d5c8"
      },
      "source": [
        "# нашла среднее значение зп\n",
        "\n",
        "med_df['BasePay'].mean()"
      ],
      "execution_count": 57,
      "outputs": [
        {
          "output_type": "execute_result",
          "data": {
            "text/plain": [
              "75859.64047361302"
            ]
          },
          "metadata": {
            "tags": []
          },
          "execution_count": 57
        }
      ]
    },
    {
      "cell_type": "code",
      "metadata": {
        "colab": {
          "base_uri": "https://localhost:8080/"
        },
        "id": "b3LT9ERaFtfm",
        "outputId": "a4412293-1bbc-4895-a3fe-a49440e7b6a2"
      },
      "source": [
        "# нашла медианное значение зп\n",
        "\n",
        "med_df['BasePay'].median()"
      ],
      "execution_count": 58,
      "outputs": [
        {
          "output_type": "execute_result",
          "data": {
            "text/plain": [
              "71777.32"
            ]
          },
          "metadata": {
            "tags": []
          },
          "execution_count": 58
        }
      ]
    },
    {
      "cell_type": "code",
      "metadata": {
        "colab": {
          "base_uri": "https://localhost:8080/",
          "height": 426
        },
        "id": "frzEpl2IWkyY",
        "outputId": "43ee2e32-8cb6-441f-e666-81d5972d54f1"
      },
      "source": [
        " # нашла максимальную, медианную и среднюю зп с указанием должности\n",
        "\n",
        "display(med_df[[\"JobTitle\",\"TotalPay\",\"Year\",]].groupby([\"JobTitle\",\"Year\"]).agg([\"max\",'median',\"min\"]).style.background_gradient(cmap=\"CMRmap_r\")) "
      ],
      "execution_count": 59,
      "outputs": [
        {
          "output_type": "display_data",
          "data": {
            "text/html": [
              "<style  type=\"text/css\" >\n",
              "#T_b7251db6_df46_11eb_96a1_0242ac1c0002row0_col0{\n",
              "            background-color:  #1e1e64;\n",
              "            color:  #f1f1f1;\n",
              "        }#T_b7251db6_df46_11eb_96a1_0242ac1c0002row0_col1{\n",
              "            background-color:  #131340;\n",
              "            color:  #f1f1f1;\n",
              "        }#T_b7251db6_df46_11eb_96a1_0242ac1c0002row0_col2,#T_b7251db6_df46_11eb_96a1_0242ac1c0002row1_col1,#T_b7251db6_df46_11eb_96a1_0242ac1c0002row2_col0{\n",
              "            background-color:  #000000;\n",
              "            color:  #f1f1f1;\n",
              "        }#T_b7251db6_df46_11eb_96a1_0242ac1c0002row1_col0{\n",
              "            background-color:  #050510;\n",
              "            color:  #f1f1f1;\n",
              "        }#T_b7251db6_df46_11eb_96a1_0242ac1c0002row1_col2{\n",
              "            background-color:  #e69f0d;\n",
              "            color:  #000000;\n",
              "        }#T_b7251db6_df46_11eb_96a1_0242ac1c0002row2_col1{\n",
              "            background-color:  #9a337e;\n",
              "            color:  #f1f1f1;\n",
              "        }#T_b7251db6_df46_11eb_96a1_0242ac1c0002row2_col2{\n",
              "            background-color:  #f7f7d7;\n",
              "            color:  #000000;\n",
              "        }#T_b7251db6_df46_11eb_96a1_0242ac1c0002row3_col0{\n",
              "            background-color:  #e6ab11;\n",
              "            color:  #000000;\n",
              "        }#T_b7251db6_df46_11eb_96a1_0242ac1c0002row3_col1{\n",
              "            background-color:  #e6c322;\n",
              "            color:  #000000;\n",
              "        }#T_b7251db6_df46_11eb_96a1_0242ac1c0002row3_col2{\n",
              "            background-color:  #f2f2bf;\n",
              "            color:  #000000;\n",
              "        }#T_b7251db6_df46_11eb_96a1_0242ac1c0002row4_col0{\n",
              "            background-color:  #4326b0;\n",
              "            color:  #f1f1f1;\n",
              "        }#T_b7251db6_df46_11eb_96a1_0242ac1c0002row4_col1{\n",
              "            background-color:  #f65718;\n",
              "            color:  #000000;\n",
              "        }#T_b7251db6_df46_11eb_96a1_0242ac1c0002row4_col2{\n",
              "            background-color:  #fefefb;\n",
              "            color:  #000000;\n",
              "        }#T_b7251db6_df46_11eb_96a1_0242ac1c0002row5_col0{\n",
              "            background-color:  #e69709;\n",
              "            color:  #000000;\n",
              "        }#T_b7251db6_df46_11eb_96a1_0242ac1c0002row5_col1{\n",
              "            background-color:  #e6a710;\n",
              "            color:  #000000;\n",
              "        }#T_b7251db6_df46_11eb_96a1_0242ac1c0002row5_col2,#T_b7251db6_df46_11eb_96a1_0242ac1c0002row6_col2,#T_b7251db6_df46_11eb_96a1_0242ac1c0002row7_col1,#T_b7251db6_df46_11eb_96a1_0242ac1c0002row7_col2,#T_b7251db6_df46_11eb_96a1_0242ac1c0002row14_col2,#T_b7251db6_df46_11eb_96a1_0242ac1c0002row16_col0,#T_b7251db6_df46_11eb_96a1_0242ac1c0002row17_col0,#T_b7251db6_df46_11eb_96a1_0242ac1c0002row19_col0{\n",
              "            background-color:  #ffffff;\n",
              "            color:  #000000;\n",
              "        }#T_b7251db6_df46_11eb_96a1_0242ac1c0002row6_col0{\n",
              "            background-color:  #eeeeab;\n",
              "            color:  #000000;\n",
              "        }#T_b7251db6_df46_11eb_96a1_0242ac1c0002row6_col1{\n",
              "            background-color:  #e6e172;\n",
              "            color:  #000000;\n",
              "        }#T_b7251db6_df46_11eb_96a1_0242ac1c0002row7_col0{\n",
              "            background-color:  #fbfbeb;\n",
              "            color:  #000000;\n",
              "        }#T_b7251db6_df46_11eb_96a1_0242ac1c0002row8_col0{\n",
              "            background-color:  #e6b515;\n",
              "            color:  #000000;\n",
              "        }#T_b7251db6_df46_11eb_96a1_0242ac1c0002row8_col1{\n",
              "            background-color:  #e68d05;\n",
              "            color:  #000000;\n",
              "        }#T_b7251db6_df46_11eb_96a1_0242ac1c0002row8_col2{\n",
              "            background-color:  #e6990a;\n",
              "            color:  #000000;\n",
              "        }#T_b7251db6_df46_11eb_96a1_0242ac1c0002row9_col0,#T_b7251db6_df46_11eb_96a1_0242ac1c0002row15_col1{\n",
              "            background-color:  #e6bd18;\n",
              "            color:  #000000;\n",
              "        }#T_b7251db6_df46_11eb_96a1_0242ac1c0002row9_col1,#T_b7251db6_df46_11eb_96a1_0242ac1c0002row13_col2{\n",
              "            background-color:  #e68703;\n",
              "            color:  #000000;\n",
              "        }#T_b7251db6_df46_11eb_96a1_0242ac1c0002row9_col2{\n",
              "            background-color:  #e68101;\n",
              "            color:  #000000;\n",
              "        }#T_b7251db6_df46_11eb_96a1_0242ac1c0002row10_col0{\n",
              "            background-color:  #f5f5cf;\n",
              "            color:  #000000;\n",
              "        }#T_b7251db6_df46_11eb_96a1_0242ac1c0002row10_col1{\n",
              "            background-color:  #e6db62;\n",
              "            color:  #000000;\n",
              "        }#T_b7251db6_df46_11eb_96a1_0242ac1c0002row10_col2{\n",
              "            background-color:  #fcfcef;\n",
              "            color:  #000000;\n",
              "        }#T_b7251db6_df46_11eb_96a1_0242ac1c0002row11_col0,#T_b7251db6_df46_11eb_96a1_0242ac1c0002row14_col0{\n",
              "            background-color:  #ebeb9b;\n",
              "            color:  #000000;\n",
              "        }#T_b7251db6_df46_11eb_96a1_0242ac1c0002row11_col1{\n",
              "            background-color:  #e6d24c;\n",
              "            color:  #000000;\n",
              "        }#T_b7251db6_df46_11eb_96a1_0242ac1c0002row11_col2,#T_b7251db6_df46_11eb_96a1_0242ac1c0002row12_col0{\n",
              "            background-color:  #e9e993;\n",
              "            color:  #000000;\n",
              "        }#T_b7251db6_df46_11eb_96a1_0242ac1c0002row12_col1{\n",
              "            background-color:  #e6c01c;\n",
              "            color:  #000000;\n",
              "        }#T_b7251db6_df46_11eb_96a1_0242ac1c0002row12_col2{\n",
              "            background-color:  #e6b114;\n",
              "            color:  #000000;\n",
              "        }#T_b7251db6_df46_11eb_96a1_0242ac1c0002row13_col0{\n",
              "            background-color:  #e6de6c;\n",
              "            color:  #000000;\n",
              "        }#T_b7251db6_df46_11eb_96a1_0242ac1c0002row13_col1{\n",
              "            background-color:  #e6a10d;\n",
              "            color:  #000000;\n",
              "        }#T_b7251db6_df46_11eb_96a1_0242ac1c0002row14_col1{\n",
              "            background-color:  #e6c11f;\n",
              "            color:  #000000;\n",
              "        }#T_b7251db6_df46_11eb_96a1_0242ac1c0002row15_col0{\n",
              "            background-color:  #ededa7;\n",
              "            color:  #000000;\n",
              "        }#T_b7251db6_df46_11eb_96a1_0242ac1c0002row15_col2{\n",
              "            background-color:  #e6a30e;\n",
              "            color:  #000000;\n",
              "        }#T_b7251db6_df46_11eb_96a1_0242ac1c0002row16_col1{\n",
              "            background-color:  #e6d552;\n",
              "            color:  #000000;\n",
              "        }#T_b7251db6_df46_11eb_96a1_0242ac1c0002row16_col2{\n",
              "            background-color:  #e6c529;\n",
              "            color:  #000000;\n",
              "        }#T_b7251db6_df46_11eb_96a1_0242ac1c0002row17_col1{\n",
              "            background-color:  #e6d85c;\n",
              "            color:  #000000;\n",
              "        }#T_b7251db6_df46_11eb_96a1_0242ac1c0002row17_col2{\n",
              "            background-color:  #e6c932;\n",
              "            color:  #000000;\n",
              "        }#T_b7251db6_df46_11eb_96a1_0242ac1c0002row18_col0{\n",
              "            background-color:  #e8e88b;\n",
              "            color:  #000000;\n",
              "        }#T_b7251db6_df46_11eb_96a1_0242ac1c0002row18_col1,#T_b7251db6_df46_11eb_96a1_0242ac1c0002row18_col2{\n",
              "            background-color:  #e6b716;\n",
              "            color:  #000000;\n",
              "        }#T_b7251db6_df46_11eb_96a1_0242ac1c0002row19_col1{\n",
              "            background-color:  #e6d34f;\n",
              "            color:  #000000;\n",
              "        }#T_b7251db6_df46_11eb_96a1_0242ac1c0002row19_col2{\n",
              "            background-color:  #e6c425;\n",
              "            color:  #000000;\n",
              "        }</style><table id=\"T_b7251db6_df46_11eb_96a1_0242ac1c0002\" ><thead>    <tr>        <th class=\"blank\" ></th>        <th class=\"blank level0\" ></th>        <th class=\"col_heading level0 col0\" colspan=3>TotalPay</th>    </tr>    <tr>        <th class=\"blank\" ></th>        <th class=\"blank level1\" ></th>        <th class=\"col_heading level1 col0\" >max</th>        <th class=\"col_heading level1 col1\" >median</th>        <th class=\"col_heading level1 col2\" >min</th>    </tr>    <tr>        <th class=\"index_name level0\" >JobTitle</th>        <th class=\"index_name level1\" >Year</th>        <th class=\"blank\" ></th>        <th class=\"blank\" ></th>        <th class=\"blank\" ></th>    </tr></thead><tbody>\n",
              "                <tr>\n",
              "                        <th id=\"T_b7251db6_df46_11eb_96a1_0242ac1c0002level0_row0\" class=\"row_heading level0 row0\" >ADMINISTRATOR, SFGH MEDICAL CENTER</th>\n",
              "                        <th id=\"T_b7251db6_df46_11eb_96a1_0242ac1c0002level1_row0\" class=\"row_heading level1 row0\" >2011.0</th>\n",
              "                        <td id=\"T_b7251db6_df46_11eb_96a1_0242ac1c0002row0_col0\" class=\"data row0 col0\" >257124.440000</td>\n",
              "                        <td id=\"T_b7251db6_df46_11eb_96a1_0242ac1c0002row0_col1\" class=\"data row0 col1\" >257124.440000</td>\n",
              "                        <td id=\"T_b7251db6_df46_11eb_96a1_0242ac1c0002row0_col2\" class=\"data row0 col2\" >257124.440000</td>\n",
              "            </tr>\n",
              "            <tr>\n",
              "                        <th id=\"T_b7251db6_df46_11eb_96a1_0242ac1c0002level0_row1\" class=\"row_heading level0 row1\" >ASSISTANT MEDICAL EXAMINER</th>\n",
              "                        <th id=\"T_b7251db6_df46_11eb_96a1_0242ac1c0002level1_row1\" class=\"row_heading level1 row1\" >2011.0</th>\n",
              "                        <td id=\"T_b7251db6_df46_11eb_96a1_0242ac1c0002row1_col0\" class=\"data row1 col0\" >274550.250000</td>\n",
              "                        <td id=\"T_b7251db6_df46_11eb_96a1_0242ac1c0002row1_col1\" class=\"data row1 col1\" >273771.210000</td>\n",
              "                        <td id=\"T_b7251db6_df46_11eb_96a1_0242ac1c0002row1_col2\" class=\"data row1 col2\" >80532.370000</td>\n",
              "            </tr>\n",
              "            <tr>\n",
              "                        <th id=\"T_b7251db6_df46_11eb_96a1_0242ac1c0002level0_row2\" class=\"row_heading level0 row2\" >CAPTAIN, EMERGENCYCY MEDICAL SERVICES</th>\n",
              "                        <th id=\"T_b7251db6_df46_11eb_96a1_0242ac1c0002level1_row2\" class=\"row_heading level1 row2\" >2011.0</th>\n",
              "                        <td id=\"T_b7251db6_df46_11eb_96a1_0242ac1c0002row2_col0\" class=\"data row2 col0\" >278569.210000</td>\n",
              "                        <td id=\"T_b7251db6_df46_11eb_96a1_0242ac1c0002row2_col1\" class=\"data row2 col1\" >175431.245000</td>\n",
              "                        <td id=\"T_b7251db6_df46_11eb_96a1_0242ac1c0002row2_col2\" class=\"data row2 col2\" >11043.490000</td>\n",
              "            </tr>\n",
              "            <tr>\n",
              "                        <th id=\"T_b7251db6_df46_11eb_96a1_0242ac1c0002level0_row3\" class=\"row_heading level0 row3\" >EMERGENCY MEDICAL SERVICES AGENCY SPECIALIST</th>\n",
              "                        <th id=\"T_b7251db6_df46_11eb_96a1_0242ac1c0002level1_row3\" class=\"row_heading level1 row3\" >2011.0</th>\n",
              "                        <td id=\"T_b7251db6_df46_11eb_96a1_0242ac1c0002row3_col0\" class=\"data row3 col0\" >123600.110000</td>\n",
              "                        <td id=\"T_b7251db6_df46_11eb_96a1_0242ac1c0002row3_col1\" class=\"data row3 col1\" >74998.985000</td>\n",
              "                        <td id=\"T_b7251db6_df46_11eb_96a1_0242ac1c0002row3_col2\" class=\"data row3 col2\" >16281.000000</td>\n",
              "            </tr>\n",
              "            <tr>\n",
              "                        <th id=\"T_b7251db6_df46_11eb_96a1_0242ac1c0002level0_row4\" class=\"row_heading level0 row4\" >FIRE FIGHTER PARAMEDIC</th>\n",
              "                        <th id=\"T_b7251db6_df46_11eb_96a1_0242ac1c0002level1_row4\" class=\"row_heading level1 row4\" >2011.0</th>\n",
              "                        <td id=\"T_b7251db6_df46_11eb_96a1_0242ac1c0002row4_col0\" class=\"data row4 col0\" >230543.460000</td>\n",
              "                        <td id=\"T_b7251db6_df46_11eb_96a1_0242ac1c0002row4_col1\" class=\"data row4 col1\" >131094.360000</td>\n",
              "                        <td id=\"T_b7251db6_df46_11eb_96a1_0242ac1c0002row4_col2\" class=\"data row4 col2\" >1718.840000</td>\n",
              "            </tr>\n",
              "            <tr>\n",
              "                        <th id=\"T_b7251db6_df46_11eb_96a1_0242ac1c0002level0_row5\" class=\"row_heading level0 row5\" >FIRE RESCUE PARAMEDIC</th>\n",
              "                        <th id=\"T_b7251db6_df46_11eb_96a1_0242ac1c0002level1_row5\" class=\"row_heading level1 row5\" >2011.0</th>\n",
              "                        <td id=\"T_b7251db6_df46_11eb_96a1_0242ac1c0002row5_col0\" class=\"data row5 col0\" >132030.950000</td>\n",
              "                        <td id=\"T_b7251db6_df46_11eb_96a1_0242ac1c0002row5_col1\" class=\"data row5 col1\" >90575.790000</td>\n",
              "                        <td id=\"T_b7251db6_df46_11eb_96a1_0242ac1c0002row5_col2\" class=\"data row5 col2\" >92.210000</td>\n",
              "            </tr>\n",
              "            <tr>\n",
              "                        <th id=\"T_b7251db6_df46_11eb_96a1_0242ac1c0002level0_row6\" class=\"row_heading level0 row6\" >MEDICAL EVALUATIONS ASSISTANT</th>\n",
              "                        <th id=\"T_b7251db6_df46_11eb_96a1_0242ac1c0002level1_row6\" class=\"row_heading level1 row6\" >2011.0</th>\n",
              "                        <td id=\"T_b7251db6_df46_11eb_96a1_0242ac1c0002row6_col0\" class=\"data row6 col0\" >78304.140000</td>\n",
              "                        <td id=\"T_b7251db6_df46_11eb_96a1_0242ac1c0002row6_col1\" class=\"data row6 col1\" >49174.680000</td>\n",
              "                        <td id=\"T_b7251db6_df46_11eb_96a1_0242ac1c0002row6_col2\" class=\"data row6 col2\" >42.020000</td>\n",
              "            </tr>\n",
              "            <tr>\n",
              "                        <th id=\"T_b7251db6_df46_11eb_96a1_0242ac1c0002level0_row7\" class=\"row_heading level0 row7\" >MEDICAL EXAMINER'S INVESTIGATOR I</th>\n",
              "                        <th id=\"T_b7251db6_df46_11eb_96a1_0242ac1c0002level1_row7\" class=\"row_heading level1 row7\" >2011.0</th>\n",
              "                        <td id=\"T_b7251db6_df46_11eb_96a1_0242ac1c0002row7_col0\" class=\"data row7 col0\" >64879.210000</td>\n",
              "                        <td id=\"T_b7251db6_df46_11eb_96a1_0242ac1c0002row7_col1\" class=\"data row7 col1\" >12098.785000</td>\n",
              "                        <td id=\"T_b7251db6_df46_11eb_96a1_0242ac1c0002row7_col2\" class=\"data row7 col2\" >481.020000</td>\n",
              "            </tr>\n",
              "            <tr>\n",
              "                        <th id=\"T_b7251db6_df46_11eb_96a1_0242ac1c0002level0_row8\" class=\"row_heading level0 row8\" >MEDICAL EXAMINER'S INVESTIGATOR II</th>\n",
              "                        <th id=\"T_b7251db6_df46_11eb_96a1_0242ac1c0002level1_row8\" class=\"row_heading level1 row8\" >2011.0</th>\n",
              "                        <td id=\"T_b7251db6_df46_11eb_96a1_0242ac1c0002row8_col0\" class=\"data row8 col0\" >119267.810000</td>\n",
              "                        <td id=\"T_b7251db6_df46_11eb_96a1_0242ac1c0002row8_col1\" class=\"data row8 col1\" >103346.230000</td>\n",
              "                        <td id=\"T_b7251db6_df46_11eb_96a1_0242ac1c0002row8_col2\" class=\"data row8 col2\" >83815.000000</td>\n",
              "            </tr>\n",
              "            <tr>\n",
              "                        <th id=\"T_b7251db6_df46_11eb_96a1_0242ac1c0002level0_row9\" class=\"row_heading level0 row9\" >MEDICAL EXAMINER'S INVESTIGATOR III</th>\n",
              "                        <th id=\"T_b7251db6_df46_11eb_96a1_0242ac1c0002level1_row9\" class=\"row_heading level1 row9\" >2011.0</th>\n",
              "                        <td id=\"T_b7251db6_df46_11eb_96a1_0242ac1c0002row9_col0\" class=\"data row9 col0\" >116132.040000</td>\n",
              "                        <td id=\"T_b7251db6_df46_11eb_96a1_0242ac1c0002row9_col1\" class=\"data row9 col1\" >106188.395000</td>\n",
              "                        <td id=\"T_b7251db6_df46_11eb_96a1_0242ac1c0002row9_col2\" class=\"data row9 col2\" >96244.750000</td>\n",
              "            </tr>\n",
              "            <tr>\n",
              "                        <th id=\"T_b7251db6_df46_11eb_96a1_0242ac1c0002level0_row10\" class=\"row_heading level0 row10\" >MEDICAL RECORDS CLERK</th>\n",
              "                        <th id=\"T_b7251db6_df46_11eb_96a1_0242ac1c0002level1_row10\" class=\"row_heading level1 row10\" >2011.0</th>\n",
              "                        <td id=\"T_b7251db6_df46_11eb_96a1_0242ac1c0002row10_col0\" class=\"data row10 col0\" >70700.430000</td>\n",
              "                        <td id=\"T_b7251db6_df46_11eb_96a1_0242ac1c0002row10_col1\" class=\"data row10 col1\" >54549.205000</td>\n",
              "                        <td id=\"T_b7251db6_df46_11eb_96a1_0242ac1c0002row10_col2\" class=\"data row10 col2\" >4467.710000</td>\n",
              "            </tr>\n",
              "            <tr>\n",
              "                        <th id=\"T_b7251db6_df46_11eb_96a1_0242ac1c0002level0_row11\" class=\"row_heading level0 row11\" >MEDICAL RECORDS TECHNICIAN</th>\n",
              "                        <th id=\"T_b7251db6_df46_11eb_96a1_0242ac1c0002level1_row11\" class=\"row_heading level1 row11\" >2011.0</th>\n",
              "                        <td id=\"T_b7251db6_df46_11eb_96a1_0242ac1c0002row11_col0\" class=\"data row11 col0\" >81580.460000</td>\n",
              "                        <td id=\"T_b7251db6_df46_11eb_96a1_0242ac1c0002row11_col1\" class=\"data row11 col1\" >62020.015000</td>\n",
              "                        <td id=\"T_b7251db6_df46_11eb_96a1_0242ac1c0002row11_col2\" class=\"data row11 col2\" >27282.920000</td>\n",
              "            </tr>\n",
              "            <tr>\n",
              "                        <th id=\"T_b7251db6_df46_11eb_96a1_0242ac1c0002level0_row12\" class=\"row_heading level0 row12\" >MEDICAL RECORDS TECHNICIAN SUPERVISOR</th>\n",
              "                        <th id=\"T_b7251db6_df46_11eb_96a1_0242ac1c0002level1_row12\" class=\"row_heading level1 row12\" >2011.0</th>\n",
              "                        <td id=\"T_b7251db6_df46_11eb_96a1_0242ac1c0002row12_col0\" class=\"data row12 col0\" >83810.830000</td>\n",
              "                        <td id=\"T_b7251db6_df46_11eb_96a1_0242ac1c0002row12_col1\" class=\"data row12 col1\" >76760.020000</td>\n",
              "                        <td id=\"T_b7251db6_df46_11eb_96a1_0242ac1c0002row12_col2\" class=\"data row12 col2\" >72027.320000</td>\n",
              "            </tr>\n",
              "            <tr>\n",
              "                        <th id=\"T_b7251db6_df46_11eb_96a1_0242ac1c0002level0_row13\" class=\"row_heading level0 row13\" >MEDICAL SOCIAL WORK SUPERVISOR</th>\n",
              "                        <th id=\"T_b7251db6_df46_11eb_96a1_0242ac1c0002level1_row13\" class=\"row_heading level1 row13\" >2011.0</th>\n",
              "                        <td id=\"T_b7251db6_df46_11eb_96a1_0242ac1c0002row13_col0\" class=\"data row13 col0\" >93149.000000</td>\n",
              "                        <td id=\"T_b7251db6_df46_11eb_96a1_0242ac1c0002row13_col1\" class=\"data row13 col1\" >93149.000000</td>\n",
              "                        <td id=\"T_b7251db6_df46_11eb_96a1_0242ac1c0002row13_col2\" class=\"data row13 col2\" >93148.990000</td>\n",
              "            </tr>\n",
              "            <tr>\n",
              "                        <th id=\"T_b7251db6_df46_11eb_96a1_0242ac1c0002level0_row14\" class=\"row_heading level0 row14\" >MEDICAL SOCIAL WORKER</th>\n",
              "                        <th id=\"T_b7251db6_df46_11eb_96a1_0242ac1c0002level1_row14\" class=\"row_heading level1 row14\" >2011.0</th>\n",
              "                        <td id=\"T_b7251db6_df46_11eb_96a1_0242ac1c0002row14_col0\" class=\"data row14 col0\" >81565.030000</td>\n",
              "                        <td id=\"T_b7251db6_df46_11eb_96a1_0242ac1c0002row14_col1\" class=\"data row14 col1\" >76123.700000</td>\n",
              "                        <td id=\"T_b7251db6_df46_11eb_96a1_0242ac1c0002row14_col2\" class=\"data row14 col2\" >537.060000</td>\n",
              "            </tr>\n",
              "            <tr>\n",
              "                        <th id=\"T_b7251db6_df46_11eb_96a1_0242ac1c0002level0_row15\" class=\"row_heading level0 row15\" >MEDICAL STAFF SERVICES DEPARTMENT ANALYST</th>\n",
              "                        <th id=\"T_b7251db6_df46_11eb_96a1_0242ac1c0002level1_row15\" class=\"row_heading level1 row15\" >2011.0</th>\n",
              "                        <td id=\"T_b7251db6_df46_11eb_96a1_0242ac1c0002row15_col0\" class=\"data row15 col0\" >78912.040000</td>\n",
              "                        <td id=\"T_b7251db6_df46_11eb_96a1_0242ac1c0002row15_col1\" class=\"data row15 col1\" >78912.030000</td>\n",
              "                        <td id=\"T_b7251db6_df46_11eb_96a1_0242ac1c0002row15_col2\" class=\"data row15 col2\" >78912.020000</td>\n",
              "            </tr>\n",
              "            <tr>\n",
              "                        <th id=\"T_b7251db6_df46_11eb_96a1_0242ac1c0002level0_row16\" class=\"row_heading level0 row16\" >MEDICAL STAFF SERVICES DEPARTMENT SPECIALIST</th>\n",
              "                        <th id=\"T_b7251db6_df46_11eb_96a1_0242ac1c0002level1_row16\" class=\"row_heading level1 row16\" >2011.0</th>\n",
              "                        <td id=\"T_b7251db6_df46_11eb_96a1_0242ac1c0002row16_col0\" class=\"data row16 col0\" >59924.030000</td>\n",
              "                        <td id=\"T_b7251db6_df46_11eb_96a1_0242ac1c0002row16_col1\" class=\"data row16 col1\" >59923.995000</td>\n",
              "                        <td id=\"T_b7251db6_df46_11eb_96a1_0242ac1c0002row16_col2\" class=\"data row16 col2\" >59923.810000</td>\n",
              "            </tr>\n",
              "            <tr>\n",
              "                        <th id=\"T_b7251db6_df46_11eb_96a1_0242ac1c0002level0_row17\" class=\"row_heading level0 row17\" >MEDICAL TRANSCRIBER TYPIST</th>\n",
              "                        <th id=\"T_b7251db6_df46_11eb_96a1_0242ac1c0002level1_row17\" class=\"row_heading level1 row17\" >2011.0</th>\n",
              "                        <td id=\"T_b7251db6_df46_11eb_96a1_0242ac1c0002row17_col0\" class=\"data row17 col0\" >60206.990000</td>\n",
              "                        <td id=\"T_b7251db6_df46_11eb_96a1_0242ac1c0002row17_col1\" class=\"data row17 col1\" >56860.090000</td>\n",
              "                        <td id=\"T_b7251db6_df46_11eb_96a1_0242ac1c0002row17_col2\" class=\"data row17 col2\" >56855.600000</td>\n",
              "            </tr>\n",
              "            <tr>\n",
              "                        <th id=\"T_b7251db6_df46_11eb_96a1_0242ac1c0002level0_row18\" class=\"row_heading level0 row18\" >SENIOR MEDICAL SOCIAL WORKER</th>\n",
              "                        <th id=\"T_b7251db6_df46_11eb_96a1_0242ac1c0002level1_row18\" class=\"row_heading level1 row18\" >2011.0</th>\n",
              "                        <td id=\"T_b7251db6_df46_11eb_96a1_0242ac1c0002row18_col0\" class=\"data row18 col0\" >85022.980000</td>\n",
              "                        <td id=\"T_b7251db6_df46_11eb_96a1_0242ac1c0002row18_col1\" class=\"data row18 col1\" >82394.200000</td>\n",
              "                        <td id=\"T_b7251db6_df46_11eb_96a1_0242ac1c0002row18_col2\" class=\"data row18 col2\" >68858.070000</td>\n",
              "            </tr>\n",
              "            <tr>\n",
              "                        <th id=\"T_b7251db6_df46_11eb_96a1_0242ac1c0002level0_row19\" class=\"row_heading level0 row19\" >SENIOR MEDICAL TRANSCRIBER TYPIST</th>\n",
              "                        <th id=\"T_b7251db6_df46_11eb_96a1_0242ac1c0002level1_row19\" class=\"row_heading level1 row19\" >2011.0</th>\n",
              "                        <td id=\"T_b7251db6_df46_11eb_96a1_0242ac1c0002row19_col0\" class=\"data row19 col0\" >60422.590000</td>\n",
              "                        <td id=\"T_b7251db6_df46_11eb_96a1_0242ac1c0002row19_col1\" class=\"data row19 col1\" >60422.590000</td>\n",
              "                        <td id=\"T_b7251db6_df46_11eb_96a1_0242ac1c0002row19_col2\" class=\"data row19 col2\" >60422.590000</td>\n",
              "            </tr>\n",
              "    </tbody></table>"
            ],
            "text/plain": [
              "<pandas.io.formats.style.Styler at 0x7f2be7e9ff50>"
            ]
          },
          "metadata": {
            "tags": []
          }
        }
      ]
    },
    {
      "cell_type": "code",
      "metadata": {
        "colab": {
          "base_uri": "https://localhost:8080/",
          "height": 577
        },
        "id": "Gxt0SPlXXqgT",
        "outputId": "8e1b2c62-c7d9-4518-cf88-1a205a3f8cf7"
      },
      "source": [
        "# проиллюстрировала наглядно распределение зп\n",
        "\n",
        "med_df[[\"JobTitle\",\"TotalPay\",\"Year\",]].groupby([\"JobTitle\",\"Year\"]).agg([\"max\",'median',\"min\"]).plot(kind=\"line\",color =[\"orange\",\"black\",\"purple\"]) \n",
        "plt.title(\"TotalPay with each Job Title (max,mean,min)\", fontsize=10)\n",
        "plt.ylabel(\"TotalPay\",fontsize=10)\n",
        "plt.xlabel(\" \")\n",
        "plt.xticks(rotation=90)\n",
        "plt.show()"
      ],
      "execution_count": 60,
      "outputs": [
        {
          "output_type": "display_data",
          "data": {
            "image/png": "[encoded data removed]",
            "text/plain": [
              "<Figure size 432x288 with 1 Axes>"
            ]
          },
          "metadata": {
            "tags": [],
            "needs_background": "light"
          }
        }
      ]
    },
    {
      "cell_type": "code",
      "metadata": {
        "colab": {
          "base_uri": "https://localhost:8080/",
          "height": 406
        },
        "id": "qOaiaJMT_pRv",
        "outputId": "f23acb10-ba37-4263-aafd-8470c52d52b9"
      },
      "source": [
        "# выбрала зарплаты полицейских, сохранила в новый DataFrame\n",
        "\n",
        "t3 = df1.JobTitle.str.contains('POLICE')\n",
        "police_df = df1[t3]\n",
        "police_df"
      ],
      "execution_count": 61,
      "outputs": [
        {
          "output_type": "execute_result",
          "data": {
            "text/html": [
              "<div>\n",
              "<style scoped>\n",
              "    .dataframe tbody tr th:only-of-type {\n",
              "        vertical-align: middle;\n",
              "    }\n",
              "\n",
              "    .dataframe tbody tr th {\n",
              "        vertical-align: top;\n",
              "    }\n",
              "\n",
              "    .dataframe thead th {\n",
              "        text-align: right;\n",
              "    }\n",
              "</style>\n",
              "<table border=\"1\" class=\"dataframe\">\n",
              "  <thead>\n",
              "    <tr style=\"text-align: right;\">\n",
              "      <th></th>\n",
              "      <th>Id</th>\n",
              "      <th>EmployeeName</th>\n",
              "      <th>JobTitle</th>\n",
              "      <th>BasePay</th>\n",
              "      <th>OvertimePay</th>\n",
              "      <th>OtherPay</th>\n",
              "      <th>TotalPay</th>\n",
              "      <th>TotalPayBenefits</th>\n",
              "      <th>Year</th>\n",
              "      <th>Agency</th>\n",
              "    </tr>\n",
              "  </thead>\n",
              "  <tbody>\n",
              "    <tr>\n",
              "      <th>1</th>\n",
              "      <td>2</td>\n",
              "      <td>GARY JIMENEZ</td>\n",
              "      <td>CAPTAIN III (POLICE DEPARTMENT)</td>\n",
              "      <td>155966.02</td>\n",
              "      <td>245131.88</td>\n",
              "      <td>137811.38</td>\n",
              "      <td>538909.28</td>\n",
              "      <td>538909.28</td>\n",
              "      <td>2011.0</td>\n",
              "      <td>San Francisco</td>\n",
              "    </tr>\n",
              "    <tr>\n",
              "      <th>2</th>\n",
              "      <td>3</td>\n",
              "      <td>ALBERT PARDINI</td>\n",
              "      <td>CAPTAIN III (POLICE DEPARTMENT)</td>\n",
              "      <td>212739.13</td>\n",
              "      <td>106088.18</td>\n",
              "      <td>16452.60</td>\n",
              "      <td>335279.91</td>\n",
              "      <td>335279.91</td>\n",
              "      <td>2011.0</td>\n",
              "      <td>San Francisco</td>\n",
              "    </tr>\n",
              "    <tr>\n",
              "      <th>11</th>\n",
              "      <td>12</td>\n",
              "      <td>PATRICIA JACKSON</td>\n",
              "      <td>CAPTAIN III (POLICE DEPARTMENT)</td>\n",
              "      <td>99722.00</td>\n",
              "      <td>87082.62</td>\n",
              "      <td>110804.30</td>\n",
              "      <td>297608.92</td>\n",
              "      <td>297608.92</td>\n",
              "      <td>2011.0</td>\n",
              "      <td>San Francisco</td>\n",
              "    </tr>\n",
              "    <tr>\n",
              "      <th>15</th>\n",
              "      <td>16</td>\n",
              "      <td>RICHARD CORRIEA</td>\n",
              "      <td>COMMANDER III, (POLICE DEPARTMENT)</td>\n",
              "      <td>198778.01</td>\n",
              "      <td>73478.20</td>\n",
              "      <td>13957.65</td>\n",
              "      <td>286213.86</td>\n",
              "      <td>286213.86</td>\n",
              "      <td>2011.0</td>\n",
              "      <td>San Francisco</td>\n",
              "    </tr>\n",
              "    <tr>\n",
              "      <th>25</th>\n",
              "      <td>26</td>\n",
              "      <td>GREGORY SUHR</td>\n",
              "      <td>CHIEF OF POLICE</td>\n",
              "      <td>256470.41</td>\n",
              "      <td>0.00</td>\n",
              "      <td>11522.18</td>\n",
              "      <td>267992.59</td>\n",
              "      <td>267992.59</td>\n",
              "      <td>2011.0</td>\n",
              "      <td>San Francisco</td>\n",
              "    </tr>\n",
              "    <tr>\n",
              "      <th>...</th>\n",
              "      <td>...</td>\n",
              "      <td>...</td>\n",
              "      <td>...</td>\n",
              "      <td>...</td>\n",
              "      <td>...</td>\n",
              "      <td>...</td>\n",
              "      <td>...</td>\n",
              "      <td>...</td>\n",
              "      <td>...</td>\n",
              "      <td>...</td>\n",
              "    </tr>\n",
              "    <tr>\n",
              "      <th>35131</th>\n",
              "      <td>35132</td>\n",
              "      <td>CYNTHIA HAYNES-EPPERSON</td>\n",
              "      <td>SENIOR POLICE COMMUNICATIONS DISPATCHER</td>\n",
              "      <td>1006.40</td>\n",
              "      <td>0.00</td>\n",
              "      <td>361.82</td>\n",
              "      <td>1368.22</td>\n",
              "      <td>1368.22</td>\n",
              "      <td>2011.0</td>\n",
              "      <td>San Francisco</td>\n",
              "    </tr>\n",
              "    <tr>\n",
              "      <th>35151</th>\n",
              "      <td>35152</td>\n",
              "      <td>LYNN BLOOM</td>\n",
              "      <td>POLICE SERVICES AIDE</td>\n",
              "      <td>0.00</td>\n",
              "      <td>0.00</td>\n",
              "      <td>1324.80</td>\n",
              "      <td>1324.80</td>\n",
              "      <td>1324.80</td>\n",
              "      <td>2011.0</td>\n",
              "      <td>San Francisco</td>\n",
              "    </tr>\n",
              "    <tr>\n",
              "      <th>35318</th>\n",
              "      <td>35319</td>\n",
              "      <td>ROBERT CHAPMAN</td>\n",
              "      <td>POLICE OFFICER III</td>\n",
              "      <td>0.00</td>\n",
              "      <td>0.00</td>\n",
              "      <td>1088.00</td>\n",
              "      <td>1088.00</td>\n",
              "      <td>1088.00</td>\n",
              "      <td>2011.0</td>\n",
              "      <td>San Francisco</td>\n",
              "    </tr>\n",
              "    <tr>\n",
              "      <th>35671</th>\n",
              "      <td>35672</td>\n",
              "      <td>RUSSELL MATLI</td>\n",
              "      <td>POLICE OFFICER III</td>\n",
              "      <td>0.00</td>\n",
              "      <td>0.00</td>\n",
              "      <td>597.31</td>\n",
              "      <td>597.31</td>\n",
              "      <td>597.31</td>\n",
              "      <td>2011.0</td>\n",
              "      <td>San Francisco</td>\n",
              "    </tr>\n",
              "    <tr>\n",
              "      <th>35902</th>\n",
              "      <td>35903</td>\n",
              "      <td>SUSAN ROTH</td>\n",
              "      <td>SERGEANT III (POLICE DEPARTMENT)</td>\n",
              "      <td>0.00</td>\n",
              "      <td>0.00</td>\n",
              "      <td>283.86</td>\n",
              "      <td>283.86</td>\n",
              "      <td>283.86</td>\n",
              "      <td>2011.0</td>\n",
              "      <td>San Francisco</td>\n",
              "    </tr>\n",
              "  </tbody>\n",
              "</table>\n",
              "<p>2512 rows × 10 columns</p>\n",
              "</div>"
            ],
            "text/plain": [
              "          Id             EmployeeName  ...    Year         Agency\n",
              "1          2             GARY JIMENEZ  ...  2011.0  San Francisco\n",
              "2          3           ALBERT PARDINI  ...  2011.0  San Francisco\n",
              "11        12         PATRICIA JACKSON  ...  2011.0  San Francisco\n",
              "15        16          RICHARD CORRIEA  ...  2011.0  San Francisco\n",
              "25        26             GREGORY SUHR  ...  2011.0  San Francisco\n",
              "...      ...                      ...  ...     ...            ...\n",
              "35131  35132  CYNTHIA HAYNES-EPPERSON  ...  2011.0  San Francisco\n",
              "35151  35152               LYNN BLOOM  ...  2011.0  San Francisco\n",
              "35318  35319           ROBERT CHAPMAN  ...  2011.0  San Francisco\n",
              "35671  35672            RUSSELL MATLI  ...  2011.0  San Francisco\n",
              "35902  35903               SUSAN ROTH  ...  2011.0  San Francisco\n",
              "\n",
              "[2512 rows x 10 columns]"
            ]
          },
          "metadata": {
            "tags": []
          },
          "execution_count": 61
        }
      ]
    },
    {
      "cell_type": "code",
      "metadata": {
        "colab": {
          "base_uri": "https://localhost:8080/",
          "height": 934
        },
        "id": "fD8rPC0rF_hG",
        "outputId": "0f2cee9e-6a4b-4ea3-d636-7e89b97cac9a"
      },
      "source": [
        "# сгруппировала по году\n",
        "\n",
        "police_df['BasePay'] = df['BasePay'].apply(pd.to_numeric, downcast='float', errors='coerce')\n",
        "police_df.groupby(['Year','JobTitle'],as_index=False).mean()"
      ],
      "execution_count": 62,
      "outputs": [
        {
          "output_type": "stream",
          "text": [
            "/usr/local/lib/python3.7/dist-packages/ipykernel_launcher.py:3: SettingWithCopyWarning: \n",
            "A value is trying to be set on a copy of a slice from a DataFrame.\n",
            "Try using .loc[row_indexer,col_indexer] = value instead\n",
            "\n",
            "See the caveats in the documentation: https://pandas.pydata.org/pandas-docs/stable/user_guide/indexing.html#returning-a-view-versus-a-copy\n",
            "  This is separate from the ipykernel package so we can avoid doing imports until\n"
          ],
          "name": "stderr"
        },
        {
          "output_type": "execute_result",
          "data": {
            "text/html": [
              "<div>\n",
              "<style scoped>\n",
              "    .dataframe tbody tr th:only-of-type {\n",
              "        vertical-align: middle;\n",
              "    }\n",
              "\n",
              "    .dataframe tbody tr th {\n",
              "        vertical-align: top;\n",
              "    }\n",
              "\n",
              "    .dataframe thead th {\n",
              "        text-align: right;\n",
              "    }\n",
              "</style>\n",
              "<table border=\"1\" class=\"dataframe\">\n",
              "  <thead>\n",
              "    <tr style=\"text-align: right;\">\n",
              "      <th></th>\n",
              "      <th>Year</th>\n",
              "      <th>JobTitle</th>\n",
              "      <th>Id</th>\n",
              "      <th>BasePay</th>\n",
              "      <th>OvertimePay</th>\n",
              "      <th>OtherPay</th>\n",
              "      <th>TotalPay</th>\n",
              "      <th>TotalPayBenefits</th>\n",
              "    </tr>\n",
              "  </thead>\n",
              "  <tbody>\n",
              "    <tr>\n",
              "      <th>0</th>\n",
              "      <td>2011.0</td>\n",
              "      <td>AIRPORT POLICE SERVICES AIDE</td>\n",
              "      <td>20580.267380</td>\n",
              "      <td>51178.742834</td>\n",
              "      <td>5478.936096</td>\n",
              "      <td>3472.252353</td>\n",
              "      <td>60129.931283</td>\n",
              "      <td>60129.931283</td>\n",
              "    </tr>\n",
              "    <tr>\n",
              "      <th>1</th>\n",
              "      <td>2011.0</td>\n",
              "      <td>ASSISTANT INSPECTOR (POLICE DEPARTMENT)</td>\n",
              "      <td>434.000000</td>\n",
              "      <td>123169.950000</td>\n",
              "      <td>45679.840000</td>\n",
              "      <td>20149.410000</td>\n",
              "      <td>188999.200000</td>\n",
              "      <td>188999.200000</td>\n",
              "    </tr>\n",
              "    <tr>\n",
              "      <th>2</th>\n",
              "      <td>2011.0</td>\n",
              "      <td>ASSISTANT INSPECTOR II (POLICE DEPARTMENT)</td>\n",
              "      <td>2250.100000</td>\n",
              "      <td>127866.102000</td>\n",
              "      <td>13547.629000</td>\n",
              "      <td>9475.130000</td>\n",
              "      <td>150888.861000</td>\n",
              "      <td>150888.861000</td>\n",
              "    </tr>\n",
              "    <tr>\n",
              "      <th>3</th>\n",
              "      <td>2011.0</td>\n",
              "      <td>ASSISTANT INSPECTOR III (POLICE DEPARTMENT)</td>\n",
              "      <td>2183.888889</td>\n",
              "      <td>130479.954444</td>\n",
              "      <td>13373.892222</td>\n",
              "      <td>8817.368889</td>\n",
              "      <td>152671.215556</td>\n",
              "      <td>152671.215556</td>\n",
              "    </tr>\n",
              "    <tr>\n",
              "      <th>4</th>\n",
              "      <td>2011.0</td>\n",
              "      <td>CAPTAIN III (POLICE DEPARTMENT)</td>\n",
              "      <td>670.189189</td>\n",
              "      <td>170183.408649</td>\n",
              "      <td>15874.425405</td>\n",
              "      <td>25726.059189</td>\n",
              "      <td>211783.893243</td>\n",
              "      <td>211783.893243</td>\n",
              "    </tr>\n",
              "    <tr>\n",
              "      <th>5</th>\n",
              "      <td>2011.0</td>\n",
              "      <td>CHIEF OF POLICE</td>\n",
              "      <td>26.000000</td>\n",
              "      <td>256470.410000</td>\n",
              "      <td>0.000000</td>\n",
              "      <td>11522.180000</td>\n",
              "      <td>267992.590000</td>\n",
              "      <td>267992.590000</td>\n",
              "    </tr>\n",
              "    <tr>\n",
              "      <th>6</th>\n",
              "      <td>2011.0</td>\n",
              "      <td>COMMANDER III, (POLICE DEPARTMENT)</td>\n",
              "      <td>731.571429</td>\n",
              "      <td>167042.752857</td>\n",
              "      <td>15796.962857</td>\n",
              "      <td>22296.791429</td>\n",
              "      <td>205136.507143</td>\n",
              "      <td>205136.507143</td>\n",
              "    </tr>\n",
              "    <tr>\n",
              "      <th>7</th>\n",
              "      <td>2011.0</td>\n",
              "      <td>DEPUTY CHIEF III (POLICE DEPARTMENT)</td>\n",
              "      <td>47.000000</td>\n",
              "      <td>219758.726000</td>\n",
              "      <td>0.000000</td>\n",
              "      <td>30267.762000</td>\n",
              "      <td>250026.488000</td>\n",
              "      <td>250026.488000</td>\n",
              "    </tr>\n",
              "    <tr>\n",
              "      <th>8</th>\n",
              "      <td>2011.0</td>\n",
              "      <td>INSPECTOR II, (POLICE DEPARTMENT)</td>\n",
              "      <td>2698.666667</td>\n",
              "      <td>128145.436667</td>\n",
              "      <td>9213.790000</td>\n",
              "      <td>6923.510000</td>\n",
              "      <td>144282.736667</td>\n",
              "      <td>144282.736667</td>\n",
              "    </tr>\n",
              "    <tr>\n",
              "      <th>9</th>\n",
              "      <td>2011.0</td>\n",
              "      <td>INSPECTOR III, (POLICE DEPARTMENT)</td>\n",
              "      <td>2461.481481</td>\n",
              "      <td>120294.284259</td>\n",
              "      <td>14408.287593</td>\n",
              "      <td>19423.711605</td>\n",
              "      <td>154126.283457</td>\n",
              "      <td>154126.283457</td>\n",
              "    </tr>\n",
              "    <tr>\n",
              "      <th>10</th>\n",
              "      <td>2011.0</td>\n",
              "      <td>INSPECTOR, (POLICE DEPARTMENT)</td>\n",
              "      <td>1613.000000</td>\n",
              "      <td>123178.880000</td>\n",
              "      <td>17560.220000</td>\n",
              "      <td>18759.885000</td>\n",
              "      <td>159498.985000</td>\n",
              "      <td>159498.985000</td>\n",
              "    </tr>\n",
              "    <tr>\n",
              "      <th>11</th>\n",
              "      <td>2011.0</td>\n",
              "      <td>INSTITUTIONAL POLICE LIEUTENANT</td>\n",
              "      <td>21321.000000</td>\n",
              "      <td>49215.620000</td>\n",
              "      <td>2563.460000</td>\n",
              "      <td>7463.510000</td>\n",
              "      <td>59242.590000</td>\n",
              "      <td>59242.590000</td>\n",
              "    </tr>\n",
              "    <tr>\n",
              "      <th>12</th>\n",
              "      <td>2011.0</td>\n",
              "      <td>INSTITUTIONAL POLICE OFFICER</td>\n",
              "      <td>16592.230769</td>\n",
              "      <td>55309.311538</td>\n",
              "      <td>14262.680000</td>\n",
              "      <td>3194.992308</td>\n",
              "      <td>72766.983846</td>\n",
              "      <td>72766.983846</td>\n",
              "    </tr>\n",
              "    <tr>\n",
              "      <th>13</th>\n",
              "      <td>2011.0</td>\n",
              "      <td>INSTITUTIONAL POLICE SERGEANT</td>\n",
              "      <td>5158.000000</td>\n",
              "      <td>102973.985000</td>\n",
              "      <td>20196.030000</td>\n",
              "      <td>3802.055000</td>\n",
              "      <td>126972.070000</td>\n",
              "      <td>126972.070000</td>\n",
              "    </tr>\n",
              "    <tr>\n",
              "      <th>14</th>\n",
              "      <td>2011.0</td>\n",
              "      <td>LIEUTENANT I, (POLICE DEPARTMENT)</td>\n",
              "      <td>1956.000000</td>\n",
              "      <td>140654.870000</td>\n",
              "      <td>12244.430000</td>\n",
              "      <td>896.430000</td>\n",
              "      <td>153795.730000</td>\n",
              "      <td>153795.730000</td>\n",
              "    </tr>\n",
              "    <tr>\n",
              "      <th>15</th>\n",
              "      <td>2011.0</td>\n",
              "      <td>LIEUTENANT II (POLICE DEPARTMENT)</td>\n",
              "      <td>2038.000000</td>\n",
              "      <td>54505.380000</td>\n",
              "      <td>0.000000</td>\n",
              "      <td>98480.010000</td>\n",
              "      <td>152985.390000</td>\n",
              "      <td>152985.390000</td>\n",
              "    </tr>\n",
              "    <tr>\n",
              "      <th>16</th>\n",
              "      <td>2011.0</td>\n",
              "      <td>LIEUTENANT III (POLICE DEPARTMENT)</td>\n",
              "      <td>1505.224490</td>\n",
              "      <td>139491.858571</td>\n",
              "      <td>13092.981939</td>\n",
              "      <td>14395.435102</td>\n",
              "      <td>166980.275612</td>\n",
              "      <td>166980.275612</td>\n",
              "    </tr>\n",
              "    <tr>\n",
              "      <th>17</th>\n",
              "      <td>2011.0</td>\n",
              "      <td>POLICE COMMUNICATIONS SHIFT SUPERVISOR</td>\n",
              "      <td>9844.875000</td>\n",
              "      <td>86923.021250</td>\n",
              "      <td>3327.248750</td>\n",
              "      <td>8720.057500</td>\n",
              "      <td>98970.327500</td>\n",
              "      <td>98970.327500</td>\n",
              "    </tr>\n",
              "    <tr>\n",
              "      <th>18</th>\n",
              "      <td>2011.0</td>\n",
              "      <td>POLICE OFFICER I</td>\n",
              "      <td>7176.948608</td>\n",
              "      <td>97257.355953</td>\n",
              "      <td>7123.243940</td>\n",
              "      <td>9782.614411</td>\n",
              "      <td>114163.214304</td>\n",
              "      <td>114163.214304</td>\n",
              "    </tr>\n",
              "    <tr>\n",
              "      <th>19</th>\n",
              "      <td>2011.0</td>\n",
              "      <td>POLICE OFFICER II</td>\n",
              "      <td>5775.952909</td>\n",
              "      <td>103341.248615</td>\n",
              "      <td>8154.091939</td>\n",
              "      <td>11787.403130</td>\n",
              "      <td>123282.743684</td>\n",
              "      <td>123282.743684</td>\n",
              "    </tr>\n",
              "    <tr>\n",
              "      <th>20</th>\n",
              "      <td>2011.0</td>\n",
              "      <td>POLICE OFFICER III</td>\n",
              "      <td>5518.667522</td>\n",
              "      <td>106324.644365</td>\n",
              "      <td>8380.226470</td>\n",
              "      <td>13129.525083</td>\n",
              "      <td>127834.395918</td>\n",
              "      <td>127834.395918</td>\n",
              "    </tr>\n",
              "    <tr>\n",
              "      <th>21</th>\n",
              "      <td>2011.0</td>\n",
              "      <td>POLICE SERVICES AIDE</td>\n",
              "      <td>26325.500000</td>\n",
              "      <td>30919.095000</td>\n",
              "      <td>2229.895000</td>\n",
              "      <td>2443.700000</td>\n",
              "      <td>35592.690000</td>\n",
              "      <td>35592.690000</td>\n",
              "    </tr>\n",
              "    <tr>\n",
              "      <th>22</th>\n",
              "      <td>2011.0</td>\n",
              "      <td>SENIOR POLICE COMMUNICATIONS DISPATCHER</td>\n",
              "      <td>10923.416667</td>\n",
              "      <td>78925.361667</td>\n",
              "      <td>9970.508333</td>\n",
              "      <td>7149.751250</td>\n",
              "      <td>96045.621250</td>\n",
              "      <td>96045.621250</td>\n",
              "    </tr>\n",
              "    <tr>\n",
              "      <th>23</th>\n",
              "      <td>2011.0</td>\n",
              "      <td>SERGEANT I (POLICE DEPARTMENT)</td>\n",
              "      <td>2887.058824</td>\n",
              "      <td>120720.923529</td>\n",
              "      <td>12046.225882</td>\n",
              "      <td>14917.391765</td>\n",
              "      <td>147684.541176</td>\n",
              "      <td>147684.541176</td>\n",
              "    </tr>\n",
              "    <tr>\n",
              "      <th>24</th>\n",
              "      <td>2011.0</td>\n",
              "      <td>SERGEANT II (POLICE DEPARTMENT)</td>\n",
              "      <td>2600.263158</td>\n",
              "      <td>126354.654737</td>\n",
              "      <td>10318.805263</td>\n",
              "      <td>10180.875263</td>\n",
              "      <td>146854.335263</td>\n",
              "      <td>146854.335263</td>\n",
              "    </tr>\n",
              "    <tr>\n",
              "      <th>25</th>\n",
              "      <td>2011.0</td>\n",
              "      <td>SERGEANT III (POLICE DEPARTMENT)</td>\n",
              "      <td>2485.284746</td>\n",
              "      <td>127600.584203</td>\n",
              "      <td>9530.638678</td>\n",
              "      <td>14191.748237</td>\n",
              "      <td>151322.971119</td>\n",
              "      <td>151322.971119</td>\n",
              "    </tr>\n",
              "  </tbody>\n",
              "</table>\n",
              "</div>"
            ],
            "text/plain": [
              "      Year  ... TotalPayBenefits\n",
              "0   2011.0  ...     60129.931283\n",
              "1   2011.0  ...    188999.200000\n",
              "2   2011.0  ...    150888.861000\n",
              "3   2011.0  ...    152671.215556\n",
              "4   2011.0  ...    211783.893243\n",
              "5   2011.0  ...    267992.590000\n",
              "6   2011.0  ...    205136.507143\n",
              "7   2011.0  ...    250026.488000\n",
              "8   2011.0  ...    144282.736667\n",
              "9   2011.0  ...    154126.283457\n",
              "10  2011.0  ...    159498.985000\n",
              "11  2011.0  ...     59242.590000\n",
              "12  2011.0  ...     72766.983846\n",
              "13  2011.0  ...    126972.070000\n",
              "14  2011.0  ...    153795.730000\n",
              "15  2011.0  ...    152985.390000\n",
              "16  2011.0  ...    166980.275612\n",
              "17  2011.0  ...     98970.327500\n",
              "18  2011.0  ...    114163.214304\n",
              "19  2011.0  ...    123282.743684\n",
              "20  2011.0  ...    127834.395918\n",
              "21  2011.0  ...     35592.690000\n",
              "22  2011.0  ...     96045.621250\n",
              "23  2011.0  ...    147684.541176\n",
              "24  2011.0  ...    146854.335263\n",
              "25  2011.0  ...    151322.971119\n",
              "\n",
              "[26 rows x 8 columns]"
            ]
          },
          "metadata": {
            "tags": []
          },
          "execution_count": 62
        }
      ]
    },
    {
      "cell_type": "code",
      "metadata": {
        "colab": {
          "base_uri": "https://localhost:8080/"
        },
        "id": "H_jh4XzIGJSE",
        "outputId": "c51421ed-f43f-408d-f1d6-04e1f6cfdb7b"
      },
      "source": [
        "# нашла максимальную зп\n",
        "\n",
        "police_df['BasePay'].max()"
      ],
      "execution_count": 63,
      "outputs": [
        {
          "output_type": "execute_result",
          "data": {
            "text/plain": [
              "261717.6"
            ]
          },
          "metadata": {
            "tags": []
          },
          "execution_count": 63
        }
      ]
    },
    {
      "cell_type": "code",
      "metadata": {
        "colab": {
          "base_uri": "https://localhost:8080/"
        },
        "id": "KSIqqfZYGVT_",
        "outputId": "bb982390-50c3-4e21-9a49-6cc5e9dbbd00"
      },
      "source": [
        "# нашла среднее значение зп\n",
        "\n",
        "police_df['BasePay'].mean()"
      ],
      "execution_count": 64,
      "outputs": [
        {
          "output_type": "execute_result",
          "data": {
            "text/plain": [
              "105981.21477308912"
            ]
          },
          "metadata": {
            "tags": []
          },
          "execution_count": 64
        }
      ]
    },
    {
      "cell_type": "code",
      "metadata": {
        "colab": {
          "base_uri": "https://localhost:8080/"
        },
        "id": "Ib0binlJGYHy",
        "outputId": "b2de74cd-17bc-4126-f222-a760e1851cbd"
      },
      "source": [
        "# нашла медианную зп\n",
        "\n",
        "police_df['BasePay'].median()"
      ],
      "execution_count": 65,
      "outputs": [
        {
          "output_type": "execute_result",
          "data": {
            "text/plain": [
              "111976.14"
            ]
          },
          "metadata": {
            "tags": []
          },
          "execution_count": 65
        }
      ]
    },
    {
      "cell_type": "code",
      "metadata": {
        "colab": {
          "base_uri": "https://localhost:8080/",
          "height": 533
        },
        "id": "npjsXyYhWsnh",
        "outputId": "ea45b38e-4c4b-428d-e25c-ae3f954da1c7"
      },
      "source": [
        "# нашла максимальную, минимальную и среднюю зп с указанием должности\n",
        "\n",
        "display(police_df[[\"JobTitle\",\"TotalPay\",\"Year\",]].groupby([\"JobTitle\",\"Year\"]).agg([\"max\",'median',\"min\"]).style.background_gradient(cmap=\"CMRmap_r\"))"
      ],
      "execution_count": 66,
      "outputs": [
        {
          "output_type": "display_data",
          "data": {
            "text/html": [
              "<style  type=\"text/css\" >\n",
              "#T_c2777452_df46_11eb_96a1_0242ac1c0002row0_col0{\n",
              "            background-color:  #f2f2bf;\n",
              "            color:  #000000;\n",
              "        }#T_c2777452_df46_11eb_96a1_0242ac1c0002row0_col1{\n",
              "            background-color:  #e8e88b;\n",
              "            color:  #000000;\n",
              "        }#T_c2777452_df46_11eb_96a1_0242ac1c0002row0_col2,#T_c2777452_df46_11eb_96a1_0242ac1c0002row18_col2{\n",
              "            background-color:  #fdfdf7;\n",
              "            color:  #000000;\n",
              "        }#T_c2777452_df46_11eb_96a1_0242ac1c0002row1_col0{\n",
              "            background-color:  #e6b515;\n",
              "            color:  #000000;\n",
              "        }#T_c2777452_df46_11eb_96a1_0242ac1c0002row1_col1{\n",
              "            background-color:  #843091;\n",
              "            color:  #f1f1f1;\n",
              "        }#T_c2777452_df46_11eb_96a1_0242ac1c0002row1_col2{\n",
              "            background-color:  #682ba9;\n",
              "            color:  #f1f1f1;\n",
              "        }#T_c2777452_df46_11eb_96a1_0242ac1c0002row2_col0,#T_c2777452_df46_11eb_96a1_0242ac1c0002row11_col2{\n",
              "            background-color:  #e6c932;\n",
              "            color:  #000000;\n",
              "        }#T_c2777452_df46_11eb_96a1_0242ac1c0002row2_col1,#T_c2777452_df46_11eb_96a1_0242ac1c0002row6_col2{\n",
              "            background-color:  #ff4126;\n",
              "            color:  #f1f1f1;\n",
              "        }#T_c2777452_df46_11eb_96a1_0242ac1c0002row2_col2,#T_c2777452_df46_11eb_96a1_0242ac1c0002row25_col1{\n",
              "            background-color:  #fb4921;\n",
              "            color:  #000000;\n",
              "        }#T_c2777452_df46_11eb_96a1_0242ac1c0002row3_col0{\n",
              "            background-color:  #e6b917;\n",
              "            color:  #000000;\n",
              "        }#T_c2777452_df46_11eb_96a1_0242ac1c0002row3_col1{\n",
              "            background-color:  #fe4324;\n",
              "            color:  #000000;\n",
              "        }#T_c2777452_df46_11eb_96a1_0242ac1c0002row3_col2{\n",
              "            background-color:  #f43e30;\n",
              "            color:  #f1f1f1;\n",
              "        }#T_c2777452_df46_11eb_96a1_0242ac1c0002row4_col0,#T_c2777452_df46_11eb_96a1_0242ac1c0002row5_col1,#T_c2777452_df46_11eb_96a1_0242ac1c0002row5_col2{\n",
              "            background-color:  #000000;\n",
              "            color:  #f1f1f1;\n",
              "        }#T_c2777452_df46_11eb_96a1_0242ac1c0002row4_col1{\n",
              "            background-color:  #6a2ba7;\n",
              "            color:  #f1f1f1;\n",
              "        }#T_c2777452_df46_11eb_96a1_0242ac1c0002row4_col2,#T_c2777452_df46_11eb_96a1_0242ac1c0002row18_col1{\n",
              "            background-color:  #e69107;\n",
              "            color:  #000000;\n",
              "        }#T_c2777452_df46_11eb_96a1_0242ac1c0002row5_col0{\n",
              "            background-color:  #f26112;\n",
              "            color:  #000000;\n",
              "        }#T_c2777452_df46_11eb_96a1_0242ac1c0002row6_col0{\n",
              "            background-color:  #fa4d1e;\n",
              "            color:  #000000;\n",
              "        }#T_c2777452_df46_11eb_96a1_0242ac1c0002row6_col1{\n",
              "            background-color:  #4a26bc;\n",
              "            color:  #f1f1f1;\n",
              "        }#T_c2777452_df46_11eb_96a1_0242ac1c0002row7_col0,#T_c2777452_df46_11eb_96a1_0242ac1c0002row23_col2{\n",
              "            background-color:  #f06510;\n",
              "            color:  #000000;\n",
              "        }#T_c2777452_df46_11eb_96a1_0242ac1c0002row7_col1{\n",
              "            background-color:  #191954;\n",
              "            color:  #f1f1f1;\n",
              "        }#T_c2777452_df46_11eb_96a1_0242ac1c0002row7_col2{\n",
              "            background-color:  #242478;\n",
              "            color:  #f1f1f1;\n",
              "        }#T_c2777452_df46_11eb_96a1_0242ac1c0002row8_col0{\n",
              "            background-color:  #e6d552;\n",
              "            color:  #000000;\n",
              "        }#T_c2777452_df46_11eb_96a1_0242ac1c0002row8_col1{\n",
              "            background-color:  #f8511c;\n",
              "            color:  #000000;\n",
              "        }#T_c2777452_df46_11eb_96a1_0242ac1c0002row8_col2{\n",
              "            background-color:  #e73d3b;\n",
              "            color:  #f1f1f1;\n",
              "        }#T_c2777452_df46_11eb_96a1_0242ac1c0002row9_col0{\n",
              "            background-color:  #ee6b0c;\n",
              "            color:  #000000;\n",
              "        }#T_c2777452_df46_11eb_96a1_0242ac1c0002row9_col1,#T_c2777452_df46_11eb_96a1_0242ac1c0002row24_col2{\n",
              "            background-color:  #fd4523;\n",
              "            color:  #000000;\n",
              "        }#T_c2777452_df46_11eb_96a1_0242ac1c0002row9_col2{\n",
              "            background-color:  #e6b716;\n",
              "            color:  #000000;\n",
              "        }#T_c2777452_df46_11eb_96a1_0242ac1c0002row10_col0{\n",
              "            background-color:  #e6ca35;\n",
              "            color:  #000000;\n",
              "        }#T_c2777452_df46_11eb_96a1_0242ac1c0002row10_col1{\n",
              "            background-color:  #e43c3e;\n",
              "            color:  #f1f1f1;\n",
              "        }#T_c2777452_df46_11eb_96a1_0242ac1c0002row10_col2{\n",
              "            background-color:  #bd3860;\n",
              "            color:  #f1f1f1;\n",
              "        }#T_c2777452_df46_11eb_96a1_0242ac1c0002row11_col0,#T_c2777452_df46_11eb_96a1_0242ac1c0002row20_col2,#T_c2777452_df46_11eb_96a1_0242ac1c0002row21_col1,#T_c2777452_df46_11eb_96a1_0242ac1c0002row21_col2,#T_c2777452_df46_11eb_96a1_0242ac1c0002row25_col2{\n",
              "            background-color:  #ffffff;\n",
              "            color:  #000000;\n",
              "        }#T_c2777452_df46_11eb_96a1_0242ac1c0002row11_col1,#T_c2777452_df46_11eb_96a1_0242ac1c0002row17_col0{\n",
              "            background-color:  #eaea97;\n",
              "            color:  #000000;\n",
              "        }#T_c2777452_df46_11eb_96a1_0242ac1c0002row12_col0{\n",
              "            background-color:  #ededa7;\n",
              "            color:  #000000;\n",
              "        }#T_c2777452_df46_11eb_96a1_0242ac1c0002row12_col1{\n",
              "            background-color:  #e6d85c;\n",
              "            color:  #000000;\n",
              "        }#T_c2777452_df46_11eb_96a1_0242ac1c0002row12_col2{\n",
              "            background-color:  #f5f5cb;\n",
              "            color:  #000000;\n",
              "        }#T_c2777452_df46_11eb_96a1_0242ac1c0002row13_col0{\n",
              "            background-color:  #e6d656;\n",
              "            color:  #000000;\n",
              "        }#T_c2777452_df46_11eb_96a1_0242ac1c0002row13_col1{\n",
              "            background-color:  #e97705;\n",
              "            color:  #000000;\n",
              "        }#T_c2777452_df46_11eb_96a1_0242ac1c0002row13_col2{\n",
              "            background-color:  #ec6f0a;\n",
              "            color:  #000000;\n",
              "        }#T_c2777452_df46_11eb_96a1_0242ac1c0002row14_col0,#T_c2777452_df46_11eb_96a1_0242ac1c0002row15_col0{\n",
              "            background-color:  #e6d046;\n",
              "            color:  #000000;\n",
              "        }#T_c2777452_df46_11eb_96a1_0242ac1c0002row14_col1{\n",
              "            background-color:  #f73f2d;\n",
              "            color:  #f1f1f1;\n",
              "        }#T_c2777452_df46_11eb_96a1_0242ac1c0002row14_col2,#T_c2777452_df46_11eb_96a1_0242ac1c0002row15_col2{\n",
              "            background-color:  #c4385a;\n",
              "            color:  #f1f1f1;\n",
              "        }#T_c2777452_df46_11eb_96a1_0242ac1c0002row15_col1{\n",
              "            background-color:  #fa3f2a;\n",
              "            color:  #f1f1f1;\n",
              "        }#T_c2777452_df46_11eb_96a1_0242ac1c0002row16_col0{\n",
              "            background-color:  #eb7308;\n",
              "            color:  #000000;\n",
              "        }#T_c2777452_df46_11eb_96a1_0242ac1c0002row16_col1{\n",
              "            background-color:  #d73b49;\n",
              "            color:  #f1f1f1;\n",
              "        }#T_c2777452_df46_11eb_96a1_0242ac1c0002row16_col2{\n",
              "            background-color:  #e6bb18;\n",
              "            color:  #000000;\n",
              "        }#T_c2777452_df46_11eb_96a1_0242ac1c0002row17_col1,#T_c2777452_df46_11eb_96a1_0242ac1c0002row22_col1{\n",
              "            background-color:  #e6af13;\n",
              "            color:  #000000;\n",
              "        }#T_c2777452_df46_11eb_96a1_0242ac1c0002row17_col2{\n",
              "            background-color:  #e6ab11;\n",
              "            color:  #000000;\n",
              "        }#T_c2777452_df46_11eb_96a1_0242ac1c0002row18_col0,#T_c2777452_df46_11eb_96a1_0242ac1c0002row19_col0{\n",
              "            background-color:  #e6a710;\n",
              "            color:  #000000;\n",
              "        }#T_c2777452_df46_11eb_96a1_0242ac1c0002row19_col1{\n",
              "            background-color:  #e68101;\n",
              "            color:  #000000;\n",
              "        }#T_c2777452_df46_11eb_96a1_0242ac1c0002row19_col2,#T_c2777452_df46_11eb_96a1_0242ac1c0002row22_col2{\n",
              "            background-color:  #fefefb;\n",
              "            color:  #000000;\n",
              "        }#T_c2777452_df46_11eb_96a1_0242ac1c0002row20_col0{\n",
              "            background-color:  #e69509;\n",
              "            color:  #000000;\n",
              "        }#T_c2777452_df46_11eb_96a1_0242ac1c0002row20_col1{\n",
              "            background-color:  #ea7506;\n",
              "            color:  #000000;\n",
              "        }#T_c2777452_df46_11eb_96a1_0242ac1c0002row21_col0{\n",
              "            background-color:  #fbfbeb;\n",
              "            color:  #000000;\n",
              "        }#T_c2777452_df46_11eb_96a1_0242ac1c0002row22_col0{\n",
              "            background-color:  #e6e172;\n",
              "            color:  #000000;\n",
              "        }#T_c2777452_df46_11eb_96a1_0242ac1c0002row23_col0{\n",
              "            background-color:  #e6a910;\n",
              "            color:  #000000;\n",
              "        }#T_c2777452_df46_11eb_96a1_0242ac1c0002row23_col1{\n",
              "            background-color:  #f55917;\n",
              "            color:  #000000;\n",
              "        }#T_c2777452_df46_11eb_96a1_0242ac1c0002row24_col0{\n",
              "            background-color:  #e6bd18;\n",
              "            color:  #000000;\n",
              "        }#T_c2777452_df46_11eb_96a1_0242ac1c0002row24_col1{\n",
              "            background-color:  #f94f1d;\n",
              "            color:  #000000;\n",
              "        }#T_c2777452_df46_11eb_96a1_0242ac1c0002row25_col0{\n",
              "            background-color:  #e6990a;\n",
              "            color:  #000000;\n",
              "        }</style><table id=\"T_c2777452_df46_11eb_96a1_0242ac1c0002\" ><thead>    <tr>        <th class=\"blank\" ></th>        <th class=\"blank level0\" ></th>        <th class=\"col_heading level0 col0\" colspan=3>TotalPay</th>    </tr>    <tr>        <th class=\"blank\" ></th>        <th class=\"blank level1\" ></th>        <th class=\"col_heading level1 col0\" >max</th>        <th class=\"col_heading level1 col1\" >median</th>        <th class=\"col_heading level1 col2\" >min</th>    </tr>    <tr>        <th class=\"index_name level0\" >JobTitle</th>        <th class=\"index_name level1\" >Year</th>        <th class=\"blank\" ></th>        <th class=\"blank\" ></th>        <th class=\"blank\" ></th>    </tr></thead><tbody>\n",
              "                <tr>\n",
              "                        <th id=\"T_c2777452_df46_11eb_96a1_0242ac1c0002level0_row0\" class=\"row_heading level0 row0\" >AIRPORT POLICE SERVICES AIDE</th>\n",
              "                        <th id=\"T_c2777452_df46_11eb_96a1_0242ac1c0002level1_row0\" class=\"row_heading level1 row0\" >2011.0</th>\n",
              "                        <td id=\"T_c2777452_df46_11eb_96a1_0242ac1c0002row0_col0\" class=\"data row0 col0\" >89305.550000</td>\n",
              "                        <td id=\"T_c2777452_df46_11eb_96a1_0242ac1c0002row0_col1\" class=\"data row0 col1\" >62592.460000</td>\n",
              "                        <td id=\"T_c2777452_df46_11eb_96a1_0242ac1c0002row0_col2\" class=\"data row0 col2\" >2726.460000</td>\n",
              "            </tr>\n",
              "            <tr>\n",
              "                        <th id=\"T_c2777452_df46_11eb_96a1_0242ac1c0002level0_row1\" class=\"row_heading level0 row1\" >ASSISTANT INSPECTOR (POLICE DEPARTMENT)</th>\n",
              "                        <th id=\"T_c2777452_df46_11eb_96a1_0242ac1c0002level1_row1\" class=\"row_heading level1 row1\" >2011.0</th>\n",
              "                        <td id=\"T_c2777452_df46_11eb_96a1_0242ac1c0002row1_col0\" class=\"data row1 col0\" >188999.200000</td>\n",
              "                        <td id=\"T_c2777452_df46_11eb_96a1_0242ac1c0002row1_col1\" class=\"data row1 col1\" >188999.200000</td>\n",
              "                        <td id=\"T_c2777452_df46_11eb_96a1_0242ac1c0002row1_col2\" class=\"data row1 col2\" >188999.200000</td>\n",
              "            </tr>\n",
              "            <tr>\n",
              "                        <th id=\"T_c2777452_df46_11eb_96a1_0242ac1c0002level0_row2\" class=\"row_heading level0 row2\" >ASSISTANT INSPECTOR II (POLICE DEPARTMENT)</th>\n",
              "                        <th id=\"T_c2777452_df46_11eb_96a1_0242ac1c0002level1_row2\" class=\"row_heading level1 row2\" >2011.0</th>\n",
              "                        <td id=\"T_c2777452_df46_11eb_96a1_0242ac1c0002row2_col0\" class=\"data row2 col0\" >165094.390000</td>\n",
              "                        <td id=\"T_c2777452_df46_11eb_96a1_0242ac1c0002row2_col1\" class=\"data row2 col1\" >151752.730000</td>\n",
              "                        <td id=\"T_c2777452_df46_11eb_96a1_0242ac1c0002row2_col2\" class=\"data row2 col2\" >129913.870000</td>\n",
              "            </tr>\n",
              "            <tr>\n",
              "                        <th id=\"T_c2777452_df46_11eb_96a1_0242ac1c0002level0_row3\" class=\"row_heading level0 row3\" >ASSISTANT INSPECTOR III (POLICE DEPARTMENT)</th>\n",
              "                        <th id=\"T_c2777452_df46_11eb_96a1_0242ac1c0002level1_row3\" class=\"row_heading level1 row3\" >2011.0</th>\n",
              "                        <td id=\"T_c2777452_df46_11eb_96a1_0242ac1c0002row3_col0\" class=\"data row3 col0\" >186630.880000</td>\n",
              "                        <td id=\"T_c2777452_df46_11eb_96a1_0242ac1c0002row3_col1\" class=\"data row3 col1\" >150342.360000</td>\n",
              "                        <td id=\"T_c2777452_df46_11eb_96a1_0242ac1c0002row3_col2\" class=\"data row3 col2\" >137502.890000</td>\n",
              "            </tr>\n",
              "            <tr>\n",
              "                        <th id=\"T_c2777452_df46_11eb_96a1_0242ac1c0002level0_row4\" class=\"row_heading level0 row4\" >CAPTAIN III (POLICE DEPARTMENT)</th>\n",
              "                        <th id=\"T_c2777452_df46_11eb_96a1_0242ac1c0002level1_row4\" class=\"row_heading level1 row4\" >2011.0</th>\n",
              "                        <td id=\"T_c2777452_df46_11eb_96a1_0242ac1c0002row4_col0\" class=\"data row4 col0\" >538909.280000</td>\n",
              "                        <td id=\"T_c2777452_df46_11eb_96a1_0242ac1c0002row4_col1\" class=\"data row4 col1\" >198884.320000</td>\n",
              "                        <td id=\"T_c2777452_df46_11eb_96a1_0242ac1c0002row4_col2\" class=\"data row4 col2\" >91929.370000</td>\n",
              "            </tr>\n",
              "            <tr>\n",
              "                        <th id=\"T_c2777452_df46_11eb_96a1_0242ac1c0002level0_row5\" class=\"row_heading level0 row5\" >CHIEF OF POLICE</th>\n",
              "                        <th id=\"T_c2777452_df46_11eb_96a1_0242ac1c0002level1_row5\" class=\"row_heading level1 row5\" >2011.0</th>\n",
              "                        <td id=\"T_c2777452_df46_11eb_96a1_0242ac1c0002row5_col0\" class=\"data row5 col0\" >267992.590000</td>\n",
              "                        <td id=\"T_c2777452_df46_11eb_96a1_0242ac1c0002row5_col1\" class=\"data row5 col1\" >267992.590000</td>\n",
              "                        <td id=\"T_c2777452_df46_11eb_96a1_0242ac1c0002row5_col2\" class=\"data row5 col2\" >267992.590000</td>\n",
              "            </tr>\n",
              "            <tr>\n",
              "                        <th id=\"T_c2777452_df46_11eb_96a1_0242ac1c0002level0_row6\" class=\"row_heading level0 row6\" >COMMANDER III, (POLICE DEPARTMENT)</th>\n",
              "                        <th id=\"T_c2777452_df46_11eb_96a1_0242ac1c0002level1_row6\" class=\"row_heading level1 row6\" >2011.0</th>\n",
              "                        <td id=\"T_c2777452_df46_11eb_96a1_0242ac1c0002row6_col0\" class=\"data row6 col0\" >286213.860000</td>\n",
              "                        <td id=\"T_c2777452_df46_11eb_96a1_0242ac1c0002row6_col1\" class=\"data row6 col1\" >211596.240000</td>\n",
              "                        <td id=\"T_c2777452_df46_11eb_96a1_0242ac1c0002row6_col2\" class=\"data row6 col2\" >133655.730000</td>\n",
              "            </tr>\n",
              "            <tr>\n",
              "                        <th id=\"T_c2777452_df46_11eb_96a1_0242ac1c0002level0_row7\" class=\"row_heading level0 row7\" >DEPUTY CHIEF III (POLICE DEPARTMENT)</th>\n",
              "                        <th id=\"T_c2777452_df46_11eb_96a1_0242ac1c0002level1_row7\" class=\"row_heading level1 row7\" >2011.0</th>\n",
              "                        <td id=\"T_c2777452_df46_11eb_96a1_0242ac1c0002row7_col0\" class=\"data row7 col0\" >264074.600000</td>\n",
              "                        <td id=\"T_c2777452_df46_11eb_96a1_0242ac1c0002row7_col1\" class=\"data row7 col1\" >248718.640000</td>\n",
              "                        <td id=\"T_c2777452_df46_11eb_96a1_0242ac1c0002row7_col2\" class=\"data row7 col2\" >236200.920000</td>\n",
              "            </tr>\n",
              "            <tr>\n",
              "                        <th id=\"T_c2777452_df46_11eb_96a1_0242ac1c0002level0_row8\" class=\"row_heading level0 row8\" >INSPECTOR II, (POLICE DEPARTMENT)</th>\n",
              "                        <th id=\"T_c2777452_df46_11eb_96a1_0242ac1c0002level1_row8\" class=\"row_heading level1 row8\" >2011.0</th>\n",
              "                        <td id=\"T_c2777452_df46_11eb_96a1_0242ac1c0002row8_col0\" class=\"data row8 col0\" >146469.520000</td>\n",
              "                        <td id=\"T_c2777452_df46_11eb_96a1_0242ac1c0002row8_col1\" class=\"data row8 col1\" >144459.680000</td>\n",
              "                        <td id=\"T_c2777452_df46_11eb_96a1_0242ac1c0002row8_col2\" class=\"data row8 col2\" >141919.010000</td>\n",
              "            </tr>\n",
              "            <tr>\n",
              "                        <th id=\"T_c2777452_df46_11eb_96a1_0242ac1c0002level0_row9\" class=\"row_heading level0 row9\" >INSPECTOR III, (POLICE DEPARTMENT)</th>\n",
              "                        <th id=\"T_c2777452_df46_11eb_96a1_0242ac1c0002level1_row9\" class=\"row_heading level1 row9\" >2011.0</th>\n",
              "                        <td id=\"T_c2777452_df46_11eb_96a1_0242ac1c0002row9_col0\" class=\"data row9 col0\" >258588.390000</td>\n",
              "                        <td id=\"T_c2777452_df46_11eb_96a1_0242ac1c0002row9_col1\" class=\"data row9 col1\" >149740.560000</td>\n",
              "                        <td id=\"T_c2777452_df46_11eb_96a1_0242ac1c0002row9_col2\" class=\"data row9 col2\" >71543.940000</td>\n",
              "            </tr>\n",
              "            <tr>\n",
              "                        <th id=\"T_c2777452_df46_11eb_96a1_0242ac1c0002level0_row10\" class=\"row_heading level0 row10\" >INSPECTOR, (POLICE DEPARTMENT)</th>\n",
              "                        <th id=\"T_c2777452_df46_11eb_96a1_0242ac1c0002level1_row10\" class=\"row_heading level1 row10\" >2011.0</th>\n",
              "                        <td id=\"T_c2777452_df46_11eb_96a1_0242ac1c0002row10_col0\" class=\"data row10 col0\" >163808.480000</td>\n",
              "                        <td id=\"T_c2777452_df46_11eb_96a1_0242ac1c0002row10_col1\" class=\"data row10 col1\" >159498.985000</td>\n",
              "                        <td id=\"T_c2777452_df46_11eb_96a1_0242ac1c0002row10_col2\" class=\"data row10 col2\" >155189.490000</td>\n",
              "            </tr>\n",
              "            <tr>\n",
              "                        <th id=\"T_c2777452_df46_11eb_96a1_0242ac1c0002level0_row11\" class=\"row_heading level0 row11\" >INSTITUTIONAL POLICE LIEUTENANT</th>\n",
              "                        <th id=\"T_c2777452_df46_11eb_96a1_0242ac1c0002level1_row11\" class=\"row_heading level1 row11\" >2011.0</th>\n",
              "                        <td id=\"T_c2777452_df46_11eb_96a1_0242ac1c0002row11_col0\" class=\"data row11 col0\" >59242.590000</td>\n",
              "                        <td id=\"T_c2777452_df46_11eb_96a1_0242ac1c0002row11_col1\" class=\"data row11 col1\" >59242.590000</td>\n",
              "                        <td id=\"T_c2777452_df46_11eb_96a1_0242ac1c0002row11_col2\" class=\"data row11 col2\" >59242.590000</td>\n",
              "            </tr>\n",
              "            <tr>\n",
              "                        <th id=\"T_c2777452_df46_11eb_96a1_0242ac1c0002level0_row12\" class=\"row_heading level0 row12\" >INSTITUTIONAL POLICE OFFICER</th>\n",
              "                        <th id=\"T_c2777452_df46_11eb_96a1_0242ac1c0002level1_row12\" class=\"row_heading level1 row12\" >2011.0</th>\n",
              "                        <td id=\"T_c2777452_df46_11eb_96a1_0242ac1c0002row12_col0\" class=\"data row12 col0\" >100673.680000</td>\n",
              "                        <td id=\"T_c2777452_df46_11eb_96a1_0242ac1c0002row12_col1\" class=\"data row12 col1\" >75201.630000</td>\n",
              "                        <td id=\"T_c2777452_df46_11eb_96a1_0242ac1c0002row12_col2\" class=\"data row12 col2\" >14194.520000</td>\n",
              "            </tr>\n",
              "            <tr>\n",
              "                        <th id=\"T_c2777452_df46_11eb_96a1_0242ac1c0002level0_row13\" class=\"row_heading level0 row13\" >INSTITUTIONAL POLICE SERGEANT</th>\n",
              "                        <th id=\"T_c2777452_df46_11eb_96a1_0242ac1c0002level1_row13\" class=\"row_heading level1 row13\" >2011.0</th>\n",
              "                        <td id=\"T_c2777452_df46_11eb_96a1_0242ac1c0002row13_col0\" class=\"data row13 col0\" >144634.970000</td>\n",
              "                        <td id=\"T_c2777452_df46_11eb_96a1_0242ac1c0002row13_col1\" class=\"data row13 col1\" >126972.070000</td>\n",
              "                        <td id=\"T_c2777452_df46_11eb_96a1_0242ac1c0002row13_col2\" class=\"data row13 col2\" >109309.170000</td>\n",
              "            </tr>\n",
              "            <tr>\n",
              "                        <th id=\"T_c2777452_df46_11eb_96a1_0242ac1c0002level0_row14\" class=\"row_heading level0 row14\" >LIEUTENANT I, (POLICE DEPARTMENT)</th>\n",
              "                        <th id=\"T_c2777452_df46_11eb_96a1_0242ac1c0002level1_row14\" class=\"row_heading level1 row14\" >2011.0</th>\n",
              "                        <td id=\"T_c2777452_df46_11eb_96a1_0242ac1c0002row14_col0\" class=\"data row14 col0\" >153795.730000</td>\n",
              "                        <td id=\"T_c2777452_df46_11eb_96a1_0242ac1c0002row14_col1\" class=\"data row14 col1\" >153795.730000</td>\n",
              "                        <td id=\"T_c2777452_df46_11eb_96a1_0242ac1c0002row14_col2\" class=\"data row14 col2\" >153795.730000</td>\n",
              "            </tr>\n",
              "            <tr>\n",
              "                        <th id=\"T_c2777452_df46_11eb_96a1_0242ac1c0002level0_row15\" class=\"row_heading level0 row15\" >LIEUTENANT II (POLICE DEPARTMENT)</th>\n",
              "                        <th id=\"T_c2777452_df46_11eb_96a1_0242ac1c0002level1_row15\" class=\"row_heading level1 row15\" >2011.0</th>\n",
              "                        <td id=\"T_c2777452_df46_11eb_96a1_0242ac1c0002row15_col0\" class=\"data row15 col0\" >152985.390000</td>\n",
              "                        <td id=\"T_c2777452_df46_11eb_96a1_0242ac1c0002row15_col1\" class=\"data row15 col1\" >152985.390000</td>\n",
              "                        <td id=\"T_c2777452_df46_11eb_96a1_0242ac1c0002row15_col2\" class=\"data row15 col2\" >152985.390000</td>\n",
              "            </tr>\n",
              "            <tr>\n",
              "                        <th id=\"T_c2777452_df46_11eb_96a1_0242ac1c0002level0_row16\" class=\"row_heading level0 row16\" >LIEUTENANT III (POLICE DEPARTMENT)</th>\n",
              "                        <th id=\"T_c2777452_df46_11eb_96a1_0242ac1c0002level1_row16\" class=\"row_heading level1 row16\" >2011.0</th>\n",
              "                        <td id=\"T_c2777452_df46_11eb_96a1_0242ac1c0002row16_col0\" class=\"data row16 col0\" >251935.010000</td>\n",
              "                        <td id=\"T_c2777452_df46_11eb_96a1_0242ac1c0002row16_col1\" class=\"data row16 col1\" >163548.795000</td>\n",
              "                        <td id=\"T_c2777452_df46_11eb_96a1_0242ac1c0002row16_col2\" class=\"data row16 col2\" >69700.190000</td>\n",
              "            </tr>\n",
              "            <tr>\n",
              "                        <th id=\"T_c2777452_df46_11eb_96a1_0242ac1c0002level0_row17\" class=\"row_heading level0 row17\" >POLICE COMMUNICATIONS SHIFT SUPERVISOR</th>\n",
              "                        <th id=\"T_c2777452_df46_11eb_96a1_0242ac1c0002level1_row17\" class=\"row_heading level1 row17\" >2011.0</th>\n",
              "                        <td id=\"T_c2777452_df46_11eb_96a1_0242ac1c0002row17_col0\" class=\"data row17 col0\" >108014.500000</td>\n",
              "                        <td id=\"T_c2777452_df46_11eb_96a1_0242ac1c0002row17_col1\" class=\"data row17 col1\" >101728.350000</td>\n",
              "                        <td id=\"T_c2777452_df46_11eb_96a1_0242ac1c0002row17_col2\" class=\"data row17 col2\" >78625.600000</td>\n",
              "            </tr>\n",
              "            <tr>\n",
              "                        <th id=\"T_c2777452_df46_11eb_96a1_0242ac1c0002level0_row18\" class=\"row_heading level0 row18\" >POLICE OFFICER I</th>\n",
              "                        <th id=\"T_c2777452_df46_11eb_96a1_0242ac1c0002level1_row18\" class=\"row_heading level1 row18\" >2011.0</th>\n",
              "                        <td id=\"T_c2777452_df46_11eb_96a1_0242ac1c0002row18_col0\" class=\"data row18 col0\" >202866.440000</td>\n",
              "                        <td id=\"T_c2777452_df46_11eb_96a1_0242ac1c0002row18_col1\" class=\"data row18 col1\" >114837.250000</td>\n",
              "                        <td id=\"T_c2777452_df46_11eb_96a1_0242ac1c0002row18_col2\" class=\"data row18 col2\" >2892.450000</td>\n",
              "            </tr>\n",
              "            <tr>\n",
              "                        <th id=\"T_c2777452_df46_11eb_96a1_0242ac1c0002level0_row19\" class=\"row_heading level0 row19\" >POLICE OFFICER II</th>\n",
              "                        <th id=\"T_c2777452_df46_11eb_96a1_0242ac1c0002level1_row19\" class=\"row_heading level1 row19\" >2011.0</th>\n",
              "                        <td id=\"T_c2777452_df46_11eb_96a1_0242ac1c0002row19_col0\" class=\"data row19 col0\" >202714.920000</td>\n",
              "                        <td id=\"T_c2777452_df46_11eb_96a1_0242ac1c0002row19_col1\" class=\"data row19 col1\" >122613.420000</td>\n",
              "                        <td id=\"T_c2777452_df46_11eb_96a1_0242ac1c0002row19_col2\" class=\"data row19 col2\" >2229.980000</td>\n",
              "            </tr>\n",
              "            <tr>\n",
              "                        <th id=\"T_c2777452_df46_11eb_96a1_0242ac1c0002level0_row20\" class=\"row_heading level0 row20\" >POLICE OFFICER III</th>\n",
              "                        <th id=\"T_c2777452_df46_11eb_96a1_0242ac1c0002level1_row20\" class=\"row_heading level1 row20\" >2011.0</th>\n",
              "                        <td id=\"T_c2777452_df46_11eb_96a1_0242ac1c0002row20_col0\" class=\"data row20 col0\" >220356.480000</td>\n",
              "                        <td id=\"T_c2777452_df46_11eb_96a1_0242ac1c0002row20_col1\" class=\"data row20 col1\" >127595.550000</td>\n",
              "                        <td id=\"T_c2777452_df46_11eb_96a1_0242ac1c0002row20_col2\" class=\"data row20 col2\" >597.310000</td>\n",
              "            </tr>\n",
              "            <tr>\n",
              "                        <th id=\"T_c2777452_df46_11eb_96a1_0242ac1c0002level0_row21\" class=\"row_heading level0 row21\" >POLICE SERVICES AIDE</th>\n",
              "                        <th id=\"T_c2777452_df46_11eb_96a1_0242ac1c0002level1_row21\" class=\"row_heading level1 row21\" >2011.0</th>\n",
              "                        <td id=\"T_c2777452_df46_11eb_96a1_0242ac1c0002row21_col0\" class=\"data row21 col0\" >69860.580000</td>\n",
              "                        <td id=\"T_c2777452_df46_11eb_96a1_0242ac1c0002row21_col1\" class=\"data row21 col1\" >35592.690000</td>\n",
              "                        <td id=\"T_c2777452_df46_11eb_96a1_0242ac1c0002row21_col2\" class=\"data row21 col2\" >1324.800000</td>\n",
              "            </tr>\n",
              "            <tr>\n",
              "                        <th id=\"T_c2777452_df46_11eb_96a1_0242ac1c0002level0_row22\" class=\"row_heading level0 row22\" >SENIOR POLICE COMMUNICATIONS DISPATCHER</th>\n",
              "                        <th id=\"T_c2777452_df46_11eb_96a1_0242ac1c0002level1_row22\" class=\"row_heading level1 row22\" >2011.0</th>\n",
              "                        <td id=\"T_c2777452_df46_11eb_96a1_0242ac1c0002row22_col0\" class=\"data row22 col0\" >127076.360000</td>\n",
              "                        <td id=\"T_c2777452_df46_11eb_96a1_0242ac1c0002row22_col1\" class=\"data row22 col1\" >101337.600000</td>\n",
              "                        <td id=\"T_c2777452_df46_11eb_96a1_0242ac1c0002row22_col2\" class=\"data row22 col2\" >1368.220000</td>\n",
              "            </tr>\n",
              "            <tr>\n",
              "                        <th id=\"T_c2777452_df46_11eb_96a1_0242ac1c0002level0_row23\" class=\"row_heading level0 row23\" >SERGEANT I (POLICE DEPARTMENT)</th>\n",
              "                        <th id=\"T_c2777452_df46_11eb_96a1_0242ac1c0002level1_row23\" class=\"row_heading level1 row23\" >2011.0</th>\n",
              "                        <td id=\"T_c2777452_df46_11eb_96a1_0242ac1c0002row23_col0\" class=\"data row23 col0\" >200185.960000</td>\n",
              "                        <td id=\"T_c2777452_df46_11eb_96a1_0242ac1c0002row23_col1\" class=\"data row23 col1\" >140605.260000</td>\n",
              "                        <td id=\"T_c2777452_df46_11eb_96a1_0242ac1c0002row23_col2\" class=\"data row23 col2\" >114530.150000</td>\n",
              "            </tr>\n",
              "            <tr>\n",
              "                        <th id=\"T_c2777452_df46_11eb_96a1_0242ac1c0002level0_row24\" class=\"row_heading level0 row24\" >SERGEANT II (POLICE DEPARTMENT)</th>\n",
              "                        <th id=\"T_c2777452_df46_11eb_96a1_0242ac1c0002level1_row24\" class=\"row_heading level1 row24\" >2011.0</th>\n",
              "                        <td id=\"T_c2777452_df46_11eb_96a1_0242ac1c0002row24_col0\" class=\"data row24 col0\" >182462.860000</td>\n",
              "                        <td id=\"T_c2777452_df46_11eb_96a1_0242ac1c0002row24_col1\" class=\"data row24 col1\" >145088.450000</td>\n",
              "                        <td id=\"T_c2777452_df46_11eb_96a1_0242ac1c0002row24_col2\" class=\"data row24 col2\" >131640.760000</td>\n",
              "            </tr>\n",
              "            <tr>\n",
              "                        <th id=\"T_c2777452_df46_11eb_96a1_0242ac1c0002level0_row25\" class=\"row_heading level0 row25\" >SERGEANT III (POLICE DEPARTMENT)</th>\n",
              "                        <th id=\"T_c2777452_df46_11eb_96a1_0242ac1c0002level1_row25\" class=\"row_heading level1 row25\" >2011.0</th>\n",
              "                        <td id=\"T_c2777452_df46_11eb_96a1_0242ac1c0002row25_col0\" class=\"data row25 col0\" >214944.740000</td>\n",
              "                        <td id=\"T_c2777452_df46_11eb_96a1_0242ac1c0002row25_col1\" class=\"data row25 col1\" >147767.990000</td>\n",
              "                        <td id=\"T_c2777452_df46_11eb_96a1_0242ac1c0002row25_col2\" class=\"data row25 col2\" >283.860000</td>\n",
              "            </tr>\n",
              "    </tbody></table>"
            ],
            "text/plain": [
              "<pandas.io.formats.style.Styler at 0x7f2be7e7c310>"
            ]
          },
          "metadata": {
            "tags": []
          }
        }
      ]
    },
    {
      "cell_type": "code",
      "metadata": {
        "colab": {
          "base_uri": "https://localhost:8080/",
          "height": 518
        },
        "id": "huofqGWjXWs-",
        "outputId": "ad5e5f1d-d46d-47c7-a941-e1676babcb2f"
      },
      "source": [
        "# проиллюстрируем наглядно распределение зп\n",
        "\n",
        "police_df[[\"JobTitle\",\"TotalPay\",\"Year\",]].groupby([\"JobTitle\",\"Year\"]).agg([\"max\",'median',\"min\"]).plot(kind=\"line\",color =[\"orange\",\"black\",\"purple\"])\n",
        "plt.title(\"TotalPay with each Job Title (max,median,min)\", fontsize=10)\n",
        "plt.ylabel(\"TotalPay\",fontsize=10)\n",
        "plt.xlabel(\" \")\n",
        "plt.xticks(rotation=90)\n",
        "plt.show()"
      ],
      "execution_count": 67,
      "outputs": [
        {
          "output_type": "display_data",
          "data": {
            "image/png": "[encoded data removed]",
            "text/plain": [
              "<Figure size 432x288 with 1 Axes>"
            ]
          },
          "metadata": {
            "tags": [],
            "needs_background": "light"
          }
        }
      ]
    },
    {
      "cell_type": "markdown",
      "metadata": {
        "id": "_cqLlzv1585N"
      },
      "source": [
        "Как распределяются базовая оплата, сверхурочная работа и льготы между разными группами? Нужно построить диаграммы по распределению со временем для каждого департамента по базовым, сверхурочным и льготам"
      ]
    },
    {
      "cell_type": "code",
      "metadata": {
        "colab": {
          "base_uri": "https://localhost:8080/",
          "height": 345
        },
        "id": "OuG1h8oQcxiF",
        "outputId": "559c4c51-fb78-4568-c7c6-79e91ea8394d"
      },
      "source": [
        "# посмотрела плотность распределения базовой зп работников полиции\n",
        "\n",
        "import seaborn as sns\n",
        "from pandas import Series,DataFrame\n",
        "sns.distplot(police_df['BasePay'],bins=25)\n",
        "plt.show()"
      ],
      "execution_count": 68,
      "outputs": [
        {
          "output_type": "stream",
          "text": [
            "/usr/local/lib/python3.7/dist-packages/seaborn/distributions.py:2557: FutureWarning: `distplot` is a deprecated function and will be removed in a future version. Please adapt your code to use either `displot` (a figure-level function with similar flexibility) or `histplot` (an axes-level function for histograms).\n",
            "  warnings.warn(msg, FutureWarning)\n"
          ],
          "name": "stderr"
        },
        {
          "output_type": "display_data",
          "data": {
            "image/png": "[encoded data removed]",
            "text/plain": [
              "<Figure size 432x288 with 1 Axes>"
            ]
          },
          "metadata": {
            "tags": [],
            "needs_background": "light"
          }
        }
      ]
    },
    {
      "cell_type": "code",
      "metadata": {
        "colab": {
          "base_uri": "https://localhost:8080/",
          "height": 314
        },
        "id": "t3P9fCB3Tr0I",
        "outputId": "145c4fc4-cab1-47cd-a5dd-18b2a26588be"
      },
      "source": [
        "# посмотрела как со временем менялась базовая зп работников полиции\n",
        "\n",
        "police = police_df.groupby('Year').mean()\n",
        "police.reset_index(inplace=True)\n",
        "sns.barplot(x = 'Year', y='BasePay' , data = sal)\n",
        "plt.figure()"
      ],
      "execution_count": 69,
      "outputs": [
        {
          "output_type": "execute_result",
          "data": {
            "text/plain": [
              "<Figure size 432x288 with 0 Axes>"
            ]
          },
          "metadata": {
            "tags": []
          },
          "execution_count": 69
        },
        {
          "output_type": "display_data",
          "data": {
            "image/png": "[encoded data removed]",
            "text/plain": [
              "<Figure size 432x288 with 1 Axes>"
            ]
          },
          "metadata": {
            "tags": [],
            "needs_background": "light"
          }
        },
        {
          "output_type": "display_data",
          "data": {
            "text/plain": [
              "<Figure size 432x288 with 0 Axes>"
            ]
          },
          "metadata": {
            "tags": []
          }
        }
      ]
    },
    {
      "cell_type": "code",
      "metadata": {
        "colab": {
          "base_uri": "https://localhost:8080/",
          "height": 345
        },
        "id": "qSKLqPHZdg62",
        "outputId": "caa0befe-bc25-42bf-b36a-02060bbf0a6c"
      },
      "source": [
        "# посмотрела плотность распределения сверхурочных работников полиции\n",
        "\n",
        "sns.distplot(police_df['OvertimePay'],bins=25) \n",
        "plt.show()"
      ],
      "execution_count": 70,
      "outputs": [
        {
          "output_type": "stream",
          "text": [
            "/usr/local/lib/python3.7/dist-packages/seaborn/distributions.py:2557: FutureWarning: `distplot` is a deprecated function and will be removed in a future version. Please adapt your code to use either `displot` (a figure-level function with similar flexibility) or `histplot` (an axes-level function for histograms).\n",
            "  warnings.warn(msg, FutureWarning)\n"
          ],
          "name": "stderr"
        },
        {
          "output_type": "display_data",
          "data": {
            "image/png": "[encoded data removed]",
            "text/plain": [
              "<Figure size 432x288 with 1 Axes>"
            ]
          },
          "metadata": {
            "tags": [],
            "needs_background": "light"
          }
        }
      ]
    },
    {
      "cell_type": "code",
      "metadata": {
        "colab": {
          "base_uri": "https://localhost:8080/",
          "height": 314
        },
        "id": "82XJRc3wexLR",
        "outputId": "c47fc2d1-4742-40e7-bfb9-fff57f67954f"
      },
      "source": [
        "# посмотрела как со временем менялись сверхурочные работников полиции\n",
        "\n",
        "police = police_df.groupby('Year').mean()\n",
        "police.reset_index(inplace=True)\n",
        "sns.barplot(x = 'Year', y='OvertimePay' , data = sal)\n",
        "plt.figure()"
      ],
      "execution_count": 71,
      "outputs": [
        {
          "output_type": "execute_result",
          "data": {
            "text/plain": [
              "<Figure size 432x288 with 0 Axes>"
            ]
          },
          "metadata": {
            "tags": []
          },
          "execution_count": 71
        },
        {
          "output_type": "display_data",
          "data": {
            "image/png": "[encoded data removed]",
            "text/plain": [
              "<Figure size 432x288 with 1 Axes>"
            ]
          },
          "metadata": {
            "tags": [],
            "needs_background": "light"
          }
        },
        {
          "output_type": "display_data",
          "data": {
            "text/plain": [
              "<Figure size 432x288 with 0 Axes>"
            ]
          },
          "metadata": {
            "tags": []
          }
        }
      ]
    },
    {
      "cell_type": "code",
      "metadata": {
        "colab": {
          "base_uri": "https://localhost:8080/",
          "height": 345
        },
        "id": "_O7UnYShd67v",
        "outputId": "8f8ec433-d419-44e3-d668-54d2858d7bae"
      },
      "source": [
        "# посмотрела плотность распределения льгот работников полиции\n",
        "\n",
        "sns.distplot(police_df['OtherPay'],bins=25) \n",
        "plt.show()"
      ],
      "execution_count": 72,
      "outputs": [
        {
          "output_type": "stream",
          "text": [
            "/usr/local/lib/python3.7/dist-packages/seaborn/distributions.py:2557: FutureWarning: `distplot` is a deprecated function and will be removed in a future version. Please adapt your code to use either `displot` (a figure-level function with similar flexibility) or `histplot` (an axes-level function for histograms).\n",
            "  warnings.warn(msg, FutureWarning)\n"
          ],
          "name": "stderr"
        },
        {
          "output_type": "display_data",
          "data": {
            "image/png": "[encoded data removed]",
            "text/plain": [
              "<Figure size 432x288 with 1 Axes>"
            ]
          },
          "metadata": {
            "tags": [],
            "needs_background": "light"
          }
        }
      ]
    },
    {
      "cell_type": "code",
      "metadata": {
        "colab": {
          "base_uri": "https://localhost:8080/",
          "height": 314
        },
        "id": "kQwftRubUilN",
        "outputId": "17649ed5-4730-4916-a1bf-7e97ece8076e"
      },
      "source": [
        "# посмотрела как со временем менялись льготы работников полиции\n",
        "\n",
        "police = police_df.groupby('Year').mean() \n",
        "police.reset_index(inplace=True)\n",
        "sns.barplot(x = 'Year', y='OtherPay' , data = sal)\n",
        "plt.figure()"
      ],
      "execution_count": 73,
      "outputs": [
        {
          "output_type": "execute_result",
          "data": {
            "text/plain": [
              "<Figure size 432x288 with 0 Axes>"
            ]
          },
          "metadata": {
            "tags": []
          },
          "execution_count": 73
        },
        {
          "output_type": "display_data",
          "data": {
            "image/png": "[encoded data removed]",
            "text/plain": [
              "<Figure size 432x288 with 1 Axes>"
            ]
          },
          "metadata": {
            "tags": [],
            "needs_background": "light"
          }
        },
        {
          "output_type": "display_data",
          "data": {
            "text/plain": [
              "<Figure size 432x288 with 0 Axes>"
            ]
          },
          "metadata": {
            "tags": []
          }
        }
      ]
    },
    {
      "cell_type": "code",
      "metadata": {
        "colab": {
          "base_uri": "https://localhost:8080/",
          "height": 345
        },
        "id": "2nbpJEjSecOo",
        "outputId": "8d6a7024-5aaa-4477-81e3-080838deb57e"
      },
      "source": [
        "# посмотрела плотность распределения базовой зп медиков\n",
        "\n",
        "sns.distplot(med_df['BasePay'],bins=25) \n",
        "plt.show()"
      ],
      "execution_count": 74,
      "outputs": [
        {
          "output_type": "stream",
          "text": [
            "/usr/local/lib/python3.7/dist-packages/seaborn/distributions.py:2557: FutureWarning: `distplot` is a deprecated function and will be removed in a future version. Please adapt your code to use either `displot` (a figure-level function with similar flexibility) or `histplot` (an axes-level function for histograms).\n",
            "  warnings.warn(msg, FutureWarning)\n"
          ],
          "name": "stderr"
        },
        {
          "output_type": "display_data",
          "data": {
            "image/png": "[encoded data removed]",
            "text/plain": [
              "<Figure size 432x288 with 1 Axes>"
            ]
          },
          "metadata": {
            "tags": [],
            "needs_background": "light"
          }
        }
      ]
    },
    {
      "cell_type": "code",
      "metadata": {
        "colab": {
          "base_uri": "https://localhost:8080/",
          "height": 314
        },
        "id": "A-oq-HshVApB",
        "outputId": "f2397c37-3d29-415c-89ba-695813f4eea7"
      },
      "source": [
        "# посмотрела как со временем менялась базовая зп медиков\n",
        "\n",
        "med = med_df.groupby('Year').mean() \n",
        "med.reset_index(inplace=True)\n",
        "sns.barplot(x = 'Year', y='BasePay' , data = sal)\n",
        "plt.figure()"
      ],
      "execution_count": 75,
      "outputs": [
        {
          "output_type": "execute_result",
          "data": {
            "text/plain": [
              "<Figure size 432x288 with 0 Axes>"
            ]
          },
          "metadata": {
            "tags": []
          },
          "execution_count": 75
        },
        {
          "output_type": "display_data",
          "data": {
            "image/png": "[encoded data removed]",
            "text/plain": [
              "<Figure size 432x288 with 1 Axes>"
            ]
          },
          "metadata": {
            "tags": [],
            "needs_background": "light"
          }
        },
        {
          "output_type": "display_data",
          "data": {
            "text/plain": [
              "<Figure size 432x288 with 0 Axes>"
            ]
          },
          "metadata": {
            "tags": []
          }
        }
      ]
    },
    {
      "cell_type": "code",
      "metadata": {
        "colab": {
          "base_uri": "https://localhost:8080/",
          "height": 334
        },
        "id": "9crwgC_ReyiU",
        "outputId": "d32203aa-df73-40c8-f0af-0774511331fb"
      },
      "source": [
        "# посмотрела плотность распределения сверхурочных медиков\n",
        "\n",
        "sns.distplot(med_df['OvertimePay'],bins=25) \n",
        "plt.show()"
      ],
      "execution_count": 76,
      "outputs": [
        {
          "output_type": "stream",
          "text": [
            "/usr/local/lib/python3.7/dist-packages/seaborn/distributions.py:2557: FutureWarning: `distplot` is a deprecated function and will be removed in a future version. Please adapt your code to use either `displot` (a figure-level function with similar flexibility) or `histplot` (an axes-level function for histograms).\n",
            "  warnings.warn(msg, FutureWarning)\n"
          ],
          "name": "stderr"
        },
        {
          "output_type": "display_data",
          "data": {
            "image/png": "[encoded data removed]",
            "text/plain": [
              "<Figure size 432x288 with 1 Axes>"
            ]
          },
          "metadata": {
            "tags": [],
            "needs_background": "light"
          }
        }
      ]
    },
    {
      "cell_type": "code",
      "metadata": {
        "colab": {
          "base_uri": "https://localhost:8080/",
          "height": 314
        },
        "id": "gCFW_OynVXdr",
        "outputId": "2bfabb11-ceee-4349-ee92-56e042a44d8a"
      },
      "source": [
        "# посмотрела как со временем менялись сверхурочные медиков\n",
        "\n",
        "med = med_df.groupby('Year').mean() \n",
        "med.reset_index(inplace=True)\n",
        "sns.barplot(x = 'Year', y='OvertimePay' , data = sal)\n",
        "plt.figure()"
      ],
      "execution_count": 77,
      "outputs": [
        {
          "output_type": "execute_result",
          "data": {
            "text/plain": [
              "<Figure size 432x288 with 0 Axes>"
            ]
          },
          "metadata": {
            "tags": []
          },
          "execution_count": 77
        },
        {
          "output_type": "display_data",
          "data": {
            "image/png": "[encoded data removed]",
            "text/plain": [
              "<Figure size 432x288 with 1 Axes>"
            ]
          },
          "metadata": {
            "tags": [],
            "needs_background": "light"
          }
        },
        {
          "output_type": "display_data",
          "data": {
            "text/plain": [
              "<Figure size 432x288 with 0 Axes>"
            ]
          },
          "metadata": {
            "tags": []
          }
        }
      ]
    },
    {
      "cell_type": "code",
      "metadata": {
        "colab": {
          "base_uri": "https://localhost:8080/",
          "height": 334
        },
        "id": "_uIpR1UpfAYH",
        "outputId": "549ac06e-dca2-4de4-f628-323b407c07a9"
      },
      "source": [
        "# посмотрела плотность распределения льгот медиков\n",
        "\n",
        "sns.distplot(med_df['OtherPay'],bins=25) \n",
        "plt.show()"
      ],
      "execution_count": 78,
      "outputs": [
        {
          "output_type": "stream",
          "text": [
            "/usr/local/lib/python3.7/dist-packages/seaborn/distributions.py:2557: FutureWarning: `distplot` is a deprecated function and will be removed in a future version. Please adapt your code to use either `displot` (a figure-level function with similar flexibility) or `histplot` (an axes-level function for histograms).\n",
            "  warnings.warn(msg, FutureWarning)\n"
          ],
          "name": "stderr"
        },
        {
          "output_type": "display_data",
          "data": {
            "image/png": "[encoded data removed]",
            "text/plain": [
              "<Figure size 432x288 with 1 Axes>"
            ]
          },
          "metadata": {
            "tags": [],
            "needs_background": "light"
          }
        }
      ]
    },
    {
      "cell_type": "code",
      "metadata": {
        "colab": {
          "base_uri": "https://localhost:8080/",
          "height": 314
        },
        "id": "MAkuJjPyVnKO",
        "outputId": "faf97616-97bb-4209-f6a6-fcbb8391a320"
      },
      "source": [
        "# посмотрела как со временем менялись льготы медиков\n",
        "\n",
        "med = med_df.groupby('Year').mean() \n",
        "med.reset_index(inplace=True)\n",
        "sns.barplot(x = 'Year', y='OtherPay' , data = sal)\n",
        "plt.figure()"
      ],
      "execution_count": 79,
      "outputs": [
        {
          "output_type": "execute_result",
          "data": {
            "text/plain": [
              "<Figure size 432x288 with 0 Axes>"
            ]
          },
          "metadata": {
            "tags": []
          },
          "execution_count": 79
        },
        {
          "output_type": "display_data",
          "data": {
            "image/png": "[encoded data removed]",
            "text/plain": [
              "<Figure size 432x288 with 1 Axes>"
            ]
          },
          "metadata": {
            "tags": [],
            "needs_background": "light"
          }
        },
        {
          "output_type": "display_data",
          "data": {
            "text/plain": [
              "<Figure size 432x288 with 0 Axes>"
            ]
          },
          "metadata": {
            "tags": []
          }
        }
      ]
    },
    {
      "cell_type": "code",
      "metadata": {
        "colab": {
          "base_uri": "https://localhost:8080/",
          "height": 363
        },
        "id": "ltWmohy1V4uX",
        "outputId": "190b8a04-f2f3-46ae-e445-207e626c0250"
      },
      "source": [
        "# посмотрела плотность распределения базовой зп пожарных\n",
        "\n",
        "sns.distplot(fire_df['BasePay'],bins=25) "
      ],
      "execution_count": 80,
      "outputs": [
        {
          "output_type": "stream",
          "text": [
            "/usr/local/lib/python3.7/dist-packages/seaborn/distributions.py:2557: FutureWarning: `distplot` is a deprecated function and will be removed in a future version. Please adapt your code to use either `displot` (a figure-level function with similar flexibility) or `histplot` (an axes-level function for histograms).\n",
            "  warnings.warn(msg, FutureWarning)\n"
          ],
          "name": "stderr"
        },
        {
          "output_type": "execute_result",
          "data": {
            "text/plain": [
              "<matplotlib.axes._subplots.AxesSubplot at 0x7f2be8133210>"
            ]
          },
          "metadata": {
            "tags": []
          },
          "execution_count": 80
        },
        {
          "output_type": "display_data",
          "data": {
            "image/png": "[encoded data removed]",
            "text/plain": [
              "<Figure size 432x288 with 1 Axes>"
            ]
          },
          "metadata": {
            "tags": [],
            "needs_background": "light"
          }
        }
      ]
    },
    {
      "cell_type": "code",
      "metadata": {
        "colab": {
          "base_uri": "https://localhost:8080/",
          "height": 314
        },
        "id": "KDQj2XaDWMEv",
        "outputId": "1bc64874-de26-4511-ca9e-0626b792c6c0"
      },
      "source": [
        "# посмотрела как со временем менялась базовая пожарных\n",
        "\n",
        "fire = fire_df.groupby('Year').mean() \n",
        "fire.reset_index(inplace=True)\n",
        "sns.barplot(x = 'Year', y='BasePay' , data = sal)\n",
        "plt.figure()"
      ],
      "execution_count": 81,
      "outputs": [
        {
          "output_type": "execute_result",
          "data": {
            "text/plain": [
              "<Figure size 432x288 with 0 Axes>"
            ]
          },
          "metadata": {
            "tags": []
          },
          "execution_count": 81
        },
        {
          "output_type": "display_data",
          "data": {
            "image/png": "[encoded data removed]",
            "text/plain": [
              "<Figure size 432x288 with 1 Axes>"
            ]
          },
          "metadata": {
            "tags": [],
            "needs_background": "light"
          }
        },
        {
          "output_type": "display_data",
          "data": {
            "text/plain": [
              "<Figure size 432x288 with 0 Axes>"
            ]
          },
          "metadata": {
            "tags": []
          }
        }
      ]
    },
    {
      "cell_type": "code",
      "metadata": {
        "colab": {
          "base_uri": "https://localhost:8080/",
          "height": 345
        },
        "id": "6CT4y7vjWqNS",
        "outputId": "715b6d2b-097d-4f77-8364-bbdd4e69856a"
      },
      "source": [
        "# посмотрела плотность распределения сверхурочных пожарных\n",
        "\n",
        "sns.distplot(fire_df['OvertimePay'],bins=25) \n",
        "plt.show()"
      ],
      "execution_count": 82,
      "outputs": [
        {
          "output_type": "stream",
          "text": [
            "/usr/local/lib/python3.7/dist-packages/seaborn/distributions.py:2557: FutureWarning: `distplot` is a deprecated function and will be removed in a future version. Please adapt your code to use either `displot` (a figure-level function with similar flexibility) or `histplot` (an axes-level function for histograms).\n",
            "  warnings.warn(msg, FutureWarning)\n"
          ],
          "name": "stderr"
        },
        {
          "output_type": "display_data",
          "data": {
            "image/png": "[encoded data removed]",
            "text/plain": [
              "<Figure size 432x288 with 1 Axes>"
            ]
          },
          "metadata": {
            "tags": [],
            "needs_background": "light"
          }
        }
      ]
    },
    {
      "cell_type": "code",
      "metadata": {
        "colab": {
          "base_uri": "https://localhost:8080/",
          "height": 314
        },
        "id": "UNKWxstSW2eR",
        "outputId": "7d10b9d7-9a09-4454-a13c-0f0b154fb63b"
      },
      "source": [
        "# посмотрела как со временем менялись сверхурочные пожарных\n",
        "\n",
        "fire = fire_df.groupby('Year').mean() \n",
        "fire.reset_index(inplace=True)\n",
        "sns.barplot(x = 'Year', y='OvertimePay' , data = sal)\n",
        "plt.figure()"
      ],
      "execution_count": 83,
      "outputs": [
        {
          "output_type": "execute_result",
          "data": {
            "text/plain": [
              "<Figure size 432x288 with 0 Axes>"
            ]
          },
          "metadata": {
            "tags": []
          },
          "execution_count": 83
        },
        {
          "output_type": "display_data",
          "data": {
            "image/png": "[encoded data removed]",
            "text/plain": [
              "<Figure size 432x288 with 1 Axes>"
            ]
          },
          "metadata": {
            "tags": [],
            "needs_background": "light"
          }
        },
        {
          "output_type": "display_data",
          "data": {
            "text/plain": [
              "<Figure size 432x288 with 0 Axes>"
            ]
          },
          "metadata": {
            "tags": []
          }
        }
      ]
    },
    {
      "cell_type": "code",
      "metadata": {
        "colab": {
          "base_uri": "https://localhost:8080/",
          "height": 345
        },
        "id": "tbICP3-RXCiU",
        "outputId": "b0d5b740-696e-43a8-b8f8-0b72d13d1452"
      },
      "source": [
        "# посмотрела плотность распределения льгот пожарных\n",
        "\n",
        "sns.distplot(fire_df['OtherPay'],bins=25) \n",
        "plt.show()"
      ],
      "execution_count": 84,
      "outputs": [
        {
          "output_type": "stream",
          "text": [
            "/usr/local/lib/python3.7/dist-packages/seaborn/distributions.py:2557: FutureWarning: `distplot` is a deprecated function and will be removed in a future version. Please adapt your code to use either `displot` (a figure-level function with similar flexibility) or `histplot` (an axes-level function for histograms).\n",
            "  warnings.warn(msg, FutureWarning)\n"
          ],
          "name": "stderr"
        },
        {
          "output_type": "display_data",
          "data": {
            "image/png": "[encoded data removed]",
            "text/plain": [
              "<Figure size 432x288 with 1 Axes>"
            ]
          },
          "metadata": {
            "tags": [],
            "needs_background": "light"
          }
        }
      ]
    },
    {
      "cell_type": "code",
      "metadata": {
        "colab": {
          "base_uri": "https://localhost:8080/",
          "height": 314
        },
        "id": "0eNxC0pTXJY9",
        "outputId": "8028143c-5c5a-48a8-e126-64bfb439d8db"
      },
      "source": [
        "# посмотрела как со временем менялись льготы пожарных\n",
        "\n",
        "fire = fire_df.groupby('Year').mean() \n",
        "fire.reset_index(inplace=True)\n",
        "sns.barplot(x = 'Year', y='OtherPay' , data = sal)\n",
        "plt.figure()"
      ],
      "execution_count": 85,
      "outputs": [
        {
          "output_type": "execute_result",
          "data": {
            "text/plain": [
              "<Figure size 432x288 with 0 Axes>"
            ]
          },
          "metadata": {
            "tags": []
          },
          "execution_count": 85
        },
        {
          "output_type": "display_data",
          "data": {
            "image/png": "[encoded data removed]",
            "text/plain": [
              "<Figure size 432x288 with 1 Axes>"
            ]
          },
          "metadata": {
            "tags": [],
            "needs_background": "light"
          }
        },
        {
          "output_type": "display_data",
          "data": {
            "text/plain": [
              "<Figure size 432x288 with 0 Axes>"
            ]
          },
          "metadata": {
            "tags": []
          }
        }
      ]
    },
    {
      "cell_type": "markdown",
      "metadata": {
        "id": "gwMetuSD8Uzk"
      },
      "source": [
        "Как распределяется бюджет на разные группы (department) с течением времени?"
      ]
    },
    {
      "cell_type": "code",
      "metadata": {
        "colab": {
          "base_uri": "https://localhost:8080/",
          "height": 77
        },
        "id": "-SANGg3yi47t",
        "outputId": "23b4d16c-a7b6-4cd2-f998-eec0fe00e643"
      },
      "source": [
        "# создала новый датафрейм, в котором рассчитала дополнительный доход пожарных и удалила лишние колонки\n",
        "\n",
        "fi = fire.query('2011 == Year')\n",
        "f1 = fi.drop(['Year','Id', 'BasePay', 'OvertimePay'], axis = 1) \n",
        "f1"
      ],
      "execution_count": 86,
      "outputs": [
        {
          "output_type": "execute_result",
          "data": {
            "text/html": [
              "<div>\n",
              "<style scoped>\n",
              "    .dataframe tbody tr th:only-of-type {\n",
              "        vertical-align: middle;\n",
              "    }\n",
              "\n",
              "    .dataframe tbody tr th {\n",
              "        vertical-align: top;\n",
              "    }\n",
              "\n",
              "    .dataframe thead th {\n",
              "        text-align: right;\n",
              "    }\n",
              "</style>\n",
              "<table border=\"1\" class=\"dataframe\">\n",
              "  <thead>\n",
              "    <tr style=\"text-align: right;\">\n",
              "      <th></th>\n",
              "      <th>OtherPay</th>\n",
              "      <th>TotalPay</th>\n",
              "      <th>TotalPayBenefits</th>\n",
              "    </tr>\n",
              "  </thead>\n",
              "  <tbody>\n",
              "    <tr>\n",
              "      <th>0</th>\n",
              "      <td>21570.927928</td>\n",
              "      <td>177504.265135</td>\n",
              "      <td>177504.265135</td>\n",
              "    </tr>\n",
              "  </tbody>\n",
              "</table>\n",
              "</div>"
            ],
            "text/plain": [
              "       OtherPay       TotalPay  TotalPayBenefits\n",
              "0  21570.927928  177504.265135     177504.265135"
            ]
          },
          "metadata": {
            "tags": []
          },
          "execution_count": 86
        }
      ]
    },
    {
      "cell_type": "code",
      "metadata": {
        "colab": {
          "base_uri": "https://localhost:8080/",
          "height": 338
        },
        "id": "EmUQ8K0Ri8TV",
        "outputId": "63268774-b70d-4ee5-e617-79c300eace55"
      },
      "source": [
        "# построила диаграмму распределения дополнительного дохода пожарных\n",
        "\n",
        "data_names = ['OtherPay', 'TotalPay', 'TotalPayBenefits']\n",
        "data_values = [21571, 177504, 177504]\n",
        "dpi = 80\n",
        "fig = plt.figure(dpi = dpi, figsize = (512 / dpi, 384 / dpi) )\n",
        "\n",
        "plt.title('Распределение бюджета (%)')\n",
        "\n",
        "xs = range(len(data_names))\n",
        "\n",
        "plt.pie(\n",
        "    data_values, autopct='%.1f', radius = 1.1,\n",
        "    explode = [0.15] + [0 for _ in range(len(data_names) - 1)] )\n",
        "plt.legend(\n",
        "    bbox_to_anchor = (-0.16, 0.45, 0.25, 0.25),\n",
        "    loc = 'lower left', labels = data_names )\n",
        "fig.savefig('pie.png')"
      ],
      "execution_count": 87,
      "outputs": [
        {
          "output_type": "display_data",
          "data": {
            "image/png": "[encoded data removed]",
            "text/plain": [
              "<Figure size 512x384 with 1 Axes>"
            ]
          },
          "metadata": {
            "tags": []
          }
        }
      ]
    },
    {
      "cell_type": "code",
      "metadata": {
        "colab": {
          "base_uri": "https://localhost:8080/",
          "height": 77
        },
        "id": "BiMiP0Zk-wi2",
        "outputId": "e1f788c0-c8c5-4023-cfd2-2c0288549ec4"
      },
      "source": [
        "# создала новый датафрейм, в котором рассчитала дополнительный доход медиков и удалила лишние колонки\n",
        "\n",
        "mi = med.query('2011 == Year')\n",
        "m1 = mi.drop(['Year','Id', 'BasePay', 'OvertimePay'], axis = 1)  \n",
        "m1"
      ],
      "execution_count": 88,
      "outputs": [
        {
          "output_type": "execute_result",
          "data": {
            "text/html": [
              "<div>\n",
              "<style scoped>\n",
              "    .dataframe tbody tr th:only-of-type {\n",
              "        vertical-align: middle;\n",
              "    }\n",
              "\n",
              "    .dataframe tbody tr th {\n",
              "        vertical-align: top;\n",
              "    }\n",
              "\n",
              "    .dataframe thead th {\n",
              "        text-align: right;\n",
              "    }\n",
              "</style>\n",
              "<table border=\"1\" class=\"dataframe\">\n",
              "  <thead>\n",
              "    <tr style=\"text-align: right;\">\n",
              "      <th></th>\n",
              "      <th>OtherPay</th>\n",
              "      <th>TotalPay</th>\n",
              "      <th>TotalPayBenefits</th>\n",
              "    </tr>\n",
              "  </thead>\n",
              "  <tbody>\n",
              "    <tr>\n",
              "      <th>0</th>\n",
              "      <td>6296.708173</td>\n",
              "      <td>89913.511123</td>\n",
              "      <td>89913.511123</td>\n",
              "    </tr>\n",
              "  </tbody>\n",
              "</table>\n",
              "</div>"
            ],
            "text/plain": [
              "      OtherPay      TotalPay  TotalPayBenefits\n",
              "0  6296.708173  89913.511123      89913.511123"
            ]
          },
          "metadata": {
            "tags": []
          },
          "execution_count": 88
        }
      ]
    },
    {
      "cell_type": "code",
      "metadata": {
        "colab": {
          "base_uri": "https://localhost:8080/",
          "height": 338
        },
        "id": "c348h-yj_PCR",
        "outputId": "984c9978-edce-42e3-bd0f-d4f7532064e7"
      },
      "source": [
        "# построила диаграмму распределения дополнительного дохода медиков \n",
        "\n",
        "data_names = ['OtherPay', 'TotalPay', 'TotalPayBenefits']\n",
        "data_values = [6297, 89914, 89914]\n",
        "dpi = 80\n",
        "fig = plt.figure(dpi = dpi, figsize = (512 / dpi, 384 / dpi) )\n",
        "\n",
        "plt.title('Распределение бюджета (%)')\n",
        "\n",
        "xs = range(len(data_names))\n",
        "\n",
        "plt.pie(\n",
        "    data_values, autopct='%.1f', radius = 1.1,\n",
        "    explode = [0.15] + [0 for _ in range(len(data_names) - 1)] )\n",
        "plt.legend(\n",
        "    bbox_to_anchor = (-0.16, 0.45, 0.25, 0.25),\n",
        "    loc = 'lower left', labels = data_names )\n",
        "fig.savefig('pie.png')"
      ],
      "execution_count": 89,
      "outputs": [
        {
          "output_type": "display_data",
          "data": {
            "image/png": "[encoded data removed]",
            "text/plain": [
              "<Figure size 512x384 with 1 Axes>"
            ]
          },
          "metadata": {
            "tags": []
          }
        }
      ]
    },
    {
      "cell_type": "code",
      "metadata": {
        "colab": {
          "base_uri": "https://localhost:8080/",
          "height": 77
        },
        "id": "QrgMyT9y_xmH",
        "outputId": "e0395ee8-1ea4-42ca-fe7c-383360810591"
      },
      "source": [
        "# создала новый датафрейм, в котором рассчитала дополнительный доход полицейских и удалила лишние колонки\n",
        "\n",
        "pi = police.query('2011 == Year')\n",
        "p1 = pi.drop(['Year','Id', 'BasePay', 'OvertimePay'], axis = 1)  \n",
        "p1"
      ],
      "execution_count": 90,
      "outputs": [
        {
          "output_type": "execute_result",
          "data": {
            "text/html": [
              "<div>\n",
              "<style scoped>\n",
              "    .dataframe tbody tr th:only-of-type {\n",
              "        vertical-align: middle;\n",
              "    }\n",
              "\n",
              "    .dataframe tbody tr th {\n",
              "        vertical-align: top;\n",
              "    }\n",
              "\n",
              "    .dataframe thead th {\n",
              "        text-align: right;\n",
              "    }\n",
              "</style>\n",
              "<table border=\"1\" class=\"dataframe\">\n",
              "  <thead>\n",
              "    <tr style=\"text-align: right;\">\n",
              "      <th></th>\n",
              "      <th>OtherPay</th>\n",
              "      <th>TotalPay</th>\n",
              "      <th>TotalPayBenefits</th>\n",
              "    </tr>\n",
              "  </thead>\n",
              "  <tbody>\n",
              "    <tr>\n",
              "      <th>0</th>\n",
              "      <td>12268.116055</td>\n",
              "      <td>127097.17166</td>\n",
              "      <td>127097.17166</td>\n",
              "    </tr>\n",
              "  </tbody>\n",
              "</table>\n",
              "</div>"
            ],
            "text/plain": [
              "       OtherPay      TotalPay  TotalPayBenefits\n",
              "0  12268.116055  127097.17166      127097.17166"
            ]
          },
          "metadata": {
            "tags": []
          },
          "execution_count": 90
        }
      ]
    },
    {
      "cell_type": "code",
      "metadata": {
        "colab": {
          "base_uri": "https://localhost:8080/",
          "height": 338
        },
        "id": "iZ6QukjZ__P3",
        "outputId": "bef42941-a69e-4208-96c4-670f4bfef16a"
      },
      "source": [
        "# построила диаграмму распределения дополнительного дохода полицейских \n",
        "\n",
        "data_names = ['OtherPay', 'TotalPay', 'TotalPayBenefits']\n",
        "data_values = [12268, 127097, 127097]\n",
        "dpi = 80\n",
        "fig = plt.figure(dpi = dpi, figsize = (512 / dpi, 384 / dpi) )\n",
        "\n",
        "plt.title('Распределение бюджета (%)')\n",
        "\n",
        "xs = range(len(data_names))\n",
        "\n",
        "plt.pie(\n",
        "    data_values, autopct='%.1f', radius = 1.1,\n",
        "    explode = [0.15] + [0 for _ in range(len(data_names) - 1)] )\n",
        "plt.legend(\n",
        "    bbox_to_anchor = (-0.16, 0.45, 0.25, 0.25),\n",
        "    loc = 'lower left', labels = data_names )\n",
        "fig.savefig('pie.png')"
      ],
      "execution_count": 91,
      "outputs": [
        {
          "output_type": "display_data",
          "data": {
            "image/png": "[encoded data removed]",
            "text/plain": [
              "<Figure size 512x384 with 1 Axes>"
            ]
          },
          "metadata": {
            "tags": []
          }
        }
      ]
    },
    {
      "cell_type": "markdown",
      "metadata": {
        "id": "-ZWARloEAZRb"
      },
      "source": [
        "Какое количество людей в каждом департаменте?"
      ]
    },
    {
      "cell_type": "code",
      "metadata": {
        "colab": {
          "base_uri": "https://localhost:8080/",
          "height": 436
        },
        "id": "RvTiHMJ3n0Qz",
        "outputId": "b3e596be-0203-4034-c263-64620f0fcf81"
      },
      "source": [
        "# определила кол-во людей в каждом департаменте. Для этого провела группировку по имени и должности\n",
        "\n",
        "# 222 пожарных\n",
        "\n",
        "fire_df.groupby(['EmployeeName', 'JobTitle']).count() "
      ],
      "execution_count": 92,
      "outputs": [
        {
          "output_type": "execute_result",
          "data": {
            "text/html": [
              "<div>\n",
              "<style scoped>\n",
              "    .dataframe tbody tr th:only-of-type {\n",
              "        vertical-align: middle;\n",
              "    }\n",
              "\n",
              "    .dataframe tbody tr th {\n",
              "        vertical-align: top;\n",
              "    }\n",
              "\n",
              "    .dataframe thead th {\n",
              "        text-align: right;\n",
              "    }\n",
              "</style>\n",
              "<table border=\"1\" class=\"dataframe\">\n",
              "  <thead>\n",
              "    <tr style=\"text-align: right;\">\n",
              "      <th></th>\n",
              "      <th></th>\n",
              "      <th>Id</th>\n",
              "      <th>BasePay</th>\n",
              "      <th>OvertimePay</th>\n",
              "      <th>OtherPay</th>\n",
              "      <th>TotalPay</th>\n",
              "      <th>TotalPayBenefits</th>\n",
              "      <th>Year</th>\n",
              "      <th>Agency</th>\n",
              "    </tr>\n",
              "    <tr>\n",
              "      <th>EmployeeName</th>\n",
              "      <th>JobTitle</th>\n",
              "      <th></th>\n",
              "      <th></th>\n",
              "      <th></th>\n",
              "      <th></th>\n",
              "      <th></th>\n",
              "      <th></th>\n",
              "      <th></th>\n",
              "      <th></th>\n",
              "    </tr>\n",
              "  </thead>\n",
              "  <tbody>\n",
              "    <tr>\n",
              "      <th rowspan=\"2\" valign=\"top\">AARON STEVENSON</th>\n",
              "      <th>ASSISTANT CHIEF OF DEPARTMENT, (FIRE DEPARTMENT)</th>\n",
              "      <td>1</td>\n",
              "      <td>1</td>\n",
              "      <td>1</td>\n",
              "      <td>1</td>\n",
              "      <td>1</td>\n",
              "      <td>1</td>\n",
              "      <td>1</td>\n",
              "      <td>1</td>\n",
              "    </tr>\n",
              "    <tr>\n",
              "      <th>LIEUTENANT, FIRE DEPARTMENT</th>\n",
              "      <td>1</td>\n",
              "      <td>1</td>\n",
              "      <td>1</td>\n",
              "      <td>1</td>\n",
              "      <td>1</td>\n",
              "      <td>1</td>\n",
              "      <td>1</td>\n",
              "      <td>1</td>\n",
              "    </tr>\n",
              "    <tr>\n",
              "      <th>AISHA KRIEGER</th>\n",
              "      <th>LIEUTENANT, FIRE DEPARTMENT</th>\n",
              "      <td>1</td>\n",
              "      <td>1</td>\n",
              "      <td>1</td>\n",
              "      <td>1</td>\n",
              "      <td>1</td>\n",
              "      <td>1</td>\n",
              "      <td>1</td>\n",
              "      <td>1</td>\n",
              "    </tr>\n",
              "    <tr>\n",
              "      <th>ALAN REYNAUD</th>\n",
              "      <th>LIEUTENANT, FIRE DEPARTMENT</th>\n",
              "      <td>1</td>\n",
              "      <td>1</td>\n",
              "      <td>1</td>\n",
              "      <td>1</td>\n",
              "      <td>1</td>\n",
              "      <td>1</td>\n",
              "      <td>1</td>\n",
              "      <td>1</td>\n",
              "    </tr>\n",
              "    <tr>\n",
              "      <th>ALAN WONG</th>\n",
              "      <th>LIEUTENANT, FIRE DEPARTMENT</th>\n",
              "      <td>1</td>\n",
              "      <td>1</td>\n",
              "      <td>1</td>\n",
              "      <td>1</td>\n",
              "      <td>1</td>\n",
              "      <td>1</td>\n",
              "      <td>1</td>\n",
              "      <td>1</td>\n",
              "    </tr>\n",
              "    <tr>\n",
              "      <th>...</th>\n",
              "      <th>...</th>\n",
              "      <td>...</td>\n",
              "      <td>...</td>\n",
              "      <td>...</td>\n",
              "      <td>...</td>\n",
              "      <td>...</td>\n",
              "      <td>...</td>\n",
              "      <td>...</td>\n",
              "      <td>...</td>\n",
              "    </tr>\n",
              "    <tr>\n",
              "      <th>VINCENT PEREZ</th>\n",
              "      <th>LIEUTENANT, FIRE DEPARTMENT</th>\n",
              "      <td>1</td>\n",
              "      <td>1</td>\n",
              "      <td>1</td>\n",
              "      <td>1</td>\n",
              "      <td>1</td>\n",
              "      <td>1</td>\n",
              "      <td>1</td>\n",
              "      <td>1</td>\n",
              "    </tr>\n",
              "    <tr>\n",
              "      <th>WALTER VILLAVICENCIO</th>\n",
              "      <th>LIEUTENANT, FIRE DEPARTMENT</th>\n",
              "      <td>1</td>\n",
              "      <td>1</td>\n",
              "      <td>1</td>\n",
              "      <td>1</td>\n",
              "      <td>1</td>\n",
              "      <td>1</td>\n",
              "      <td>1</td>\n",
              "      <td>1</td>\n",
              "    </tr>\n",
              "    <tr>\n",
              "      <th>WAYNE WONG</th>\n",
              "      <th>LIEUTENANT, FIRE DEPARTMENT</th>\n",
              "      <td>1</td>\n",
              "      <td>1</td>\n",
              "      <td>1</td>\n",
              "      <td>1</td>\n",
              "      <td>1</td>\n",
              "      <td>1</td>\n",
              "      <td>1</td>\n",
              "      <td>1</td>\n",
              "    </tr>\n",
              "    <tr>\n",
              "      <th>WILLIAM MCFARLAND</th>\n",
              "      <th>LIEUTENANT, FIRE DEPARTMENT</th>\n",
              "      <td>1</td>\n",
              "      <td>1</td>\n",
              "      <td>1</td>\n",
              "      <td>1</td>\n",
              "      <td>1</td>\n",
              "      <td>1</td>\n",
              "      <td>1</td>\n",
              "      <td>1</td>\n",
              "    </tr>\n",
              "    <tr>\n",
              "      <th>ZACHARY PUMPHREY</th>\n",
              "      <th>BATTALION CHIEF, (FIRE DEPARTMENT)</th>\n",
              "      <td>1</td>\n",
              "      <td>1</td>\n",
              "      <td>1</td>\n",
              "      <td>1</td>\n",
              "      <td>1</td>\n",
              "      <td>1</td>\n",
              "      <td>1</td>\n",
              "      <td>1</td>\n",
              "    </tr>\n",
              "  </tbody>\n",
              "</table>\n",
              "<p>222 rows × 8 columns</p>\n",
              "</div>"
            ],
            "text/plain": [
              "                                                                       Id  ...  Agency\n",
              "EmployeeName         JobTitle                                              ...        \n",
              "AARON STEVENSON      ASSISTANT CHIEF OF DEPARTMENT, (FIRE DEPARTMENT)   1  ...       1\n",
              "                     LIEUTENANT, FIRE DEPARTMENT                        1  ...       1\n",
              "AISHA KRIEGER        LIEUTENANT, FIRE DEPARTMENT                        1  ...       1\n",
              "ALAN REYNAUD         LIEUTENANT, FIRE DEPARTMENT                        1  ...       1\n",
              "ALAN WONG            LIEUTENANT, FIRE DEPARTMENT                        1  ...       1\n",
              "...                                                                    ..  ...     ...\n",
              "VINCENT PEREZ        LIEUTENANT, FIRE DEPARTMENT                        1  ...       1\n",
              "WALTER VILLAVICENCIO LIEUTENANT, FIRE DEPARTMENT                        1  ...       1\n",
              "WAYNE WONG           LIEUTENANT, FIRE DEPARTMENT                        1  ...       1\n",
              "WILLIAM MCFARLAND    LIEUTENANT, FIRE DEPARTMENT                        1  ...       1\n",
              "ZACHARY PUMPHREY     BATTALION CHIEF, (FIRE DEPARTMENT)                 1  ...       1\n",
              "\n",
              "[222 rows x 8 columns]"
            ]
          },
          "metadata": {
            "tags": []
          },
          "execution_count": 92
        }
      ]
    },
    {
      "cell_type": "code",
      "metadata": {
        "colab": {
          "base_uri": "https://localhost:8080/",
          "height": 436
        },
        "id": "pEOjyWwxpbbF",
        "outputId": "cc59099b-3aa4-4e19-b991-0076982949b3"
      },
      "source": [
        "# 2507 полицейских\n",
        "\n",
        "police_df.groupby(['EmployeeName', 'JobTitle']).count() "
      ],
      "execution_count": 94,
      "outputs": [
        {
          "output_type": "execute_result",
          "data": {
            "text/html": [
              "<div>\n",
              "<style scoped>\n",
              "    .dataframe tbody tr th:only-of-type {\n",
              "        vertical-align: middle;\n",
              "    }\n",
              "\n",
              "    .dataframe tbody tr th {\n",
              "        vertical-align: top;\n",
              "    }\n",
              "\n",
              "    .dataframe thead th {\n",
              "        text-align: right;\n",
              "    }\n",
              "</style>\n",
              "<table border=\"1\" class=\"dataframe\">\n",
              "  <thead>\n",
              "    <tr style=\"text-align: right;\">\n",
              "      <th></th>\n",
              "      <th></th>\n",
              "      <th>Id</th>\n",
              "      <th>BasePay</th>\n",
              "      <th>OvertimePay</th>\n",
              "      <th>OtherPay</th>\n",
              "      <th>TotalPay</th>\n",
              "      <th>TotalPayBenefits</th>\n",
              "      <th>Year</th>\n",
              "      <th>Agency</th>\n",
              "    </tr>\n",
              "    <tr>\n",
              "      <th>EmployeeName</th>\n",
              "      <th>JobTitle</th>\n",
              "      <th></th>\n",
              "      <th></th>\n",
              "      <th></th>\n",
              "      <th></th>\n",
              "      <th></th>\n",
              "      <th></th>\n",
              "      <th></th>\n",
              "      <th></th>\n",
              "    </tr>\n",
              "  </thead>\n",
              "  <tbody>\n",
              "    <tr>\n",
              "      <th>AARON BALLONADO</th>\n",
              "      <th>POLICE OFFICER II</th>\n",
              "      <td>1</td>\n",
              "      <td>1</td>\n",
              "      <td>1</td>\n",
              "      <td>1</td>\n",
              "      <td>1</td>\n",
              "      <td>1</td>\n",
              "      <td>1</td>\n",
              "      <td>1</td>\n",
              "    </tr>\n",
              "    <tr>\n",
              "      <th>AARON COWHIG</th>\n",
              "      <th>POLICE OFFICER II</th>\n",
              "      <td>1</td>\n",
              "      <td>1</td>\n",
              "      <td>1</td>\n",
              "      <td>1</td>\n",
              "      <td>1</td>\n",
              "      <td>1</td>\n",
              "      <td>1</td>\n",
              "      <td>1</td>\n",
              "    </tr>\n",
              "    <tr>\n",
              "      <th>AARON FISCHER</th>\n",
              "      <th>POLICE OFFICER III</th>\n",
              "      <td>1</td>\n",
              "      <td>1</td>\n",
              "      <td>1</td>\n",
              "      <td>1</td>\n",
              "      <td>1</td>\n",
              "      <td>1</td>\n",
              "      <td>1</td>\n",
              "      <td>1</td>\n",
              "    </tr>\n",
              "    <tr>\n",
              "      <th>AARON FOLTZ</th>\n",
              "      <th>POLICE OFFICER II</th>\n",
              "      <td>1</td>\n",
              "      <td>1</td>\n",
              "      <td>1</td>\n",
              "      <td>1</td>\n",
              "      <td>1</td>\n",
              "      <td>1</td>\n",
              "      <td>1</td>\n",
              "      <td>1</td>\n",
              "    </tr>\n",
              "    <tr>\n",
              "      <th>AARON LOZADA</th>\n",
              "      <th>SERGEANT III (POLICE DEPARTMENT)</th>\n",
              "      <td>1</td>\n",
              "      <td>1</td>\n",
              "      <td>1</td>\n",
              "      <td>1</td>\n",
              "      <td>1</td>\n",
              "      <td>1</td>\n",
              "      <td>1</td>\n",
              "      <td>1</td>\n",
              "    </tr>\n",
              "    <tr>\n",
              "      <th>...</th>\n",
              "      <th>...</th>\n",
              "      <td>...</td>\n",
              "      <td>...</td>\n",
              "      <td>...</td>\n",
              "      <td>...</td>\n",
              "      <td>...</td>\n",
              "      <td>...</td>\n",
              "      <td>...</td>\n",
              "      <td>...</td>\n",
              "    </tr>\n",
              "    <tr>\n",
              "      <th>YVETTE POINDEXTER</th>\n",
              "      <th>POLICE OFFICER I</th>\n",
              "      <td>1</td>\n",
              "      <td>1</td>\n",
              "      <td>1</td>\n",
              "      <td>1</td>\n",
              "      <td>1</td>\n",
              "      <td>1</td>\n",
              "      <td>1</td>\n",
              "      <td>1</td>\n",
              "    </tr>\n",
              "    <tr>\n",
              "      <th>YVONNE ALLEN</th>\n",
              "      <th>INSPECTOR III, (POLICE DEPARTMENT)</th>\n",
              "      <td>1</td>\n",
              "      <td>1</td>\n",
              "      <td>1</td>\n",
              "      <td>1</td>\n",
              "      <td>1</td>\n",
              "      <td>1</td>\n",
              "      <td>1</td>\n",
              "      <td>1</td>\n",
              "    </tr>\n",
              "    <tr>\n",
              "      <th>YVONNE MOILANEN</th>\n",
              "      <th>POLICE OFFICER II</th>\n",
              "      <td>1</td>\n",
              "      <td>1</td>\n",
              "      <td>1</td>\n",
              "      <td>1</td>\n",
              "      <td>1</td>\n",
              "      <td>1</td>\n",
              "      <td>1</td>\n",
              "      <td>1</td>\n",
              "    </tr>\n",
              "    <tr>\n",
              "      <th>ZAHID KHAN</th>\n",
              "      <th>POLICE OFFICER I</th>\n",
              "      <td>1</td>\n",
              "      <td>1</td>\n",
              "      <td>1</td>\n",
              "      <td>1</td>\n",
              "      <td>1</td>\n",
              "      <td>1</td>\n",
              "      <td>1</td>\n",
              "      <td>1</td>\n",
              "    </tr>\n",
              "    <tr>\n",
              "      <th>ZOILA MAGUINA</th>\n",
              "      <th>POLICE OFFICER III</th>\n",
              "      <td>1</td>\n",
              "      <td>1</td>\n",
              "      <td>1</td>\n",
              "      <td>1</td>\n",
              "      <td>1</td>\n",
              "      <td>1</td>\n",
              "      <td>1</td>\n",
              "      <td>1</td>\n",
              "    </tr>\n",
              "  </tbody>\n",
              "</table>\n",
              "<p>2507 rows × 8 columns</p>\n",
              "</div>"
            ],
            "text/plain": [
              "                                                      Id  BasePay  ...  Year  Agency\n",
              "EmployeeName      JobTitle                                         ...              \n",
              "AARON BALLONADO   POLICE OFFICER II                    1        1  ...     1       1\n",
              "AARON COWHIG      POLICE OFFICER II                    1        1  ...     1       1\n",
              "AARON FISCHER     POLICE OFFICER III                   1        1  ...     1       1\n",
              "AARON FOLTZ       POLICE OFFICER II                    1        1  ...     1       1\n",
              "AARON LOZADA      SERGEANT III (POLICE DEPARTMENT)     1        1  ...     1       1\n",
              "...                                                   ..      ...  ...   ...     ...\n",
              "YVETTE POINDEXTER POLICE OFFICER I                     1        1  ...     1       1\n",
              "YVONNE ALLEN      INSPECTOR III, (POLICE DEPARTMENT)   1        1  ...     1       1\n",
              "YVONNE MOILANEN   POLICE OFFICER II                    1        1  ...     1       1\n",
              "ZAHID KHAN        POLICE OFFICER I                     1        1  ...     1       1\n",
              "ZOILA MAGUINA     POLICE OFFICER III                   1        1  ...     1       1\n",
              "\n",
              "[2507 rows x 8 columns]"
            ]
          },
          "metadata": {
            "tags": []
          },
          "execution_count": 94
        }
      ]
    },
    {
      "cell_type": "code",
      "metadata": {
        "colab": {
          "base_uri": "https://localhost:8080/",
          "height": 436
        },
        "id": "k8bFJ2s0phrA",
        "outputId": "0cbe1003-4807-4491-c20b-70951bf54ab3"
      },
      "source": [
        "# 739 медработников\n",
        "\n",
        "med_df.groupby(['EmployeeName', 'JobTitle']).count() "
      ],
      "execution_count": 95,
      "outputs": [
        {
          "output_type": "execute_result",
          "data": {
            "text/html": [
              "<div>\n",
              "<style scoped>\n",
              "    .dataframe tbody tr th:only-of-type {\n",
              "        vertical-align: middle;\n",
              "    }\n",
              "\n",
              "    .dataframe tbody tr th {\n",
              "        vertical-align: top;\n",
              "    }\n",
              "\n",
              "    .dataframe thead th {\n",
              "        text-align: right;\n",
              "    }\n",
              "</style>\n",
              "<table border=\"1\" class=\"dataframe\">\n",
              "  <thead>\n",
              "    <tr style=\"text-align: right;\">\n",
              "      <th></th>\n",
              "      <th></th>\n",
              "      <th>Id</th>\n",
              "      <th>BasePay</th>\n",
              "      <th>OvertimePay</th>\n",
              "      <th>OtherPay</th>\n",
              "      <th>TotalPay</th>\n",
              "      <th>TotalPayBenefits</th>\n",
              "      <th>Year</th>\n",
              "      <th>Agency</th>\n",
              "    </tr>\n",
              "    <tr>\n",
              "      <th>EmployeeName</th>\n",
              "      <th>JobTitle</th>\n",
              "      <th></th>\n",
              "      <th></th>\n",
              "      <th></th>\n",
              "      <th></th>\n",
              "      <th></th>\n",
              "      <th></th>\n",
              "      <th></th>\n",
              "      <th></th>\n",
              "    </tr>\n",
              "  </thead>\n",
              "  <tbody>\n",
              "    <tr>\n",
              "      <th>ADAM DOMINGUEZ</th>\n",
              "      <th>MEDICAL EXAMINER'S INVESTIGATOR I</th>\n",
              "      <td>1</td>\n",
              "      <td>1</td>\n",
              "      <td>1</td>\n",
              "      <td>1</td>\n",
              "      <td>1</td>\n",
              "      <td>1</td>\n",
              "      <td>1</td>\n",
              "      <td>1</td>\n",
              "    </tr>\n",
              "    <tr>\n",
              "      <th>ADAM HELLMAN</th>\n",
              "      <th>MEDICAL EXAMINER'S INVESTIGATOR I</th>\n",
              "      <td>1</td>\n",
              "      <td>1</td>\n",
              "      <td>1</td>\n",
              "      <td>1</td>\n",
              "      <td>1</td>\n",
              "      <td>1</td>\n",
              "      <td>1</td>\n",
              "      <td>1</td>\n",
              "    </tr>\n",
              "    <tr>\n",
              "      <th>ADAM LEWIS</th>\n",
              "      <th>FIRE FIGHTER PARAMEDIC</th>\n",
              "      <td>1</td>\n",
              "      <td>1</td>\n",
              "      <td>1</td>\n",
              "      <td>1</td>\n",
              "      <td>1</td>\n",
              "      <td>1</td>\n",
              "      <td>1</td>\n",
              "      <td>1</td>\n",
              "    </tr>\n",
              "    <tr>\n",
              "      <th>AL GARZA</th>\n",
              "      <th>FIRE FIGHTER PARAMEDIC</th>\n",
              "      <td>1</td>\n",
              "      <td>1</td>\n",
              "      <td>1</td>\n",
              "      <td>1</td>\n",
              "      <td>1</td>\n",
              "      <td>1</td>\n",
              "      <td>1</td>\n",
              "      <td>1</td>\n",
              "    </tr>\n",
              "    <tr>\n",
              "      <th>ALAN PRINGLE</th>\n",
              "      <th>MEDICAL EXAMINER'S INVESTIGATOR III</th>\n",
              "      <td>1</td>\n",
              "      <td>1</td>\n",
              "      <td>1</td>\n",
              "      <td>1</td>\n",
              "      <td>1</td>\n",
              "      <td>1</td>\n",
              "      <td>1</td>\n",
              "      <td>1</td>\n",
              "    </tr>\n",
              "    <tr>\n",
              "      <th>...</th>\n",
              "      <th>...</th>\n",
              "      <td>...</td>\n",
              "      <td>...</td>\n",
              "      <td>...</td>\n",
              "      <td>...</td>\n",
              "      <td>...</td>\n",
              "      <td>...</td>\n",
              "      <td>...</td>\n",
              "      <td>...</td>\n",
              "    </tr>\n",
              "    <tr>\n",
              "      <th>YOLANDA HERRON</th>\n",
              "      <th>MEDICAL RECORDS CLERK</th>\n",
              "      <td>1</td>\n",
              "      <td>1</td>\n",
              "      <td>1</td>\n",
              "      <td>1</td>\n",
              "      <td>1</td>\n",
              "      <td>1</td>\n",
              "      <td>1</td>\n",
              "      <td>1</td>\n",
              "    </tr>\n",
              "    <tr>\n",
              "      <th>YUBING XUE</th>\n",
              "      <th>MEDICAL EVALUATIONS ASSISTANT</th>\n",
              "      <td>1</td>\n",
              "      <td>1</td>\n",
              "      <td>1</td>\n",
              "      <td>1</td>\n",
              "      <td>1</td>\n",
              "      <td>1</td>\n",
              "      <td>1</td>\n",
              "      <td>1</td>\n",
              "    </tr>\n",
              "    <tr>\n",
              "      <th>YVETTE ANDERSON</th>\n",
              "      <th>MEDICAL EVALUATIONS ASSISTANT</th>\n",
              "      <td>1</td>\n",
              "      <td>1</td>\n",
              "      <td>1</td>\n",
              "      <td>1</td>\n",
              "      <td>1</td>\n",
              "      <td>1</td>\n",
              "      <td>1</td>\n",
              "      <td>1</td>\n",
              "    </tr>\n",
              "    <tr>\n",
              "      <th>ZACHARY BEATTY</th>\n",
              "      <th>FIRE FIGHTER PARAMEDIC</th>\n",
              "      <td>1</td>\n",
              "      <td>1</td>\n",
              "      <td>1</td>\n",
              "      <td>1</td>\n",
              "      <td>1</td>\n",
              "      <td>1</td>\n",
              "      <td>1</td>\n",
              "      <td>1</td>\n",
              "    </tr>\n",
              "    <tr>\n",
              "      <th>ZAYINNA LEIVA</th>\n",
              "      <th>MEDICAL SOCIAL WORKER</th>\n",
              "      <td>1</td>\n",
              "      <td>1</td>\n",
              "      <td>1</td>\n",
              "      <td>1</td>\n",
              "      <td>1</td>\n",
              "      <td>1</td>\n",
              "      <td>1</td>\n",
              "      <td>1</td>\n",
              "    </tr>\n",
              "  </tbody>\n",
              "</table>\n",
              "<p>739 rows × 8 columns</p>\n",
              "</div>"
            ],
            "text/plain": [
              "                                                     Id  BasePay  ...  Year  Agency\n",
              "EmployeeName    JobTitle                                          ...              \n",
              "ADAM DOMINGUEZ  MEDICAL EXAMINER'S INVESTIGATOR I     1        1  ...     1       1\n",
              "ADAM HELLMAN    MEDICAL EXAMINER'S INVESTIGATOR I     1        1  ...     1       1\n",
              "ADAM LEWIS      FIRE FIGHTER PARAMEDIC                1        1  ...     1       1\n",
              "AL GARZA        FIRE FIGHTER PARAMEDIC                1        1  ...     1       1\n",
              "ALAN PRINGLE    MEDICAL EXAMINER'S INVESTIGATOR III   1        1  ...     1       1\n",
              "...                                                  ..      ...  ...   ...     ...\n",
              "YOLANDA HERRON  MEDICAL RECORDS CLERK                 1        1  ...     1       1\n",
              "YUBING XUE      MEDICAL EVALUATIONS ASSISTANT         1        1  ...     1       1\n",
              "YVETTE ANDERSON MEDICAL EVALUATIONS ASSISTANT         1        1  ...     1       1\n",
              "ZACHARY BEATTY  FIRE FIGHTER PARAMEDIC                1        1  ...     1       1\n",
              "ZAYINNA LEIVA   MEDICAL SOCIAL WORKER                 1        1  ...     1       1\n",
              "\n",
              "[739 rows x 8 columns]"
            ]
          },
          "metadata": {
            "tags": []
          },
          "execution_count": 95
        }
      ]
    },
    {
      "cell_type": "markdown",
      "metadata": {
        "id": "Wl0iNngkBCIe"
      },
      "source": [
        "Какое количество с разным уровнем дохода? (гистограмма с шагом в 5к)"
      ]
    },
    {
      "cell_type": "code",
      "metadata": {
        "colab": {
          "base_uri": "https://localhost:8080/"
        },
        "id": "6NjK048OmWz0",
        "outputId": "a41c2606-e979-4f06-c447-487be5b93263"
      },
      "source": [
        "med_df.groupby('BasePay')['BasePay'].count() # сгруппируем по размеру базовой зп"
      ],
      "execution_count": null,
      "outputs": [
        {
          "output_type": "execute_result",
          "data": {
            "text/plain": [
              "BasePay\n",
              "0.00         10\n",
              "516.40        1\n",
              "597.80        1\n",
              "1408.80       1\n",
              "2221.86       1\n",
              "             ..\n",
              "217410.80     1\n",
              "245124.44     1\n",
              "257510.44     1\n",
              "257510.48     1\n",
              "257510.59     1\n",
              "Name: BasePay, Length: 557, dtype: int64"
            ]
          },
          "metadata": {
            "tags": []
          },
          "execution_count": 62
        }
      ]
    },
    {
      "cell_type": "code",
      "metadata": {
        "colab": {
          "base_uri": "https://localhost:8080/",
          "height": 406
        },
        "id": "h_ZeaEr9sH9b",
        "outputId": "5c58b235-5ef9-478d-90c7-4f7479198e2f"
      },
      "source": [
        "me_df = med_df[['EmployeeName', 'BasePay']]\n",
        "me_df"
      ],
      "execution_count": null,
      "outputs": [
        {
          "output_type": "execute_result",
          "data": {
            "text/html": [
              "<div>\n",
              "<style scoped>\n",
              "    .dataframe tbody tr th:only-of-type {\n",
              "        vertical-align: middle;\n",
              "    }\n",
              "\n",
              "    .dataframe tbody tr th {\n",
              "        vertical-align: top;\n",
              "    }\n",
              "\n",
              "    .dataframe thead th {\n",
              "        text-align: right;\n",
              "    }\n",
              "</style>\n",
              "<table border=\"1\" class=\"dataframe\">\n",
              "  <thead>\n",
              "    <tr style=\"text-align: right;\">\n",
              "      <th></th>\n",
              "      <th>EmployeeName</th>\n",
              "      <th>BasePay</th>\n",
              "    </tr>\n",
              "  </thead>\n",
              "  <tbody>\n",
              "    <tr>\n",
              "      <th>17</th>\n",
              "      <td>SEBASTIAN WONG</td>\n",
              "      <td>140546.87</td>\n",
              "    </tr>\n",
              "    <tr>\n",
              "      <th>19</th>\n",
              "      <td>ELLEN MOFFATT</td>\n",
              "      <td>257510.59</td>\n",
              "    </tr>\n",
              "    <tr>\n",
              "      <th>20</th>\n",
              "      <td>VENUS AZAR</td>\n",
              "      <td>257510.48</td>\n",
              "    </tr>\n",
              "    <tr>\n",
              "      <th>21</th>\n",
              "      <td>JUDY MELINEK</td>\n",
              "      <td>257510.44</td>\n",
              "    </tr>\n",
              "    <tr>\n",
              "      <th>36</th>\n",
              "      <td>SUSAN CURRIN</td>\n",
              "      <td>245124.44</td>\n",
              "    </tr>\n",
              "    <tr>\n",
              "      <th>...</th>\n",
              "      <td>...</td>\n",
              "      <td>...</td>\n",
              "    </tr>\n",
              "    <tr>\n",
              "      <th>35597</th>\n",
              "      <td>JOHN CORTEZ</td>\n",
              "      <td>0.00</td>\n",
              "    </tr>\n",
              "    <tr>\n",
              "      <th>35732</th>\n",
              "      <td>NICOLE BARTOLINI</td>\n",
              "      <td>516.40</td>\n",
              "    </tr>\n",
              "    <tr>\n",
              "      <th>35764</th>\n",
              "      <td>CRAIG STROOPE</td>\n",
              "      <td>0.00</td>\n",
              "    </tr>\n",
              "    <tr>\n",
              "      <th>36076</th>\n",
              "      <td>DEBRA TANIS</td>\n",
              "      <td>0.00</td>\n",
              "    </tr>\n",
              "    <tr>\n",
              "      <th>36115</th>\n",
              "      <td>ANTOINETTE GIBSON</td>\n",
              "      <td>0.00</td>\n",
              "    </tr>\n",
              "  </tbody>\n",
              "</table>\n",
              "<p>739 rows × 2 columns</p>\n",
              "</div>"
            ],
            "text/plain": [
              "            EmployeeName    BasePay\n",
              "17        SEBASTIAN WONG  140546.87\n",
              "19         ELLEN MOFFATT  257510.59\n",
              "20            VENUS AZAR  257510.48\n",
              "21          JUDY MELINEK  257510.44\n",
              "36          SUSAN CURRIN  245124.44\n",
              "...                  ...        ...\n",
              "35597        JOHN CORTEZ       0.00\n",
              "35732   NICOLE BARTOLINI     516.40\n",
              "35764      CRAIG STROOPE       0.00\n",
              "36076        DEBRA TANIS       0.00\n",
              "36115  ANTOINETTE GIBSON       0.00\n",
              "\n",
              "[739 rows x 2 columns]"
            ]
          },
          "metadata": {
            "tags": []
          },
          "execution_count": 63
        }
      ]
    },
    {
      "cell_type": "code",
      "metadata": {
        "colab": {
          "base_uri": "https://localhost:8080/",
          "height": 278
        },
        "id": "AnpKArFrnMS-",
        "outputId": "2f55566a-a4eb-4f8b-95d6-5e1b53e85c91"
      },
      "source": [
        "sns.barplot(x=\"EmployeeName\", y=\"BasePay\", data=med_df);"
      ],
      "execution_count": null,
      "outputs": [
        {
          "output_type": "display_data",
          "data": {
            "image/png": "[encoded data removed]",
            "text/plain": [
              "<Figure size 432x288 with 1 Axes>"
            ]
          },
          "metadata": {
            "tags": [],
            "needs_background": "light"
          }
        }
      ]
    }
  ]
}