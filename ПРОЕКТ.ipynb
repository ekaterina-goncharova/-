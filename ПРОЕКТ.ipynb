{
  "nbformat": 4,
  "nbformat_minor": 0,
  "metadata": {
    "colab": {
      "name": "ПРОЕКТ.ipynb",
      "provenance": [],
      "collapsed_sections": []
    },
    "kernelspec": {
      "name": "python3",
      "display_name": "Python 3"
    },
    "language_info": {
      "name": "python"
    }
  },
  "cells": [
    {
      "cell_type": "code",
      "metadata": {
        "id": "-3nY0MBuVW5g"
      },
      "source": [
        ""
      ],
      "execution_count": null,
      "outputs": []
    },
    {
      "cell_type": "code",
      "metadata": {
        "id": "3Qep8j8AVCtx"
      },
      "source": [
        "import pandas as pd\n",
        "from sklearn.model_selection import train_test_split, cross_val_score, ShuffleSplit\n",
        "from sklearn.metrics import mean_squared_error, accuracy_score, precision_score, recall_score, f1_score, roc_auc_score, roc_curve,auc, fbeta_score\n",
        "import matplotlib.pyplot as plt\n",
        "from sklearn import tree\n",
        "from google.colab import drive"
      ],
      "execution_count": 1,
      "outputs": []
    },
    {
      "cell_type": "code",
      "metadata": {
        "id": "R2rlNNJ5qqDf",
        "colab": {
          "base_uri": "https://localhost:8080/"
        },
        "outputId": "9ad994f8-5d76-47b3-f738-c72718a47e1f"
      },
      "source": [
        "\n",
        "drive.mount('/content/drive')"
      ],
      "execution_count": 2,
      "outputs": [
        {
          "output_type": "stream",
          "text": [
            "Mounted at /content/drive\n"
          ],
          "name": "stdout"
        }
      ]
    },
    {
      "cell_type": "code",
      "metadata": {
        "id": "mCYMP2e9qxN_",
        "colab": {
          "base_uri": "https://localhost:8080/"
        },
        "outputId": "08fc7a5d-d243-4bda-b008-c0f9e5a5419f"
      },
      "source": [
        "cd drive/My\\ Drive"
      ],
      "execution_count": 4,
      "outputs": [
        {
          "output_type": "stream",
          "text": [
            "[Errno 2] No such file or directory: 'drive/My Drive'\n",
            "/content/drive/My Drive\n"
          ],
          "name": "stdout"
        }
      ]
    },
    {
      "cell_type": "code",
      "metadata": {
        "colab": {
          "resources": {
            "http://localhost:8080/nbextensions/google.colab/files.js": {
              "data": "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",
              "ok": true,
              "headers": [
                [
                  "content-type",
                  "application/javascript"
                ]
              ],
              "status": 200,
              "status_text": ""
            }
          },
          "base_uri": "https://localhost:8080/",
          "height": 73
        },
        "id": "sOmw8qFeq51T",
        "outputId": "97536697-e6ce-4ce6-bc68-4bf221af76e9"
      },
      "source": [
        "from google.colab import files # загрузила файл\n",
        "uploaded = files.upload()"
      ],
      "execution_count": 5,
      "outputs": [
        {
          "output_type": "display_data",
          "data": {
            "text/html": [
              "\n",
              "     <input type=\"file\" id=\"files-3942629a-9210-498c-860f-5a9999bcc4c7\" name=\"files[]\" multiple disabled\n",
              "        style=\"border:none\" />\n",
              "     <output id=\"result-3942629a-9210-498c-860f-5a9999bcc4c7\">\n",
              "      Upload widget is only available when the cell has been executed in the\n",
              "      current browser session. Please rerun this cell to enable.\n",
              "      </output>\n",
              "      <script src=\"/nbextensions/google.colab/files.js\"></script> "
            ],
            "text/plain": [
              "<IPython.core.display.HTML object>"
            ]
          },
          "metadata": {
            "tags": []
          }
        },
        {
          "output_type": "stream",
          "text": [
            "Saving Salaries.csv to Salaries (10).csv\n"
          ],
          "name": "stdout"
        }
      ]
    },
    {
      "cell_type": "code",
      "metadata": {
        "colab": {
          "base_uri": "https://localhost:8080/",
          "height": 406
        },
        "id": "JlOZ-L4YvzDR",
        "outputId": "dced789f-f8b4-4a39-c1a4-cdc853b550e9"
      },
      "source": [
        "Salaries_df = pd.read_csv('Salaries.csv')\n",
        "Salaries_df"
      ],
      "execution_count": 6,
      "outputs": [
        {
          "output_type": "execute_result",
          "data": {
            "text/html": [
              "<div>\n",
              "<style scoped>\n",
              "    .dataframe tbody tr th:only-of-type {\n",
              "        vertical-align: middle;\n",
              "    }\n",
              "\n",
              "    .dataframe tbody tr th {\n",
              "        vertical-align: top;\n",
              "    }\n",
              "\n",
              "    .dataframe thead th {\n",
              "        text-align: right;\n",
              "    }\n",
              "</style>\n",
              "<table border=\"1\" class=\"dataframe\">\n",
              "  <thead>\n",
              "    <tr style=\"text-align: right;\">\n",
              "      <th></th>\n",
              "      <th>Id</th>\n",
              "      <th>EmployeeName</th>\n",
              "      <th>JobTitle</th>\n",
              "      <th>BasePay</th>\n",
              "      <th>OvertimePay</th>\n",
              "      <th>OtherPay</th>\n",
              "      <th>Benefits</th>\n",
              "      <th>TotalPay</th>\n",
              "      <th>TotalPayBenefits</th>\n",
              "      <th>Year</th>\n",
              "      <th>Notes</th>\n",
              "      <th>Agency</th>\n",
              "      <th>Status</th>\n",
              "    </tr>\n",
              "  </thead>\n",
              "  <tbody>\n",
              "    <tr>\n",
              "      <th>0</th>\n",
              "      <td>1</td>\n",
              "      <td>NATHANIEL FORD</td>\n",
              "      <td>GENERAL MANAGER-METROPOLITAN TRANSIT AUTHORITY</td>\n",
              "      <td>167411.18</td>\n",
              "      <td>0.00</td>\n",
              "      <td>400184.25</td>\n",
              "      <td>NaN</td>\n",
              "      <td>567595.43</td>\n",
              "      <td>567595.43</td>\n",
              "      <td>2011.0</td>\n",
              "      <td>NaN</td>\n",
              "      <td>San Francisco</td>\n",
              "      <td>NaN</td>\n",
              "    </tr>\n",
              "    <tr>\n",
              "      <th>1</th>\n",
              "      <td>2</td>\n",
              "      <td>GARY JIMENEZ</td>\n",
              "      <td>CAPTAIN III (POLICE DEPARTMENT)</td>\n",
              "      <td>155966.02</td>\n",
              "      <td>245131.88</td>\n",
              "      <td>137811.38</td>\n",
              "      <td>NaN</td>\n",
              "      <td>538909.28</td>\n",
              "      <td>538909.28</td>\n",
              "      <td>2011.0</td>\n",
              "      <td>NaN</td>\n",
              "      <td>San Francisco</td>\n",
              "      <td>NaN</td>\n",
              "    </tr>\n",
              "    <tr>\n",
              "      <th>2</th>\n",
              "      <td>3</td>\n",
              "      <td>ALBERT PARDINI</td>\n",
              "      <td>CAPTAIN III (POLICE DEPARTMENT)</td>\n",
              "      <td>212739.13</td>\n",
              "      <td>106088.18</td>\n",
              "      <td>16452.60</td>\n",
              "      <td>NaN</td>\n",
              "      <td>335279.91</td>\n",
              "      <td>335279.91</td>\n",
              "      <td>2011.0</td>\n",
              "      <td>NaN</td>\n",
              "      <td>San Francisco</td>\n",
              "      <td>NaN</td>\n",
              "    </tr>\n",
              "    <tr>\n",
              "      <th>3</th>\n",
              "      <td>4</td>\n",
              "      <td>CHRISTOPHER CHONG</td>\n",
              "      <td>WIRE ROPE CABLE MAINTENANCE MECHANIC</td>\n",
              "      <td>77916.00</td>\n",
              "      <td>56120.71</td>\n",
              "      <td>198306.90</td>\n",
              "      <td>NaN</td>\n",
              "      <td>332343.61</td>\n",
              "      <td>332343.61</td>\n",
              "      <td>2011.0</td>\n",
              "      <td>NaN</td>\n",
              "      <td>San Francisco</td>\n",
              "      <td>NaN</td>\n",
              "    </tr>\n",
              "    <tr>\n",
              "      <th>4</th>\n",
              "      <td>5</td>\n",
              "      <td>PATRICK GARDNER</td>\n",
              "      <td>DEPUTY CHIEF OF DEPARTMENT,(FIRE DEPARTMENT)</td>\n",
              "      <td>134401.60</td>\n",
              "      <td>9737.00</td>\n",
              "      <td>182234.59</td>\n",
              "      <td>NaN</td>\n",
              "      <td>326373.19</td>\n",
              "      <td>326373.19</td>\n",
              "      <td>2011.0</td>\n",
              "      <td>NaN</td>\n",
              "      <td>San Francisco</td>\n",
              "      <td>NaN</td>\n",
              "    </tr>\n",
              "    <tr>\n",
              "      <th>...</th>\n",
              "      <td>...</td>\n",
              "      <td>...</td>\n",
              "      <td>...</td>\n",
              "      <td>...</td>\n",
              "      <td>...</td>\n",
              "      <td>...</td>\n",
              "      <td>...</td>\n",
              "      <td>...</td>\n",
              "      <td>...</td>\n",
              "      <td>...</td>\n",
              "      <td>...</td>\n",
              "      <td>...</td>\n",
              "      <td>...</td>\n",
              "    </tr>\n",
              "    <tr>\n",
              "      <th>95097</th>\n",
              "      <td>95098</td>\n",
              "      <td>Kyaw M Thwin</td>\n",
              "      <td>Custodian</td>\n",
              "      <td>55026.00</td>\n",
              "      <td>5762.46</td>\n",
              "      <td>2928.25</td>\n",
              "      <td>25120.81</td>\n",
              "      <td>63716.71</td>\n",
              "      <td>88837.52</td>\n",
              "      <td>2013.0</td>\n",
              "      <td>NaN</td>\n",
              "      <td>San Francisco</td>\n",
              "      <td>NaN</td>\n",
              "    </tr>\n",
              "    <tr>\n",
              "      <th>95098</th>\n",
              "      <td>95099</td>\n",
              "      <td>Goldie Pui Yi  Tse</td>\n",
              "      <td>Medical Records Clerk</td>\n",
              "      <td>62109.07</td>\n",
              "      <td>0.00</td>\n",
              "      <td>647.25</td>\n",
              "      <td>26077.14</td>\n",
              "      <td>62756.32</td>\n",
              "      <td>88833.46</td>\n",
              "      <td>2013.0</td>\n",
              "      <td>NaN</td>\n",
              "      <td>San Francisco</td>\n",
              "      <td>NaN</td>\n",
              "    </tr>\n",
              "    <tr>\n",
              "      <th>95099</th>\n",
              "      <td>95100</td>\n",
              "      <td>Stanley J Ellicott</td>\n",
              "      <td>Senior Administrative Analyst</td>\n",
              "      <td>70158.20</td>\n",
              "      <td>0.00</td>\n",
              "      <td>0.00</td>\n",
              "      <td>18671.48</td>\n",
              "      <td>70158.20</td>\n",
              "      <td>88829.68</td>\n",
              "      <td>2013.0</td>\n",
              "      <td>NaN</td>\n",
              "      <td>San Francisco</td>\n",
              "      <td>NaN</td>\n",
              "    </tr>\n",
              "    <tr>\n",
              "      <th>95100</th>\n",
              "      <td>95101</td>\n",
              "      <td>Reginald T Gage</td>\n",
              "      <td>Recreation Coordinator</td>\n",
              "      <td>61398.03</td>\n",
              "      <td>0.00</td>\n",
              "      <td>1346.62</td>\n",
              "      <td>26084.20</td>\n",
              "      <td>62744.65</td>\n",
              "      <td>88828.85</td>\n",
              "      <td>2013.0</td>\n",
              "      <td>NaN</td>\n",
              "      <td>San Francisco</td>\n",
              "      <td>NaN</td>\n",
              "    </tr>\n",
              "    <tr>\n",
              "      <th>95101</th>\n",
              "      <td>95102</td>\n",
              "      <td>Joyce  Chan</td>\n",
              "      <td>Accounta</td>\n",
              "      <td>NaN</td>\n",
              "      <td>NaN</td>\n",
              "      <td>NaN</td>\n",
              "      <td>NaN</td>\n",
              "      <td>NaN</td>\n",
              "      <td>NaN</td>\n",
              "      <td>NaN</td>\n",
              "      <td>NaN</td>\n",
              "      <td>NaN</td>\n",
              "      <td>NaN</td>\n",
              "    </tr>\n",
              "  </tbody>\n",
              "</table>\n",
              "<p>95102 rows × 13 columns</p>\n",
              "</div>"
            ],
            "text/plain": [
              "          Id        EmployeeName  ...         Agency  Status\n",
              "0          1      NATHANIEL FORD  ...  San Francisco     NaN\n",
              "1          2        GARY JIMENEZ  ...  San Francisco     NaN\n",
              "2          3      ALBERT PARDINI  ...  San Francisco     NaN\n",
              "3          4   CHRISTOPHER CHONG  ...  San Francisco     NaN\n",
              "4          5     PATRICK GARDNER  ...  San Francisco     NaN\n",
              "...      ...                 ...  ...            ...     ...\n",
              "95097  95098        Kyaw M Thwin  ...  San Francisco     NaN\n",
              "95098  95099  Goldie Pui Yi  Tse  ...  San Francisco     NaN\n",
              "95099  95100  Stanley J Ellicott  ...  San Francisco     NaN\n",
              "95100  95101     Reginald T Gage  ...  San Francisco     NaN\n",
              "95101  95102         Joyce  Chan  ...            NaN     NaN\n",
              "\n",
              "[95102 rows x 13 columns]"
            ]
          },
          "metadata": {
            "tags": []
          },
          "execution_count": 6
        }
      ]
    },
    {
      "cell_type": "code",
      "metadata": {
        "colab": {
          "base_uri": "https://localhost:8080/"
        },
        "id": "wf_P6lyJv-Rt",
        "outputId": "cc1af95f-af2b-4c32-d690-ebdb47a50b9c"
      },
      "source": [
        "Salaries_df.info() # получила информацию по датафрейму, в колонках Notes и Status значения отсутствуют"
      ],
      "execution_count": 7,
      "outputs": [
        {
          "output_type": "stream",
          "text": [
            "<class 'pandas.core.frame.DataFrame'>\n",
            "RangeIndex: 95102 entries, 0 to 95101\n",
            "Data columns (total 13 columns):\n",
            " #   Column            Non-Null Count  Dtype  \n",
            "---  ------            --------------  -----  \n",
            " 0   Id                95102 non-null  int64  \n",
            " 1   EmployeeName      95102 non-null  object \n",
            " 2   JobTitle          95102 non-null  object \n",
            " 3   BasePay           95093 non-null  float64\n",
            " 4   OvertimePay       95101 non-null  float64\n",
            " 5   OtherPay          95101 non-null  float64\n",
            " 6   Benefits          58942 non-null  float64\n",
            " 7   TotalPay          95101 non-null  float64\n",
            " 8   TotalPayBenefits  95101 non-null  float64\n",
            " 9   Year              95101 non-null  float64\n",
            " 10  Notes             0 non-null      float64\n",
            " 11  Agency            95101 non-null  object \n",
            " 12  Status            0 non-null      float64\n",
            "dtypes: float64(9), int64(1), object(3)\n",
            "memory usage: 9.4+ MB\n"
          ],
          "name": "stdout"
        }
      ]
    },
    {
      "cell_type": "code",
      "metadata": {
        "colab": {
          "base_uri": "https://localhost:8080/",
          "height": 406
        },
        "id": "1q8L233AwuCj",
        "outputId": "e1542657-c3d9-4a9a-907e-b48c53384c1e"
      },
      "source": [
        "df = Salaries_df.drop(['Notes','Status'], axis = 1) # удалила лишние колонки\n",
        "df"
      ],
      "execution_count": 8,
      "outputs": [
        {
          "output_type": "execute_result",
          "data": {
            "text/html": [
              "<div>\n",
              "<style scoped>\n",
              "    .dataframe tbody tr th:only-of-type {\n",
              "        vertical-align: middle;\n",
              "    }\n",
              "\n",
              "    .dataframe tbody tr th {\n",
              "        vertical-align: top;\n",
              "    }\n",
              "\n",
              "    .dataframe thead th {\n",
              "        text-align: right;\n",
              "    }\n",
              "</style>\n",
              "<table border=\"1\" class=\"dataframe\">\n",
              "  <thead>\n",
              "    <tr style=\"text-align: right;\">\n",
              "      <th></th>\n",
              "      <th>Id</th>\n",
              "      <th>EmployeeName</th>\n",
              "      <th>JobTitle</th>\n",
              "      <th>BasePay</th>\n",
              "      <th>OvertimePay</th>\n",
              "      <th>OtherPay</th>\n",
              "      <th>Benefits</th>\n",
              "      <th>TotalPay</th>\n",
              "      <th>TotalPayBenefits</th>\n",
              "      <th>Year</th>\n",
              "      <th>Agency</th>\n",
              "    </tr>\n",
              "  </thead>\n",
              "  <tbody>\n",
              "    <tr>\n",
              "      <th>0</th>\n",
              "      <td>1</td>\n",
              "      <td>NATHANIEL FORD</td>\n",
              "      <td>GENERAL MANAGER-METROPOLITAN TRANSIT AUTHORITY</td>\n",
              "      <td>167411.18</td>\n",
              "      <td>0.00</td>\n",
              "      <td>400184.25</td>\n",
              "      <td>NaN</td>\n",
              "      <td>567595.43</td>\n",
              "      <td>567595.43</td>\n",
              "      <td>2011.0</td>\n",
              "      <td>San Francisco</td>\n",
              "    </tr>\n",
              "    <tr>\n",
              "      <th>1</th>\n",
              "      <td>2</td>\n",
              "      <td>GARY JIMENEZ</td>\n",
              "      <td>CAPTAIN III (POLICE DEPARTMENT)</td>\n",
              "      <td>155966.02</td>\n",
              "      <td>245131.88</td>\n",
              "      <td>137811.38</td>\n",
              "      <td>NaN</td>\n",
              "      <td>538909.28</td>\n",
              "      <td>538909.28</td>\n",
              "      <td>2011.0</td>\n",
              "      <td>San Francisco</td>\n",
              "    </tr>\n",
              "    <tr>\n",
              "      <th>2</th>\n",
              "      <td>3</td>\n",
              "      <td>ALBERT PARDINI</td>\n",
              "      <td>CAPTAIN III (POLICE DEPARTMENT)</td>\n",
              "      <td>212739.13</td>\n",
              "      <td>106088.18</td>\n",
              "      <td>16452.60</td>\n",
              "      <td>NaN</td>\n",
              "      <td>335279.91</td>\n",
              "      <td>335279.91</td>\n",
              "      <td>2011.0</td>\n",
              "      <td>San Francisco</td>\n",
              "    </tr>\n",
              "    <tr>\n",
              "      <th>3</th>\n",
              "      <td>4</td>\n",
              "      <td>CHRISTOPHER CHONG</td>\n",
              "      <td>WIRE ROPE CABLE MAINTENANCE MECHANIC</td>\n",
              "      <td>77916.00</td>\n",
              "      <td>56120.71</td>\n",
              "      <td>198306.90</td>\n",
              "      <td>NaN</td>\n",
              "      <td>332343.61</td>\n",
              "      <td>332343.61</td>\n",
              "      <td>2011.0</td>\n",
              "      <td>San Francisco</td>\n",
              "    </tr>\n",
              "    <tr>\n",
              "      <th>4</th>\n",
              "      <td>5</td>\n",
              "      <td>PATRICK GARDNER</td>\n",
              "      <td>DEPUTY CHIEF OF DEPARTMENT,(FIRE DEPARTMENT)</td>\n",
              "      <td>134401.60</td>\n",
              "      <td>9737.00</td>\n",
              "      <td>182234.59</td>\n",
              "      <td>NaN</td>\n",
              "      <td>326373.19</td>\n",
              "      <td>326373.19</td>\n",
              "      <td>2011.0</td>\n",
              "      <td>San Francisco</td>\n",
              "    </tr>\n",
              "    <tr>\n",
              "      <th>...</th>\n",
              "      <td>...</td>\n",
              "      <td>...</td>\n",
              "      <td>...</td>\n",
              "      <td>...</td>\n",
              "      <td>...</td>\n",
              "      <td>...</td>\n",
              "      <td>...</td>\n",
              "      <td>...</td>\n",
              "      <td>...</td>\n",
              "      <td>...</td>\n",
              "      <td>...</td>\n",
              "    </tr>\n",
              "    <tr>\n",
              "      <th>95097</th>\n",
              "      <td>95098</td>\n",
              "      <td>Kyaw M Thwin</td>\n",
              "      <td>Custodian</td>\n",
              "      <td>55026.00</td>\n",
              "      <td>5762.46</td>\n",
              "      <td>2928.25</td>\n",
              "      <td>25120.81</td>\n",
              "      <td>63716.71</td>\n",
              "      <td>88837.52</td>\n",
              "      <td>2013.0</td>\n",
              "      <td>San Francisco</td>\n",
              "    </tr>\n",
              "    <tr>\n",
              "      <th>95098</th>\n",
              "      <td>95099</td>\n",
              "      <td>Goldie Pui Yi  Tse</td>\n",
              "      <td>Medical Records Clerk</td>\n",
              "      <td>62109.07</td>\n",
              "      <td>0.00</td>\n",
              "      <td>647.25</td>\n",
              "      <td>26077.14</td>\n",
              "      <td>62756.32</td>\n",
              "      <td>88833.46</td>\n",
              "      <td>2013.0</td>\n",
              "      <td>San Francisco</td>\n",
              "    </tr>\n",
              "    <tr>\n",
              "      <th>95099</th>\n",
              "      <td>95100</td>\n",
              "      <td>Stanley J Ellicott</td>\n",
              "      <td>Senior Administrative Analyst</td>\n",
              "      <td>70158.20</td>\n",
              "      <td>0.00</td>\n",
              "      <td>0.00</td>\n",
              "      <td>18671.48</td>\n",
              "      <td>70158.20</td>\n",
              "      <td>88829.68</td>\n",
              "      <td>2013.0</td>\n",
              "      <td>San Francisco</td>\n",
              "    </tr>\n",
              "    <tr>\n",
              "      <th>95100</th>\n",
              "      <td>95101</td>\n",
              "      <td>Reginald T Gage</td>\n",
              "      <td>Recreation Coordinator</td>\n",
              "      <td>61398.03</td>\n",
              "      <td>0.00</td>\n",
              "      <td>1346.62</td>\n",
              "      <td>26084.20</td>\n",
              "      <td>62744.65</td>\n",
              "      <td>88828.85</td>\n",
              "      <td>2013.0</td>\n",
              "      <td>San Francisco</td>\n",
              "    </tr>\n",
              "    <tr>\n",
              "      <th>95101</th>\n",
              "      <td>95102</td>\n",
              "      <td>Joyce  Chan</td>\n",
              "      <td>Accounta</td>\n",
              "      <td>NaN</td>\n",
              "      <td>NaN</td>\n",
              "      <td>NaN</td>\n",
              "      <td>NaN</td>\n",
              "      <td>NaN</td>\n",
              "      <td>NaN</td>\n",
              "      <td>NaN</td>\n",
              "      <td>NaN</td>\n",
              "    </tr>\n",
              "  </tbody>\n",
              "</table>\n",
              "<p>95102 rows × 11 columns</p>\n",
              "</div>"
            ],
            "text/plain": [
              "          Id        EmployeeName  ...    Year         Agency\n",
              "0          1      NATHANIEL FORD  ...  2011.0  San Francisco\n",
              "1          2        GARY JIMENEZ  ...  2011.0  San Francisco\n",
              "2          3      ALBERT PARDINI  ...  2011.0  San Francisco\n",
              "3          4   CHRISTOPHER CHONG  ...  2011.0  San Francisco\n",
              "4          5     PATRICK GARDNER  ...  2011.0  San Francisco\n",
              "...      ...                 ...  ...     ...            ...\n",
              "95097  95098        Kyaw M Thwin  ...  2013.0  San Francisco\n",
              "95098  95099  Goldie Pui Yi  Tse  ...  2013.0  San Francisco\n",
              "95099  95100  Stanley J Ellicott  ...  2013.0  San Francisco\n",
              "95100  95101     Reginald T Gage  ...  2013.0  San Francisco\n",
              "95101  95102         Joyce  Chan  ...     NaN            NaN\n",
              "\n",
              "[95102 rows x 11 columns]"
            ]
          },
          "metadata": {
            "tags": []
          },
          "execution_count": 8
        }
      ]
    },
    {
      "cell_type": "code",
      "metadata": {
        "colab": {
          "base_uri": "https://localhost:8080/"
        },
        "id": "k4m-5ZR2yUAC",
        "outputId": "b8c73cee-f18b-4b88-dd8d-69ca39edd719"
      },
      "source": [
        "for col in df.columns:\n",
        "  print(col, round(df[col].isna().sum() / df.shape[0] *100,2)) # проверила остальные на количество пропусков, много пропусков в колонке Benefits - выгоды"
      ],
      "execution_count": 9,
      "outputs": [
        {
          "output_type": "stream",
          "text": [
            "Id 0.0\n",
            "EmployeeName 0.0\n",
            "JobTitle 0.0\n",
            "BasePay 0.01\n",
            "OvertimePay 0.0\n",
            "OtherPay 0.0\n",
            "Benefits 38.02\n",
            "TotalPay 0.0\n",
            "TotalPayBenefits 0.0\n",
            "Year 0.0\n",
            "Agency 0.0\n"
          ],
          "name": "stdout"
        }
      ]
    },
    {
      "cell_type": "code",
      "metadata": {
        "colab": {
          "base_uri": "https://localhost:8080/"
        },
        "id": "n83UlZ9f0IfA",
        "outputId": "e2708285-69cc-48e6-e490-c1f66585dae3"
      },
      "source": [
        "df.duplicated().sum() # проверим на дубликаты"
      ],
      "execution_count": 10,
      "outputs": [
        {
          "output_type": "execute_result",
          "data": {
            "text/plain": [
              "0"
            ]
          },
          "metadata": {
            "tags": []
          },
          "execution_count": 10
        }
      ]
    },
    {
      "cell_type": "code",
      "metadata": {
        "id": "mvX4tcoi0NrW"
      },
      "source": [
        " # попробовала убрать пропуски, остается 58934 значения\n",
        " #df.dropna(inplace=True)\n"
      ],
      "execution_count": 11,
      "outputs": []
    },
    {
      "cell_type": "code",
      "metadata": {
        "colab": {
          "base_uri": "https://localhost:8080/",
          "height": 406
        },
        "id": "YAX1pc_V1yWX",
        "outputId": "50e38ee4-14a0-4844-ed02-d210601fdaac"
      },
      "source": [
        "df1 = df.drop(['Benefits'], axis = 1) # удалила колонку \n",
        "df1"
      ],
      "execution_count": 12,
      "outputs": [
        {
          "output_type": "execute_result",
          "data": {
            "text/html": [
              "<div>\n",
              "<style scoped>\n",
              "    .dataframe tbody tr th:only-of-type {\n",
              "        vertical-align: middle;\n",
              "    }\n",
              "\n",
              "    .dataframe tbody tr th {\n",
              "        vertical-align: top;\n",
              "    }\n",
              "\n",
              "    .dataframe thead th {\n",
              "        text-align: right;\n",
              "    }\n",
              "</style>\n",
              "<table border=\"1\" class=\"dataframe\">\n",
              "  <thead>\n",
              "    <tr style=\"text-align: right;\">\n",
              "      <th></th>\n",
              "      <th>Id</th>\n",
              "      <th>EmployeeName</th>\n",
              "      <th>JobTitle</th>\n",
              "      <th>BasePay</th>\n",
              "      <th>OvertimePay</th>\n",
              "      <th>OtherPay</th>\n",
              "      <th>TotalPay</th>\n",
              "      <th>TotalPayBenefits</th>\n",
              "      <th>Year</th>\n",
              "      <th>Agency</th>\n",
              "    </tr>\n",
              "  </thead>\n",
              "  <tbody>\n",
              "    <tr>\n",
              "      <th>0</th>\n",
              "      <td>1</td>\n",
              "      <td>NATHANIEL FORD</td>\n",
              "      <td>GENERAL MANAGER-METROPOLITAN TRANSIT AUTHORITY</td>\n",
              "      <td>167411.18</td>\n",
              "      <td>0.00</td>\n",
              "      <td>400184.25</td>\n",
              "      <td>567595.43</td>\n",
              "      <td>567595.43</td>\n",
              "      <td>2011.0</td>\n",
              "      <td>San Francisco</td>\n",
              "    </tr>\n",
              "    <tr>\n",
              "      <th>1</th>\n",
              "      <td>2</td>\n",
              "      <td>GARY JIMENEZ</td>\n",
              "      <td>CAPTAIN III (POLICE DEPARTMENT)</td>\n",
              "      <td>155966.02</td>\n",
              "      <td>245131.88</td>\n",
              "      <td>137811.38</td>\n",
              "      <td>538909.28</td>\n",
              "      <td>538909.28</td>\n",
              "      <td>2011.0</td>\n",
              "      <td>San Francisco</td>\n",
              "    </tr>\n",
              "    <tr>\n",
              "      <th>2</th>\n",
              "      <td>3</td>\n",
              "      <td>ALBERT PARDINI</td>\n",
              "      <td>CAPTAIN III (POLICE DEPARTMENT)</td>\n",
              "      <td>212739.13</td>\n",
              "      <td>106088.18</td>\n",
              "      <td>16452.60</td>\n",
              "      <td>335279.91</td>\n",
              "      <td>335279.91</td>\n",
              "      <td>2011.0</td>\n",
              "      <td>San Francisco</td>\n",
              "    </tr>\n",
              "    <tr>\n",
              "      <th>3</th>\n",
              "      <td>4</td>\n",
              "      <td>CHRISTOPHER CHONG</td>\n",
              "      <td>WIRE ROPE CABLE MAINTENANCE MECHANIC</td>\n",
              "      <td>77916.00</td>\n",
              "      <td>56120.71</td>\n",
              "      <td>198306.90</td>\n",
              "      <td>332343.61</td>\n",
              "      <td>332343.61</td>\n",
              "      <td>2011.0</td>\n",
              "      <td>San Francisco</td>\n",
              "    </tr>\n",
              "    <tr>\n",
              "      <th>4</th>\n",
              "      <td>5</td>\n",
              "      <td>PATRICK GARDNER</td>\n",
              "      <td>DEPUTY CHIEF OF DEPARTMENT,(FIRE DEPARTMENT)</td>\n",
              "      <td>134401.60</td>\n",
              "      <td>9737.00</td>\n",
              "      <td>182234.59</td>\n",
              "      <td>326373.19</td>\n",
              "      <td>326373.19</td>\n",
              "      <td>2011.0</td>\n",
              "      <td>San Francisco</td>\n",
              "    </tr>\n",
              "    <tr>\n",
              "      <th>...</th>\n",
              "      <td>...</td>\n",
              "      <td>...</td>\n",
              "      <td>...</td>\n",
              "      <td>...</td>\n",
              "      <td>...</td>\n",
              "      <td>...</td>\n",
              "      <td>...</td>\n",
              "      <td>...</td>\n",
              "      <td>...</td>\n",
              "      <td>...</td>\n",
              "    </tr>\n",
              "    <tr>\n",
              "      <th>95097</th>\n",
              "      <td>95098</td>\n",
              "      <td>Kyaw M Thwin</td>\n",
              "      <td>Custodian</td>\n",
              "      <td>55026.00</td>\n",
              "      <td>5762.46</td>\n",
              "      <td>2928.25</td>\n",
              "      <td>63716.71</td>\n",
              "      <td>88837.52</td>\n",
              "      <td>2013.0</td>\n",
              "      <td>San Francisco</td>\n",
              "    </tr>\n",
              "    <tr>\n",
              "      <th>95098</th>\n",
              "      <td>95099</td>\n",
              "      <td>Goldie Pui Yi  Tse</td>\n",
              "      <td>Medical Records Clerk</td>\n",
              "      <td>62109.07</td>\n",
              "      <td>0.00</td>\n",
              "      <td>647.25</td>\n",
              "      <td>62756.32</td>\n",
              "      <td>88833.46</td>\n",
              "      <td>2013.0</td>\n",
              "      <td>San Francisco</td>\n",
              "    </tr>\n",
              "    <tr>\n",
              "      <th>95099</th>\n",
              "      <td>95100</td>\n",
              "      <td>Stanley J Ellicott</td>\n",
              "      <td>Senior Administrative Analyst</td>\n",
              "      <td>70158.20</td>\n",
              "      <td>0.00</td>\n",
              "      <td>0.00</td>\n",
              "      <td>70158.20</td>\n",
              "      <td>88829.68</td>\n",
              "      <td>2013.0</td>\n",
              "      <td>San Francisco</td>\n",
              "    </tr>\n",
              "    <tr>\n",
              "      <th>95100</th>\n",
              "      <td>95101</td>\n",
              "      <td>Reginald T Gage</td>\n",
              "      <td>Recreation Coordinator</td>\n",
              "      <td>61398.03</td>\n",
              "      <td>0.00</td>\n",
              "      <td>1346.62</td>\n",
              "      <td>62744.65</td>\n",
              "      <td>88828.85</td>\n",
              "      <td>2013.0</td>\n",
              "      <td>San Francisco</td>\n",
              "    </tr>\n",
              "    <tr>\n",
              "      <th>95101</th>\n",
              "      <td>95102</td>\n",
              "      <td>Joyce  Chan</td>\n",
              "      <td>Accounta</td>\n",
              "      <td>NaN</td>\n",
              "      <td>NaN</td>\n",
              "      <td>NaN</td>\n",
              "      <td>NaN</td>\n",
              "      <td>NaN</td>\n",
              "      <td>NaN</td>\n",
              "      <td>NaN</td>\n",
              "    </tr>\n",
              "  </tbody>\n",
              "</table>\n",
              "<p>95102 rows × 10 columns</p>\n",
              "</div>"
            ],
            "text/plain": [
              "          Id        EmployeeName  ...    Year         Agency\n",
              "0          1      NATHANIEL FORD  ...  2011.0  San Francisco\n",
              "1          2        GARY JIMENEZ  ...  2011.0  San Francisco\n",
              "2          3      ALBERT PARDINI  ...  2011.0  San Francisco\n",
              "3          4   CHRISTOPHER CHONG  ...  2011.0  San Francisco\n",
              "4          5     PATRICK GARDNER  ...  2011.0  San Francisco\n",
              "...      ...                 ...  ...     ...            ...\n",
              "95097  95098        Kyaw M Thwin  ...  2013.0  San Francisco\n",
              "95098  95099  Goldie Pui Yi  Tse  ...  2013.0  San Francisco\n",
              "95099  95100  Stanley J Ellicott  ...  2013.0  San Francisco\n",
              "95100  95101     Reginald T Gage  ...  2013.0  San Francisco\n",
              "95101  95102         Joyce  Chan  ...     NaN            NaN\n",
              "\n",
              "[95102 rows x 10 columns]"
            ]
          },
          "metadata": {
            "tags": []
          },
          "execution_count": 12
        }
      ]
    },
    {
      "cell_type": "code",
      "metadata": {
        "colab": {
          "base_uri": "https://localhost:8080/"
        },
        "id": "Wz7JlR7sqG6E",
        "outputId": "557e7d33-bac0-4513-8d42-9c4fda2bccbe"
      },
      "source": [
        "df1.groupby('Year')['Year'].count() # группирую по году\n"
      ],
      "execution_count": 13,
      "outputs": [
        {
          "output_type": "execute_result",
          "data": {
            "text/plain": [
              "Year\n",
              "2011.0    36159\n",
              "2012.0    36766\n",
              "2013.0    22176\n",
              "Name: Year, dtype: int64"
            ]
          },
          "metadata": {
            "tags": []
          },
          "execution_count": 13
        }
      ]
    },
    {
      "cell_type": "code",
      "metadata": {
        "colab": {
          "base_uri": "https://localhost:8080/",
          "height": 314
        },
        "id": "bijqNLF6Paiz",
        "outputId": "6d48c992-8784-416a-90ca-988954f506db"
      },
      "source": [
        "# сравниваю изменение зп в течении времени - посмотрим базовую зп (по всем вакансиям)\n",
        "import seaborn as sns \n",
        "\n",
        "sal = df1.groupby('Year').mean()\n",
        "sal.reset_index(inplace=True)\n",
        "sns.barplot(x = 'Year', y='BasePay' , data = sal)\n",
        "plt.figure()\n"
      ],
      "execution_count": 14,
      "outputs": [
        {
          "output_type": "execute_result",
          "data": {
            "text/plain": [
              "<Figure size 432x288 with 0 Axes>"
            ]
          },
          "metadata": {
            "tags": []
          },
          "execution_count": 14
        },
        {
          "output_type": "display_data",
          "data": {
            "image/png": "[encoded data removed]",
            "text/plain": [
              "<Figure size 432x288 with 1 Axes>"
            ]
          },
          "metadata": {
            "tags": [],
            "needs_background": "light"
          }
        },
        {
          "output_type": "display_data",
          "data": {
            "text/plain": [
              "<Figure size 432x288 with 0 Axes>"
            ]
          },
          "metadata": {
            "tags": []
          }
        }
      ]
    },
    {
      "cell_type": "code",
      "metadata": {
        "colab": {
          "base_uri": "https://localhost:8080/"
        },
        "id": "J-FphY9ROlBN",
        "outputId": "b5ba1dcb-b0ba-4712-9f8a-a521f93a8c0a"
      },
      "source": [
        "# посмотрим кол-во зарплат разных должностей\n",
        "df1['JobTitle'].value_counts()"
      ],
      "execution_count": 15,
      "outputs": [
        {
          "output_type": "execute_result",
          "data": {
            "text/plain": [
              "Transit Operator                             3861\n",
              "Registered Nurse                             2392\n",
              "TRANSIT OPERATOR                             2388\n",
              "Special Nurse                                1629\n",
              "Police Officer 3                             1588\n",
              "                                             ... \n",
              "TREASURER                                       1\n",
              "ASSISTANT DIRECTOR OF CLINICAL SERVICES I       1\n",
              "Animal Care Asst Supv                           1\n",
              "COURT SUPERVISOR I                              1\n",
              "SHADE AND DRAPERY WORKER                        1\n",
              "Name: JobTitle, Length: 2112, dtype: int64"
            ]
          },
          "metadata": {
            "tags": []
          },
          "execution_count": 15
        }
      ]
    },
    {
      "cell_type": "code",
      "metadata": {
        "colab": {
          "base_uri": "https://localhost:8080/",
          "height": 406
        },
        "id": "RG0jOGk6fwcW",
        "outputId": "9eb1196b-df4b-46d9-a4be-0963277832c4"
      },
      "source": [
        "df1['BasePay'] = df['BasePay'].apply(pd.to_numeric, downcast='float', errors='coerce')\n",
        "df1.groupby(['Year','JobTitle'],as_index=False).mean()\n",
        "\n"
      ],
      "execution_count": 16,
      "outputs": [
        {
          "output_type": "execute_result",
          "data": {
            "text/html": [
              "<div>\n",
              "<style scoped>\n",
              "    .dataframe tbody tr th:only-of-type {\n",
              "        vertical-align: middle;\n",
              "    }\n",
              "\n",
              "    .dataframe tbody tr th {\n",
              "        vertical-align: top;\n",
              "    }\n",
              "\n",
              "    .dataframe thead th {\n",
              "        text-align: right;\n",
              "    }\n",
              "</style>\n",
              "<table border=\"1\" class=\"dataframe\">\n",
              "  <thead>\n",
              "    <tr style=\"text-align: right;\">\n",
              "      <th></th>\n",
              "      <th>Year</th>\n",
              "      <th>JobTitle</th>\n",
              "      <th>Id</th>\n",
              "      <th>BasePay</th>\n",
              "      <th>OvertimePay</th>\n",
              "      <th>OtherPay</th>\n",
              "      <th>TotalPay</th>\n",
              "      <th>TotalPayBenefits</th>\n",
              "    </tr>\n",
              "  </thead>\n",
              "  <tbody>\n",
              "    <tr>\n",
              "      <th>0</th>\n",
              "      <td>2011.0</td>\n",
              "      <td>ACCOUNT CLERK</td>\n",
              "      <td>25734.819277</td>\n",
              "      <td>43300.806506</td>\n",
              "      <td>373.200843</td>\n",
              "      <td>361.656988</td>\n",
              "      <td>44035.664337</td>\n",
              "      <td>44035.664337</td>\n",
              "    </tr>\n",
              "    <tr>\n",
              "      <th>1</th>\n",
              "      <td>2011.0</td>\n",
              "      <td>ACCOUNTANT</td>\n",
              "      <td>24159.200000</td>\n",
              "      <td>46643.172000</td>\n",
              "      <td>0.000000</td>\n",
              "      <td>786.096000</td>\n",
              "      <td>47429.268000</td>\n",
              "      <td>47429.268000</td>\n",
              "    </tr>\n",
              "    <tr>\n",
              "      <th>2</th>\n",
              "      <td>2011.0</td>\n",
              "      <td>ACCOUNTANT INTERN</td>\n",
              "      <td>28128.833333</td>\n",
              "      <td>28732.663958</td>\n",
              "      <td>24.430625</td>\n",
              "      <td>274.648333</td>\n",
              "      <td>29031.742917</td>\n",
              "      <td>29031.742917</td>\n",
              "    </tr>\n",
              "    <tr>\n",
              "      <th>3</th>\n",
              "      <td>2011.0</td>\n",
              "      <td>ACUPUNCTURIST</td>\n",
              "      <td>18379.000000</td>\n",
              "      <td>66374.400000</td>\n",
              "      <td>0.000000</td>\n",
              "      <td>1220.000000</td>\n",
              "      <td>67594.400000</td>\n",
              "      <td>67594.400000</td>\n",
              "    </tr>\n",
              "    <tr>\n",
              "      <th>4</th>\n",
              "      <td>2011.0</td>\n",
              "      <td>ADMINISTRATIVE ANALYST</td>\n",
              "      <td>19052.946237</td>\n",
              "      <td>63435.628602</td>\n",
              "      <td>0.000000</td>\n",
              "      <td>519.238925</td>\n",
              "      <td>63954.867527</td>\n",
              "      <td>63954.867527</td>\n",
              "    </tr>\n",
              "    <tr>\n",
              "      <th>...</th>\n",
              "      <td>...</td>\n",
              "      <td>...</td>\n",
              "      <td>...</td>\n",
              "      <td>...</td>\n",
              "      <td>...</td>\n",
              "      <td>...</td>\n",
              "      <td>...</td>\n",
              "      <td>...</td>\n",
              "    </tr>\n",
              "    <tr>\n",
              "      <th>3007</th>\n",
              "      <td>2013.0</td>\n",
              "      <td>Wire Rope Cable Maint Mechanic</td>\n",
              "      <td>80196.125000</td>\n",
              "      <td>77345.212500</td>\n",
              "      <td>46947.951250</td>\n",
              "      <td>12474.551250</td>\n",
              "      <td>136767.715000</td>\n",
              "      <td>164675.622500</td>\n",
              "    </tr>\n",
              "    <tr>\n",
              "      <th>3008</th>\n",
              "      <td>2013.0</td>\n",
              "      <td>Wire Rope Cable Maint Sprv</td>\n",
              "      <td>74250.000000</td>\n",
              "      <td>95716.510000</td>\n",
              "      <td>81313.490000</td>\n",
              "      <td>16661.790000</td>\n",
              "      <td>193691.790000</td>\n",
              "      <td>229678.620000</td>\n",
              "    </tr>\n",
              "    <tr>\n",
              "      <th>3009</th>\n",
              "      <td>2013.0</td>\n",
              "      <td>Worker's Comp Supervisor 1</td>\n",
              "      <td>83283.500000</td>\n",
              "      <td>103838.565000</td>\n",
              "      <td>0.000000</td>\n",
              "      <td>324.000000</td>\n",
              "      <td>104162.565000</td>\n",
              "      <td>137826.895000</td>\n",
              "    </tr>\n",
              "    <tr>\n",
              "      <th>3010</th>\n",
              "      <td>2013.0</td>\n",
              "      <td>Worker's Compensation Adjuster</td>\n",
              "      <td>88819.727273</td>\n",
              "      <td>81925.690455</td>\n",
              "      <td>0.000000</td>\n",
              "      <td>321.266364</td>\n",
              "      <td>82246.956818</td>\n",
              "      <td>112090.654091</td>\n",
              "    </tr>\n",
              "    <tr>\n",
              "      <th>3011</th>\n",
              "      <td>2013.0</td>\n",
              "      <td>X-Ray Laboratory Aide</td>\n",
              "      <td>92578.933333</td>\n",
              "      <td>65229.369333</td>\n",
              "      <td>4138.912667</td>\n",
              "      <td>1942.203333</td>\n",
              "      <td>71310.485333</td>\n",
              "      <td>98249.854667</td>\n",
              "    </tr>\n",
              "  </tbody>\n",
              "</table>\n",
              "<p>3012 rows × 8 columns</p>\n",
              "</div>"
            ],
            "text/plain": [
              "        Year                        JobTitle  ...       TotalPay  TotalPayBenefits\n",
              "0     2011.0                   ACCOUNT CLERK  ...   44035.664337      44035.664337\n",
              "1     2011.0                      ACCOUNTANT  ...   47429.268000      47429.268000\n",
              "2     2011.0               ACCOUNTANT INTERN  ...   29031.742917      29031.742917\n",
              "3     2011.0                   ACUPUNCTURIST  ...   67594.400000      67594.400000\n",
              "4     2011.0          ADMINISTRATIVE ANALYST  ...   63954.867527      63954.867527\n",
              "...      ...                             ...  ...            ...               ...\n",
              "3007  2013.0  Wire Rope Cable Maint Mechanic  ...  136767.715000     164675.622500\n",
              "3008  2013.0      Wire Rope Cable Maint Sprv  ...  193691.790000     229678.620000\n",
              "3009  2013.0      Worker's Comp Supervisor 1  ...  104162.565000     137826.895000\n",
              "3010  2013.0  Worker's Compensation Adjuster  ...   82246.956818     112090.654091\n",
              "3011  2013.0           X-Ray Laboratory Aide  ...   71310.485333      98249.854667\n",
              "\n",
              "[3012 rows x 8 columns]"
            ]
          },
          "metadata": {
            "tags": []
          },
          "execution_count": 16
        }
      ]
    },
    {
      "cell_type": "code",
      "metadata": {
        "colab": {
          "base_uri": "https://localhost:8080/",
          "height": 406
        },
        "id": "2KpYSkjT-vfi",
        "outputId": "a0282781-4ce9-4598-ef8a-3f4e116aa2b5"
      },
      "source": [
        "t1 = df1.JobTitle.str.contains('FIRE DEPARTMENT') # выбрала зарплаты \n",
        "fire_df = df1[t1]\n",
        "fire_df"
      ],
      "execution_count": 17,
      "outputs": [
        {
          "output_type": "execute_result",
          "data": {
            "text/html": [
              "<div>\n",
              "<style scoped>\n",
              "    .dataframe tbody tr th:only-of-type {\n",
              "        vertical-align: middle;\n",
              "    }\n",
              "\n",
              "    .dataframe tbody tr th {\n",
              "        vertical-align: top;\n",
              "    }\n",
              "\n",
              "    .dataframe thead th {\n",
              "        text-align: right;\n",
              "    }\n",
              "</style>\n",
              "<table border=\"1\" class=\"dataframe\">\n",
              "  <thead>\n",
              "    <tr style=\"text-align: right;\">\n",
              "      <th></th>\n",
              "      <th>Id</th>\n",
              "      <th>EmployeeName</th>\n",
              "      <th>JobTitle</th>\n",
              "      <th>BasePay</th>\n",
              "      <th>OvertimePay</th>\n",
              "      <th>OtherPay</th>\n",
              "      <th>TotalPay</th>\n",
              "      <th>TotalPayBenefits</th>\n",
              "      <th>Year</th>\n",
              "      <th>Agency</th>\n",
              "    </tr>\n",
              "  </thead>\n",
              "  <tbody>\n",
              "    <tr>\n",
              "      <th>4</th>\n",
              "      <td>5</td>\n",
              "      <td>PATRICK GARDNER</td>\n",
              "      <td>DEPUTY CHIEF OF DEPARTMENT,(FIRE DEPARTMENT)</td>\n",
              "      <td>134401.60</td>\n",
              "      <td>9737.00</td>\n",
              "      <td>182234.59</td>\n",
              "      <td>326373.19</td>\n",
              "      <td>326373.19</td>\n",
              "      <td>2011.0</td>\n",
              "      <td>San Francisco</td>\n",
              "    </tr>\n",
              "    <tr>\n",
              "      <th>6</th>\n",
              "      <td>7</td>\n",
              "      <td>ALSON LEE</td>\n",
              "      <td>BATTALION CHIEF, (FIRE DEPARTMENT)</td>\n",
              "      <td>92492.01</td>\n",
              "      <td>89062.90</td>\n",
              "      <td>134426.14</td>\n",
              "      <td>315981.05</td>\n",
              "      <td>315981.05</td>\n",
              "      <td>2011.0</td>\n",
              "      <td>San Francisco</td>\n",
              "    </tr>\n",
              "    <tr>\n",
              "      <th>8</th>\n",
              "      <td>9</td>\n",
              "      <td>MICHAEL MORRIS</td>\n",
              "      <td>BATTALION CHIEF, (FIRE DEPARTMENT)</td>\n",
              "      <td>176932.64</td>\n",
              "      <td>86362.68</td>\n",
              "      <td>40132.23</td>\n",
              "      <td>303427.55</td>\n",
              "      <td>303427.55</td>\n",
              "      <td>2011.0</td>\n",
              "      <td>San Francisco</td>\n",
              "    </tr>\n",
              "    <tr>\n",
              "      <th>9</th>\n",
              "      <td>10</td>\n",
              "      <td>JOANNE HAYES-WHITE</td>\n",
              "      <td>CHIEF OF DEPARTMENT, (FIRE DEPARTMENT)</td>\n",
              "      <td>285262.00</td>\n",
              "      <td>0.00</td>\n",
              "      <td>17115.73</td>\n",
              "      <td>302377.73</td>\n",
              "      <td>302377.73</td>\n",
              "      <td>2011.0</td>\n",
              "      <td>San Francisco</td>\n",
              "    </tr>\n",
              "    <tr>\n",
              "      <th>10</th>\n",
              "      <td>11</td>\n",
              "      <td>ARTHUR KENNEY</td>\n",
              "      <td>ASSISTANT CHIEF OF DEPARTMENT, (FIRE DEPARTMENT)</td>\n",
              "      <td>194999.39</td>\n",
              "      <td>71344.88</td>\n",
              "      <td>33149.90</td>\n",
              "      <td>299494.17</td>\n",
              "      <td>299494.17</td>\n",
              "      <td>2011.0</td>\n",
              "      <td>San Francisco</td>\n",
              "    </tr>\n",
              "    <tr>\n",
              "      <th>...</th>\n",
              "      <td>...</td>\n",
              "      <td>...</td>\n",
              "      <td>...</td>\n",
              "      <td>...</td>\n",
              "      <td>...</td>\n",
              "      <td>...</td>\n",
              "      <td>...</td>\n",
              "      <td>...</td>\n",
              "      <td>...</td>\n",
              "      <td>...</td>\n",
              "    </tr>\n",
              "    <tr>\n",
              "      <th>4955</th>\n",
              "      <td>4956</td>\n",
              "      <td>AUDRY LEE</td>\n",
              "      <td>BATTALION CHIEF, (FIRE DEPARTMENT)</td>\n",
              "      <td>21804.00</td>\n",
              "      <td>46307.75</td>\n",
              "      <td>56392.91</td>\n",
              "      <td>124504.66</td>\n",
              "      <td>124504.66</td>\n",
              "      <td>2011.0</td>\n",
              "      <td>San Francisco</td>\n",
              "    </tr>\n",
              "    <tr>\n",
              "      <th>5498</th>\n",
              "      <td>5499</td>\n",
              "      <td>VINCENT PEREZ</td>\n",
              "      <td>LIEUTENANT, FIRE DEPARTMENT</td>\n",
              "      <td>59663.78</td>\n",
              "      <td>13979.51</td>\n",
              "      <td>47704.14</td>\n",
              "      <td>121347.43</td>\n",
              "      <td>121347.43</td>\n",
              "      <td>2011.0</td>\n",
              "      <td>San Francisco</td>\n",
              "    </tr>\n",
              "    <tr>\n",
              "      <th>8436</th>\n",
              "      <td>8437</td>\n",
              "      <td>JENSEN RHODES</td>\n",
              "      <td>LIEUTENANT, FIRE DEPARTMENT</td>\n",
              "      <td>93066.59</td>\n",
              "      <td>1626.13</td>\n",
              "      <td>10703.77</td>\n",
              "      <td>105396.49</td>\n",
              "      <td>105396.49</td>\n",
              "      <td>2011.0</td>\n",
              "      <td>San Francisco</td>\n",
              "    </tr>\n",
              "    <tr>\n",
              "      <th>16285</th>\n",
              "      <td>16286</td>\n",
              "      <td>AARON STEVENSON</td>\n",
              "      <td>ASSISTANT CHIEF OF DEPARTMENT, (FIRE DEPARTMENT)</td>\n",
              "      <td>21948.99</td>\n",
              "      <td>14065.26</td>\n",
              "      <td>37430.72</td>\n",
              "      <td>73444.97</td>\n",
              "      <td>73444.97</td>\n",
              "      <td>2011.0</td>\n",
              "      <td>San Francisco</td>\n",
              "    </tr>\n",
              "    <tr>\n",
              "      <th>32623</th>\n",
              "      <td>32624</td>\n",
              "      <td>JAMES BARDEN</td>\n",
              "      <td>BATTALION CHIEF, (FIRE DEPARTMENT)</td>\n",
              "      <td>0.00</td>\n",
              "      <td>1290.69</td>\n",
              "      <td>5802.68</td>\n",
              "      <td>7093.37</td>\n",
              "      <td>7093.37</td>\n",
              "      <td>2011.0</td>\n",
              "      <td>San Francisco</td>\n",
              "    </tr>\n",
              "  </tbody>\n",
              "</table>\n",
              "<p>222 rows × 10 columns</p>\n",
              "</div>"
            ],
            "text/plain": [
              "          Id        EmployeeName  ...    Year         Agency\n",
              "4          5     PATRICK GARDNER  ...  2011.0  San Francisco\n",
              "6          7           ALSON LEE  ...  2011.0  San Francisco\n",
              "8          9      MICHAEL MORRIS  ...  2011.0  San Francisco\n",
              "9         10  JOANNE HAYES-WHITE  ...  2011.0  San Francisco\n",
              "10        11       ARTHUR KENNEY  ...  2011.0  San Francisco\n",
              "...      ...                 ...  ...     ...            ...\n",
              "4955    4956           AUDRY LEE  ...  2011.0  San Francisco\n",
              "5498    5499       VINCENT PEREZ  ...  2011.0  San Francisco\n",
              "8436    8437       JENSEN RHODES  ...  2011.0  San Francisco\n",
              "16285  16286     AARON STEVENSON  ...  2011.0  San Francisco\n",
              "32623  32624        JAMES BARDEN  ...  2011.0  San Francisco\n",
              "\n",
              "[222 rows x 10 columns]"
            ]
          },
          "metadata": {
            "tags": []
          },
          "execution_count": 17
        }
      ]
    },
    {
      "cell_type": "code",
      "metadata": {
        "colab": {
          "base_uri": "https://localhost:8080/"
        },
        "id": "YgF8Q2k5o2y8",
        "outputId": "a5446f1a-1471-4d79-b905-5c453930b956"
      },
      "source": [
        "# сразу посчитаем кол-во людей в отделе\n",
        "fire_df.groupby('EmployeeName')['EmployeeName'].count()"
      ],
      "execution_count": 18,
      "outputs": [
        {
          "output_type": "execute_result",
          "data": {
            "text/plain": [
              "EmployeeName\n",
              "AARON STEVENSON         2\n",
              "AISHA KRIEGER           1\n",
              "ALAN REYNAUD            1\n",
              "ALAN WONG               1\n",
              "ALBERTO PEDRUCO         1\n",
              "                       ..\n",
              "VINCENT PEREZ           1\n",
              "WALTER VILLAVICENCIO    1\n",
              "WAYNE WONG              1\n",
              "WILLIAM MCFARLAND       1\n",
              "ZACHARY PUMPHREY        1\n",
              "Name: EmployeeName, Length: 221, dtype: int64"
            ]
          },
          "metadata": {
            "tags": []
          },
          "execution_count": 18
        }
      ]
    },
    {
      "cell_type": "code",
      "metadata": {
        "colab": {
          "base_uri": "https://localhost:8080/",
          "height": 304
        },
        "id": "QYuPIkacB18m",
        "outputId": "30a49770-dc2a-4742-d46a-239229a8859c"
      },
      "source": [
        "fire_df['BasePay'] = df['BasePay'].apply(pd.to_numeric, downcast='float', errors='coerce') # сгруппировала по году\n",
        "fire_df.groupby(['Year','JobTitle'],as_index=False).mean()\n",
        "\n"
      ],
      "execution_count": 19,
      "outputs": [
        {
          "output_type": "stream",
          "text": [
            "/usr/local/lib/python3.7/dist-packages/ipykernel_launcher.py:1: SettingWithCopyWarning: \n",
            "A value is trying to be set on a copy of a slice from a DataFrame.\n",
            "Try using .loc[row_indexer,col_indexer] = value instead\n",
            "\n",
            "See the caveats in the documentation: https://pandas.pydata.org/pandas-docs/stable/user_guide/indexing.html#returning-a-view-versus-a-copy\n",
            "  \"\"\"Entry point for launching an IPython kernel.\n"
          ],
          "name": "stderr"
        },
        {
          "output_type": "execute_result",
          "data": {
            "text/html": [
              "<div>\n",
              "<style scoped>\n",
              "    .dataframe tbody tr th:only-of-type {\n",
              "        vertical-align: middle;\n",
              "    }\n",
              "\n",
              "    .dataframe tbody tr th {\n",
              "        vertical-align: top;\n",
              "    }\n",
              "\n",
              "    .dataframe thead th {\n",
              "        text-align: right;\n",
              "    }\n",
              "</style>\n",
              "<table border=\"1\" class=\"dataframe\">\n",
              "  <thead>\n",
              "    <tr style=\"text-align: right;\">\n",
              "      <th></th>\n",
              "      <th>Year</th>\n",
              "      <th>JobTitle</th>\n",
              "      <th>Id</th>\n",
              "      <th>BasePay</th>\n",
              "      <th>OvertimePay</th>\n",
              "      <th>OtherPay</th>\n",
              "      <th>TotalPay</th>\n",
              "      <th>TotalPayBenefits</th>\n",
              "    </tr>\n",
              "  </thead>\n",
              "  <tbody>\n",
              "    <tr>\n",
              "      <th>0</th>\n",
              "      <td>2011.0</td>\n",
              "      <td>ASSISTANT CHIEF OF DEPARTMENT, (FIRE DEPARTMENT)</td>\n",
              "      <td>5454.666667</td>\n",
              "      <td>131621.046667</td>\n",
              "      <td>40684.903333</td>\n",
              "      <td>31121.900000</td>\n",
              "      <td>203427.850000</td>\n",
              "      <td>203427.850000</td>\n",
              "    </tr>\n",
              "    <tr>\n",
              "      <th>1</th>\n",
              "      <td>2011.0</td>\n",
              "      <td>BATTALION CHIEF, (FIRE DEPARTMENT)</td>\n",
              "      <td>1092.866667</td>\n",
              "      <td>144875.108667</td>\n",
              "      <td>35115.257333</td>\n",
              "      <td>36665.170889</td>\n",
              "      <td>216655.536889</td>\n",
              "      <td>216655.536889</td>\n",
              "    </tr>\n",
              "    <tr>\n",
              "      <th>2</th>\n",
              "      <td>2011.0</td>\n",
              "      <td>CHIEF OF DEPARTMENT, (FIRE DEPARTMENT)</td>\n",
              "      <td>10.000000</td>\n",
              "      <td>285262.000000</td>\n",
              "      <td>0.000000</td>\n",
              "      <td>17115.730000</td>\n",
              "      <td>302377.730000</td>\n",
              "      <td>302377.730000</td>\n",
              "    </tr>\n",
              "    <tr>\n",
              "      <th>3</th>\n",
              "      <td>2011.0</td>\n",
              "      <td>DEPUTY CHIEF OF DEPARTMENT,(FIRE DEPARTMENT)</td>\n",
              "      <td>26.000000</td>\n",
              "      <td>199852.653333</td>\n",
              "      <td>4605.000000</td>\n",
              "      <td>74901.906667</td>\n",
              "      <td>279359.560000</td>\n",
              "      <td>279359.560000</td>\n",
              "    </tr>\n",
              "    <tr>\n",
              "      <th>4</th>\n",
              "      <td>2011.0</td>\n",
              "      <td>LIEUTENANT, FIRE DEPARTMENT</td>\n",
              "      <td>1729.088235</td>\n",
              "      <td>123166.477471</td>\n",
              "      <td>24492.825941</td>\n",
              "      <td>16491.918588</td>\n",
              "      <td>164151.222000</td>\n",
              "      <td>164151.222000</td>\n",
              "    </tr>\n",
              "  </tbody>\n",
              "</table>\n",
              "</div>"
            ],
            "text/plain": [
              "     Year  ... TotalPayBenefits\n",
              "0  2011.0  ...    203427.850000\n",
              "1  2011.0  ...    216655.536889\n",
              "2  2011.0  ...    302377.730000\n",
              "3  2011.0  ...    279359.560000\n",
              "4  2011.0  ...    164151.222000\n",
              "\n",
              "[5 rows x 8 columns]"
            ]
          },
          "metadata": {
            "tags": []
          },
          "execution_count": 19
        }
      ]
    },
    {
      "cell_type": "code",
      "metadata": {
        "colab": {
          "base_uri": "https://localhost:8080/"
        },
        "id": "SOGIhu6WBmRf",
        "outputId": "ac315d61-8cd1-4fc8-adb7-bc7bd77c2084"
      },
      "source": [
        "fire_df['BasePay'].max() # нашла максимальную базовую зарплату"
      ],
      "execution_count": 20,
      "outputs": [
        {
          "output_type": "execute_result",
          "data": {
            "text/plain": [
              "285262.0"
            ]
          },
          "metadata": {
            "tags": []
          },
          "execution_count": 20
        }
      ]
    },
    {
      "cell_type": "code",
      "metadata": {
        "colab": {
          "base_uri": "https://localhost:8080/"
        },
        "id": "4ZDye8MsDQCk",
        "outputId": "a45944a2-3919-4d0d-9b66-ab7d1d14e137"
      },
      "source": [
        "fire_df['BasePay'].mean() # нашла среднее значение"
      ],
      "execution_count": 21,
      "outputs": [
        {
          "output_type": "execute_result",
          "data": {
            "text/plain": [
              "129447.58630630636"
            ]
          },
          "metadata": {
            "tags": []
          },
          "execution_count": 21
        }
      ]
    },
    {
      "cell_type": "code",
      "metadata": {
        "colab": {
          "base_uri": "https://localhost:8080/"
        },
        "id": "1aHKmm5aENTX",
        "outputId": "27ea115e-b460-473d-a3d2-2ef190b96ca0"
      },
      "source": [
        "fire_df['BasePay'].median() # медианное значение"
      ],
      "execution_count": 22,
      "outputs": [
        {
          "output_type": "execute_result",
          "data": {
            "text/plain": [
              "123105.02"
            ]
          },
          "metadata": {
            "tags": []
          },
          "execution_count": 22
        }
      ]
    },
    {
      "cell_type": "code",
      "metadata": {
        "colab": {
          "base_uri": "https://localhost:8080/",
          "height": 406
        },
        "id": "FYz721pn_ZmL",
        "outputId": "1eda3cbc-f500-4de2-e9ba-80d5561efd35"
      },
      "source": [
        "t2 = df1.JobTitle.str.contains('MEDIC')\n",
        "med_df = df1[t2]\n",
        "med_df"
      ],
      "execution_count": 25,
      "outputs": [
        {
          "output_type": "execute_result",
          "data": {
            "text/html": [
              "<div>\n",
              "<style scoped>\n",
              "    .dataframe tbody tr th:only-of-type {\n",
              "        vertical-align: middle;\n",
              "    }\n",
              "\n",
              "    .dataframe tbody tr th {\n",
              "        vertical-align: top;\n",
              "    }\n",
              "\n",
              "    .dataframe thead th {\n",
              "        text-align: right;\n",
              "    }\n",
              "</style>\n",
              "<table border=\"1\" class=\"dataframe\">\n",
              "  <thead>\n",
              "    <tr style=\"text-align: right;\">\n",
              "      <th></th>\n",
              "      <th>Id</th>\n",
              "      <th>EmployeeName</th>\n",
              "      <th>JobTitle</th>\n",
              "      <th>BasePay</th>\n",
              "      <th>OvertimePay</th>\n",
              "      <th>OtherPay</th>\n",
              "      <th>TotalPay</th>\n",
              "      <th>TotalPayBenefits</th>\n",
              "      <th>Year</th>\n",
              "      <th>Agency</th>\n",
              "    </tr>\n",
              "  </thead>\n",
              "  <tbody>\n",
              "    <tr>\n",
              "      <th>17</th>\n",
              "      <td>18</td>\n",
              "      <td>SEBASTIAN WONG</td>\n",
              "      <td>CAPTAIN, EMERGENCYCY MEDICAL SERVICES</td>\n",
              "      <td>140546.87</td>\n",
              "      <td>119397.26</td>\n",
              "      <td>18625.08</td>\n",
              "      <td>278569.21</td>\n",
              "      <td>278569.21</td>\n",
              "      <td>2011.0</td>\n",
              "      <td>San Francisco</td>\n",
              "    </tr>\n",
              "    <tr>\n",
              "      <th>19</th>\n",
              "      <td>20</td>\n",
              "      <td>ELLEN MOFFATT</td>\n",
              "      <td>ASSISTANT MEDICAL EXAMINER</td>\n",
              "      <td>257510.59</td>\n",
              "      <td>880.16</td>\n",
              "      <td>16159.50</td>\n",
              "      <td>274550.25</td>\n",
              "      <td>274550.25</td>\n",
              "      <td>2011.0</td>\n",
              "      <td>San Francisco</td>\n",
              "    </tr>\n",
              "    <tr>\n",
              "      <th>20</th>\n",
              "      <td>21</td>\n",
              "      <td>VENUS AZAR</td>\n",
              "      <td>ASSISTANT MEDICAL EXAMINER</td>\n",
              "      <td>257510.48</td>\n",
              "      <td>0.00</td>\n",
              "      <td>16679.79</td>\n",
              "      <td>274190.27</td>\n",
              "      <td>274190.27</td>\n",
              "      <td>2011.0</td>\n",
              "      <td>San Francisco</td>\n",
              "    </tr>\n",
              "    <tr>\n",
              "      <th>21</th>\n",
              "      <td>22</td>\n",
              "      <td>JUDY MELINEK</td>\n",
              "      <td>ASSISTANT MEDICAL EXAMINER</td>\n",
              "      <td>257510.44</td>\n",
              "      <td>377.21</td>\n",
              "      <td>15883.56</td>\n",
              "      <td>273771.21</td>\n",
              "      <td>273771.21</td>\n",
              "      <td>2011.0</td>\n",
              "      <td>San Francisco</td>\n",
              "    </tr>\n",
              "    <tr>\n",
              "      <th>36</th>\n",
              "      <td>37</td>\n",
              "      <td>SUSAN CURRIN</td>\n",
              "      <td>ADMINISTRATOR, SFGH MEDICAL CENTER</td>\n",
              "      <td>245124.44</td>\n",
              "      <td>0.00</td>\n",
              "      <td>12000.00</td>\n",
              "      <td>257124.44</td>\n",
              "      <td>257124.44</td>\n",
              "      <td>2011.0</td>\n",
              "      <td>San Francisco</td>\n",
              "    </tr>\n",
              "    <tr>\n",
              "      <th>...</th>\n",
              "      <td>...</td>\n",
              "      <td>...</td>\n",
              "      <td>...</td>\n",
              "      <td>...</td>\n",
              "      <td>...</td>\n",
              "      <td>...</td>\n",
              "      <td>...</td>\n",
              "      <td>...</td>\n",
              "      <td>...</td>\n",
              "      <td>...</td>\n",
              "    </tr>\n",
              "    <tr>\n",
              "      <th>35597</th>\n",
              "      <td>35598</td>\n",
              "      <td>JOHN CORTEZ</td>\n",
              "      <td>MEDICAL SOCIAL WORKER</td>\n",
              "      <td>0.00</td>\n",
              "      <td>0.00</td>\n",
              "      <td>672.04</td>\n",
              "      <td>672.04</td>\n",
              "      <td>672.04</td>\n",
              "      <td>2011.0</td>\n",
              "      <td>San Francisco</td>\n",
              "    </tr>\n",
              "    <tr>\n",
              "      <th>35732</th>\n",
              "      <td>35733</td>\n",
              "      <td>NICOLE BARTOLINI</td>\n",
              "      <td>MEDICAL SOCIAL WORKER</td>\n",
              "      <td>516.40</td>\n",
              "      <td>0.00</td>\n",
              "      <td>20.66</td>\n",
              "      <td>537.06</td>\n",
              "      <td>537.06</td>\n",
              "      <td>2011.0</td>\n",
              "      <td>San Francisco</td>\n",
              "    </tr>\n",
              "    <tr>\n",
              "      <th>35764</th>\n",
              "      <td>35765</td>\n",
              "      <td>CRAIG STROOPE</td>\n",
              "      <td>MEDICAL EXAMINER'S INVESTIGATOR I</td>\n",
              "      <td>0.00</td>\n",
              "      <td>0.00</td>\n",
              "      <td>481.02</td>\n",
              "      <td>481.02</td>\n",
              "      <td>481.02</td>\n",
              "      <td>2011.0</td>\n",
              "      <td>San Francisco</td>\n",
              "    </tr>\n",
              "    <tr>\n",
              "      <th>36076</th>\n",
              "      <td>36077</td>\n",
              "      <td>DEBRA TANIS</td>\n",
              "      <td>FIRE RESCUE PARAMEDIC</td>\n",
              "      <td>0.00</td>\n",
              "      <td>0.00</td>\n",
              "      <td>92.21</td>\n",
              "      <td>92.21</td>\n",
              "      <td>92.21</td>\n",
              "      <td>2011.0</td>\n",
              "      <td>San Francisco</td>\n",
              "    </tr>\n",
              "    <tr>\n",
              "      <th>36115</th>\n",
              "      <td>36116</td>\n",
              "      <td>ANTOINETTE GIBSON</td>\n",
              "      <td>MEDICAL EVALUATIONS ASSISTANT</td>\n",
              "      <td>0.00</td>\n",
              "      <td>0.00</td>\n",
              "      <td>42.02</td>\n",
              "      <td>42.02</td>\n",
              "      <td>42.02</td>\n",
              "      <td>2011.0</td>\n",
              "      <td>San Francisco</td>\n",
              "    </tr>\n",
              "  </tbody>\n",
              "</table>\n",
              "<p>739 rows × 10 columns</p>\n",
              "</div>"
            ],
            "text/plain": [
              "          Id       EmployeeName  ...    Year         Agency\n",
              "17        18     SEBASTIAN WONG  ...  2011.0  San Francisco\n",
              "19        20      ELLEN MOFFATT  ...  2011.0  San Francisco\n",
              "20        21         VENUS AZAR  ...  2011.0  San Francisco\n",
              "21        22       JUDY MELINEK  ...  2011.0  San Francisco\n",
              "36        37       SUSAN CURRIN  ...  2011.0  San Francisco\n",
              "...      ...                ...  ...     ...            ...\n",
              "35597  35598        JOHN CORTEZ  ...  2011.0  San Francisco\n",
              "35732  35733   NICOLE BARTOLINI  ...  2011.0  San Francisco\n",
              "35764  35765      CRAIG STROOPE  ...  2011.0  San Francisco\n",
              "36076  36077        DEBRA TANIS  ...  2011.0  San Francisco\n",
              "36115  36116  ANTOINETTE GIBSON  ...  2011.0  San Francisco\n",
              "\n",
              "[739 rows x 10 columns]"
            ]
          },
          "metadata": {
            "tags": []
          },
          "execution_count": 25
        }
      ]
    },
    {
      "cell_type": "code",
      "metadata": {
        "colab": {
          "base_uri": "https://localhost:8080/"
        },
        "id": "Lbf9g7fFpJEN",
        "outputId": "271cc4ff-330b-4d7f-ef37-be66053c2958"
      },
      "source": [
        "# сразу посчитаем кол-во людей в отделе\n",
        "med_df.groupby('EmployeeName')['EmployeeName'].count()"
      ],
      "execution_count": 26,
      "outputs": [
        {
          "output_type": "execute_result",
          "data": {
            "text/plain": [
              "EmployeeName\n",
              "ADAM DOMINGUEZ     1\n",
              "ADAM HELLMAN       1\n",
              "ADAM LEWIS         1\n",
              "AL GARZA           1\n",
              "ALAN PRINGLE       1\n",
              "                  ..\n",
              "YOLANDA HERRON     1\n",
              "YUBING XUE         1\n",
              "YVETTE ANDERSON    1\n",
              "ZACHARY BEATTY     1\n",
              "ZAYINNA LEIVA      1\n",
              "Name: EmployeeName, Length: 739, dtype: int64"
            ]
          },
          "metadata": {
            "tags": []
          },
          "execution_count": 26
        }
      ]
    },
    {
      "cell_type": "code",
      "metadata": {
        "colab": {
          "base_uri": "https://localhost:8080/",
          "height": 754
        },
        "id": "n_Q-Z12MF3uZ",
        "outputId": "dd08d41a-3998-406a-8168-7c872e4aef3b"
      },
      "source": [
        "med_df['BasePay'] = df['BasePay'].apply(pd.to_numeric, downcast='float', errors='coerce') # сгруппировала по году\n",
        "med_df.groupby(['Year','JobTitle'],as_index=False).mean()"
      ],
      "execution_count": 27,
      "outputs": [
        {
          "output_type": "stream",
          "text": [
            "/usr/local/lib/python3.7/dist-packages/ipykernel_launcher.py:1: SettingWithCopyWarning: \n",
            "A value is trying to be set on a copy of a slice from a DataFrame.\n",
            "Try using .loc[row_indexer,col_indexer] = value instead\n",
            "\n",
            "See the caveats in the documentation: https://pandas.pydata.org/pandas-docs/stable/user_guide/indexing.html#returning-a-view-versus-a-copy\n",
            "  \"\"\"Entry point for launching an IPython kernel.\n"
          ],
          "name": "stderr"
        },
        {
          "output_type": "execute_result",
          "data": {
            "text/html": [
              "<div>\n",
              "<style scoped>\n",
              "    .dataframe tbody tr th:only-of-type {\n",
              "        vertical-align: middle;\n",
              "    }\n",
              "\n",
              "    .dataframe tbody tr th {\n",
              "        vertical-align: top;\n",
              "    }\n",
              "\n",
              "    .dataframe thead th {\n",
              "        text-align: right;\n",
              "    }\n",
              "</style>\n",
              "<table border=\"1\" class=\"dataframe\">\n",
              "  <thead>\n",
              "    <tr style=\"text-align: right;\">\n",
              "      <th></th>\n",
              "      <th>Year</th>\n",
              "      <th>JobTitle</th>\n",
              "      <th>Id</th>\n",
              "      <th>BasePay</th>\n",
              "      <th>OvertimePay</th>\n",
              "      <th>OtherPay</th>\n",
              "      <th>TotalPay</th>\n",
              "      <th>TotalPayBenefits</th>\n",
              "    </tr>\n",
              "  </thead>\n",
              "  <tbody>\n",
              "    <tr>\n",
              "      <th>0</th>\n",
              "      <td>2011.0</td>\n",
              "      <td>ADMINISTRATOR, SFGH MEDICAL CENTER</td>\n",
              "      <td>37.000000</td>\n",
              "      <td>245124.440000</td>\n",
              "      <td>0.000000</td>\n",
              "      <td>12000.000000</td>\n",
              "      <td>257124.440000</td>\n",
              "      <td>257124.440000</td>\n",
              "    </tr>\n",
              "    <tr>\n",
              "      <th>1</th>\n",
              "      <td>2011.0</td>\n",
              "      <td>ASSISTANT MEDICAL EXAMINER</td>\n",
              "      <td>3170.400000</td>\n",
              "      <td>199964.568000</td>\n",
              "      <td>251.474000</td>\n",
              "      <td>12577.130000</td>\n",
              "      <td>212793.172000</td>\n",
              "      <td>212793.172000</td>\n",
              "    </tr>\n",
              "    <tr>\n",
              "      <th>2</th>\n",
              "      <td>2011.0</td>\n",
              "      <td>CAPTAIN, EMERGENCYCY MEDICAL SERVICES</td>\n",
              "      <td>2775.208333</td>\n",
              "      <td>131835.131250</td>\n",
              "      <td>24316.274167</td>\n",
              "      <td>17859.551250</td>\n",
              "      <td>174010.956667</td>\n",
              "      <td>174010.956667</td>\n",
              "    </tr>\n",
              "    <tr>\n",
              "      <th>3</th>\n",
              "      <td>2011.0</td>\n",
              "      <td>EMERGENCY MEDICAL SERVICES AGENCY SPECIALIST</td>\n",
              "      <td>17472.833333</td>\n",
              "      <td>63474.136667</td>\n",
              "      <td>0.000000</td>\n",
              "      <td>8974.040000</td>\n",
              "      <td>72448.176667</td>\n",
              "      <td>72448.176667</td>\n",
              "    </tr>\n",
              "    <tr>\n",
              "      <th>4</th>\n",
              "      <td>2011.0</td>\n",
              "      <td>FIRE FIGHTER PARAMEDIC</td>\n",
              "      <td>6230.730897</td>\n",
              "      <td>102572.556246</td>\n",
              "      <td>15239.395714</td>\n",
              "      <td>11616.559136</td>\n",
              "      <td>129428.511096</td>\n",
              "      <td>129428.511096</td>\n",
              "    </tr>\n",
              "    <tr>\n",
              "      <th>5</th>\n",
              "      <td>2011.0</td>\n",
              "      <td>FIRE RESCUE PARAMEDIC</td>\n",
              "      <td>15513.285714</td>\n",
              "      <td>67346.748571</td>\n",
              "      <td>1426.511429</td>\n",
              "      <td>12171.924286</td>\n",
              "      <td>80945.184286</td>\n",
              "      <td>80945.184286</td>\n",
              "    </tr>\n",
              "    <tr>\n",
              "      <th>6</th>\n",
              "      <td>2011.0</td>\n",
              "      <td>MEDICAL EVALUATIONS ASSISTANT</td>\n",
              "      <td>25231.272727</td>\n",
              "      <td>41968.424364</td>\n",
              "      <td>1260.968061</td>\n",
              "      <td>1311.529758</td>\n",
              "      <td>44540.922182</td>\n",
              "      <td>44540.922182</td>\n",
              "    </tr>\n",
              "    <tr>\n",
              "      <th>7</th>\n",
              "      <td>2011.0</td>\n",
              "      <td>MEDICAL EXAMINER'S INVESTIGATOR I</td>\n",
              "      <td>29786.900000</td>\n",
              "      <td>19584.314000</td>\n",
              "      <td>640.706000</td>\n",
              "      <td>518.185000</td>\n",
              "      <td>20743.205000</td>\n",
              "      <td>20743.205000</td>\n",
              "    </tr>\n",
              "    <tr>\n",
              "      <th>8</th>\n",
              "      <td>2011.0</td>\n",
              "      <td>MEDICAL EXAMINER'S INVESTIGATOR II</td>\n",
              "      <td>8875.375000</td>\n",
              "      <td>83139.748750</td>\n",
              "      <td>12349.671250</td>\n",
              "      <td>8333.238750</td>\n",
              "      <td>103822.658750</td>\n",
              "      <td>103822.658750</td>\n",
              "    </tr>\n",
              "    <tr>\n",
              "      <th>9</th>\n",
              "      <td>2011.0</td>\n",
              "      <td>MEDICAL EXAMINER'S INVESTIGATOR III</td>\n",
              "      <td>8301.500000</td>\n",
              "      <td>68877.580000</td>\n",
              "      <td>5702.905000</td>\n",
              "      <td>31607.910000</td>\n",
              "      <td>106188.395000</td>\n",
              "      <td>106188.395000</td>\n",
              "    </tr>\n",
              "    <tr>\n",
              "      <th>10</th>\n",
              "      <td>2011.0</td>\n",
              "      <td>MEDICAL RECORDS CLERK</td>\n",
              "      <td>24419.134615</td>\n",
              "      <td>44681.806731</td>\n",
              "      <td>1531.013462</td>\n",
              "      <td>434.220577</td>\n",
              "      <td>46647.040769</td>\n",
              "      <td>46647.040769</td>\n",
              "    </tr>\n",
              "    <tr>\n",
              "      <th>11</th>\n",
              "      <td>2011.0</td>\n",
              "      <td>MEDICAL RECORDS TECHNICIAN</td>\n",
              "      <td>20523.894737</td>\n",
              "      <td>57200.251842</td>\n",
              "      <td>3127.148158</td>\n",
              "      <td>470.939211</td>\n",
              "      <td>60798.339211</td>\n",
              "      <td>60798.339211</td>\n",
              "    </tr>\n",
              "    <tr>\n",
              "      <th>12</th>\n",
              "      <td>2011.0</td>\n",
              "      <td>MEDICAL RECORDS TECHNICIAN SUPERVISOR</td>\n",
              "      <td>15195.166667</td>\n",
              "      <td>71623.031667</td>\n",
              "      <td>4118.741667</td>\n",
              "      <td>1568.211667</td>\n",
              "      <td>77309.985000</td>\n",
              "      <td>77309.985000</td>\n",
              "    </tr>\n",
              "    <tr>\n",
              "      <th>13</th>\n",
              "      <td>2011.0</td>\n",
              "      <td>MEDICAL SOCIAL WORK SUPERVISOR</td>\n",
              "      <td>10927.000000</td>\n",
              "      <td>93148.996667</td>\n",
              "      <td>0.000000</td>\n",
              "      <td>0.000000</td>\n",
              "      <td>93148.996667</td>\n",
              "      <td>93148.996667</td>\n",
              "    </tr>\n",
              "    <tr>\n",
              "      <th>14</th>\n",
              "      <td>2011.0</td>\n",
              "      <td>MEDICAL SOCIAL WORKER</td>\n",
              "      <td>19559.234043</td>\n",
              "      <td>60308.912660</td>\n",
              "      <td>0.000000</td>\n",
              "      <td>1110.395213</td>\n",
              "      <td>61419.307872</td>\n",
              "      <td>61419.307872</td>\n",
              "    </tr>\n",
              "    <tr>\n",
              "      <th>15</th>\n",
              "      <td>2011.0</td>\n",
              "      <td>MEDICAL STAFF SERVICES DEPARTMENT ANALYST</td>\n",
              "      <td>14756.500000</td>\n",
              "      <td>78912.030000</td>\n",
              "      <td>0.000000</td>\n",
              "      <td>0.000000</td>\n",
              "      <td>78912.030000</td>\n",
              "      <td>78912.030000</td>\n",
              "    </tr>\n",
              "    <tr>\n",
              "      <th>16</th>\n",
              "      <td>2011.0</td>\n",
              "      <td>MEDICAL STAFF SERVICES DEPARTMENT SPECIALIST</td>\n",
              "      <td>21052.250000</td>\n",
              "      <td>59923.957500</td>\n",
              "      <td>0.000000</td>\n",
              "      <td>0.000000</td>\n",
              "      <td>59923.957500</td>\n",
              "      <td>59923.957500</td>\n",
              "    </tr>\n",
              "    <tr>\n",
              "      <th>17</th>\n",
              "      <td>2011.0</td>\n",
              "      <td>MEDICAL TRANSCRIBER TYPIST</td>\n",
              "      <td>21979.400000</td>\n",
              "      <td>56231.602000</td>\n",
              "      <td>177.344000</td>\n",
              "      <td>1245.916000</td>\n",
              "      <td>57654.862000</td>\n",
              "      <td>57654.862000</td>\n",
              "    </tr>\n",
              "    <tr>\n",
              "      <th>18</th>\n",
              "      <td>2011.0</td>\n",
              "      <td>SENIOR MEDICAL SOCIAL WORKER</td>\n",
              "      <td>15004.400000</td>\n",
              "      <td>77743.412000</td>\n",
              "      <td>0.000000</td>\n",
              "      <td>432.660000</td>\n",
              "      <td>78176.072000</td>\n",
              "      <td>78176.072000</td>\n",
              "    </tr>\n",
              "    <tr>\n",
              "      <th>19</th>\n",
              "      <td>2011.0</td>\n",
              "      <td>SENIOR MEDICAL TRANSCRIBER TYPIST</td>\n",
              "      <td>20898.000000</td>\n",
              "      <td>58484.630000</td>\n",
              "      <td>1937.960000</td>\n",
              "      <td>0.000000</td>\n",
              "      <td>60422.590000</td>\n",
              "      <td>60422.590000</td>\n",
              "    </tr>\n",
              "  </tbody>\n",
              "</table>\n",
              "</div>"
            ],
            "text/plain": [
              "      Year  ... TotalPayBenefits\n",
              "0   2011.0  ...    257124.440000\n",
              "1   2011.0  ...    212793.172000\n",
              "2   2011.0  ...    174010.956667\n",
              "3   2011.0  ...     72448.176667\n",
              "4   2011.0  ...    129428.511096\n",
              "5   2011.0  ...     80945.184286\n",
              "6   2011.0  ...     44540.922182\n",
              "7   2011.0  ...     20743.205000\n",
              "8   2011.0  ...    103822.658750\n",
              "9   2011.0  ...    106188.395000\n",
              "10  2011.0  ...     46647.040769\n",
              "11  2011.0  ...     60798.339211\n",
              "12  2011.0  ...     77309.985000\n",
              "13  2011.0  ...     93148.996667\n",
              "14  2011.0  ...     61419.307872\n",
              "15  2011.0  ...     78912.030000\n",
              "16  2011.0  ...     59923.957500\n",
              "17  2011.0  ...     57654.862000\n",
              "18  2011.0  ...     78176.072000\n",
              "19  2011.0  ...     60422.590000\n",
              "\n",
              "[20 rows x 8 columns]"
            ]
          },
          "metadata": {
            "tags": []
          },
          "execution_count": 27
        }
      ]
    },
    {
      "cell_type": "code",
      "metadata": {
        "colab": {
          "base_uri": "https://localhost:8080/"
        },
        "id": "4BwmfzmfFc15",
        "outputId": "044b8221-ca9f-4a95-e831-2174c45975ba"
      },
      "source": [
        "med_df['BasePay'].max()"
      ],
      "execution_count": 28,
      "outputs": [
        {
          "output_type": "execute_result",
          "data": {
            "text/plain": [
              "257510.59"
            ]
          },
          "metadata": {
            "tags": []
          },
          "execution_count": 28
        }
      ]
    },
    {
      "cell_type": "code",
      "metadata": {
        "colab": {
          "base_uri": "https://localhost:8080/"
        },
        "id": "OobBTtSGFl2K",
        "outputId": "de99ca0a-17fa-4a30-fc27-11931ee0ba68"
      },
      "source": [
        "med_df['BasePay'].mean()"
      ],
      "execution_count": 29,
      "outputs": [
        {
          "output_type": "execute_result",
          "data": {
            "text/plain": [
              "75859.64047361302"
            ]
          },
          "metadata": {
            "tags": []
          },
          "execution_count": 29
        }
      ]
    },
    {
      "cell_type": "code",
      "metadata": {
        "colab": {
          "base_uri": "https://localhost:8080/"
        },
        "id": "b3LT9ERaFtfm",
        "outputId": "8d3aac05-f485-43f9-d3c9-96e7cc675de1"
      },
      "source": [
        "med_df['BasePay'].median()"
      ],
      "execution_count": 30,
      "outputs": [
        {
          "output_type": "execute_result",
          "data": {
            "text/plain": [
              "71777.32"
            ]
          },
          "metadata": {
            "tags": []
          },
          "execution_count": 30
        }
      ]
    },
    {
      "cell_type": "code",
      "metadata": {
        "colab": {
          "base_uri": "https://localhost:8080/",
          "height": 406
        },
        "id": "qOaiaJMT_pRv",
        "outputId": "db97b90b-f640-4030-db0b-83990fbf9577"
      },
      "source": [
        "t3 = df1.JobTitle.str.contains('POLICE')\n",
        "police_df = df1[t3]\n",
        "police_df"
      ],
      "execution_count": 31,
      "outputs": [
        {
          "output_type": "execute_result",
          "data": {
            "text/html": [
              "<div>\n",
              "<style scoped>\n",
              "    .dataframe tbody tr th:only-of-type {\n",
              "        vertical-align: middle;\n",
              "    }\n",
              "\n",
              "    .dataframe tbody tr th {\n",
              "        vertical-align: top;\n",
              "    }\n",
              "\n",
              "    .dataframe thead th {\n",
              "        text-align: right;\n",
              "    }\n",
              "</style>\n",
              "<table border=\"1\" class=\"dataframe\">\n",
              "  <thead>\n",
              "    <tr style=\"text-align: right;\">\n",
              "      <th></th>\n",
              "      <th>Id</th>\n",
              "      <th>EmployeeName</th>\n",
              "      <th>JobTitle</th>\n",
              "      <th>BasePay</th>\n",
              "      <th>OvertimePay</th>\n",
              "      <th>OtherPay</th>\n",
              "      <th>TotalPay</th>\n",
              "      <th>TotalPayBenefits</th>\n",
              "      <th>Year</th>\n",
              "      <th>Agency</th>\n",
              "    </tr>\n",
              "  </thead>\n",
              "  <tbody>\n",
              "    <tr>\n",
              "      <th>1</th>\n",
              "      <td>2</td>\n",
              "      <td>GARY JIMENEZ</td>\n",
              "      <td>CAPTAIN III (POLICE DEPARTMENT)</td>\n",
              "      <td>155966.02</td>\n",
              "      <td>245131.88</td>\n",
              "      <td>137811.38</td>\n",
              "      <td>538909.28</td>\n",
              "      <td>538909.28</td>\n",
              "      <td>2011.0</td>\n",
              "      <td>San Francisco</td>\n",
              "    </tr>\n",
              "    <tr>\n",
              "      <th>2</th>\n",
              "      <td>3</td>\n",
              "      <td>ALBERT PARDINI</td>\n",
              "      <td>CAPTAIN III (POLICE DEPARTMENT)</td>\n",
              "      <td>212739.13</td>\n",
              "      <td>106088.18</td>\n",
              "      <td>16452.60</td>\n",
              "      <td>335279.91</td>\n",
              "      <td>335279.91</td>\n",
              "      <td>2011.0</td>\n",
              "      <td>San Francisco</td>\n",
              "    </tr>\n",
              "    <tr>\n",
              "      <th>11</th>\n",
              "      <td>12</td>\n",
              "      <td>PATRICIA JACKSON</td>\n",
              "      <td>CAPTAIN III (POLICE DEPARTMENT)</td>\n",
              "      <td>99722.00</td>\n",
              "      <td>87082.62</td>\n",
              "      <td>110804.30</td>\n",
              "      <td>297608.92</td>\n",
              "      <td>297608.92</td>\n",
              "      <td>2011.0</td>\n",
              "      <td>San Francisco</td>\n",
              "    </tr>\n",
              "    <tr>\n",
              "      <th>15</th>\n",
              "      <td>16</td>\n",
              "      <td>RICHARD CORRIEA</td>\n",
              "      <td>COMMANDER III, (POLICE DEPARTMENT)</td>\n",
              "      <td>198778.01</td>\n",
              "      <td>73478.20</td>\n",
              "      <td>13957.65</td>\n",
              "      <td>286213.86</td>\n",
              "      <td>286213.86</td>\n",
              "      <td>2011.0</td>\n",
              "      <td>San Francisco</td>\n",
              "    </tr>\n",
              "    <tr>\n",
              "      <th>25</th>\n",
              "      <td>26</td>\n",
              "      <td>GREGORY SUHR</td>\n",
              "      <td>CHIEF OF POLICE</td>\n",
              "      <td>256470.41</td>\n",
              "      <td>0.00</td>\n",
              "      <td>11522.18</td>\n",
              "      <td>267992.59</td>\n",
              "      <td>267992.59</td>\n",
              "      <td>2011.0</td>\n",
              "      <td>San Francisco</td>\n",
              "    </tr>\n",
              "    <tr>\n",
              "      <th>...</th>\n",
              "      <td>...</td>\n",
              "      <td>...</td>\n",
              "      <td>...</td>\n",
              "      <td>...</td>\n",
              "      <td>...</td>\n",
              "      <td>...</td>\n",
              "      <td>...</td>\n",
              "      <td>...</td>\n",
              "      <td>...</td>\n",
              "      <td>...</td>\n",
              "    </tr>\n",
              "    <tr>\n",
              "      <th>35131</th>\n",
              "      <td>35132</td>\n",
              "      <td>CYNTHIA HAYNES-EPPERSON</td>\n",
              "      <td>SENIOR POLICE COMMUNICATIONS DISPATCHER</td>\n",
              "      <td>1006.40</td>\n",
              "      <td>0.00</td>\n",
              "      <td>361.82</td>\n",
              "      <td>1368.22</td>\n",
              "      <td>1368.22</td>\n",
              "      <td>2011.0</td>\n",
              "      <td>San Francisco</td>\n",
              "    </tr>\n",
              "    <tr>\n",
              "      <th>35151</th>\n",
              "      <td>35152</td>\n",
              "      <td>LYNN BLOOM</td>\n",
              "      <td>POLICE SERVICES AIDE</td>\n",
              "      <td>0.00</td>\n",
              "      <td>0.00</td>\n",
              "      <td>1324.80</td>\n",
              "      <td>1324.80</td>\n",
              "      <td>1324.80</td>\n",
              "      <td>2011.0</td>\n",
              "      <td>San Francisco</td>\n",
              "    </tr>\n",
              "    <tr>\n",
              "      <th>35318</th>\n",
              "      <td>35319</td>\n",
              "      <td>ROBERT CHAPMAN</td>\n",
              "      <td>POLICE OFFICER III</td>\n",
              "      <td>0.00</td>\n",
              "      <td>0.00</td>\n",
              "      <td>1088.00</td>\n",
              "      <td>1088.00</td>\n",
              "      <td>1088.00</td>\n",
              "      <td>2011.0</td>\n",
              "      <td>San Francisco</td>\n",
              "    </tr>\n",
              "    <tr>\n",
              "      <th>35671</th>\n",
              "      <td>35672</td>\n",
              "      <td>RUSSELL MATLI</td>\n",
              "      <td>POLICE OFFICER III</td>\n",
              "      <td>0.00</td>\n",
              "      <td>0.00</td>\n",
              "      <td>597.31</td>\n",
              "      <td>597.31</td>\n",
              "      <td>597.31</td>\n",
              "      <td>2011.0</td>\n",
              "      <td>San Francisco</td>\n",
              "    </tr>\n",
              "    <tr>\n",
              "      <th>35902</th>\n",
              "      <td>35903</td>\n",
              "      <td>SUSAN ROTH</td>\n",
              "      <td>SERGEANT III (POLICE DEPARTMENT)</td>\n",
              "      <td>0.00</td>\n",
              "      <td>0.00</td>\n",
              "      <td>283.86</td>\n",
              "      <td>283.86</td>\n",
              "      <td>283.86</td>\n",
              "      <td>2011.0</td>\n",
              "      <td>San Francisco</td>\n",
              "    </tr>\n",
              "  </tbody>\n",
              "</table>\n",
              "<p>2512 rows × 10 columns</p>\n",
              "</div>"
            ],
            "text/plain": [
              "          Id             EmployeeName  ...    Year         Agency\n",
              "1          2             GARY JIMENEZ  ...  2011.0  San Francisco\n",
              "2          3           ALBERT PARDINI  ...  2011.0  San Francisco\n",
              "11        12         PATRICIA JACKSON  ...  2011.0  San Francisco\n",
              "15        16          RICHARD CORRIEA  ...  2011.0  San Francisco\n",
              "25        26             GREGORY SUHR  ...  2011.0  San Francisco\n",
              "...      ...                      ...  ...     ...            ...\n",
              "35131  35132  CYNTHIA HAYNES-EPPERSON  ...  2011.0  San Francisco\n",
              "35151  35152               LYNN BLOOM  ...  2011.0  San Francisco\n",
              "35318  35319           ROBERT CHAPMAN  ...  2011.0  San Francisco\n",
              "35671  35672            RUSSELL MATLI  ...  2011.0  San Francisco\n",
              "35902  35903               SUSAN ROTH  ...  2011.0  San Francisco\n",
              "\n",
              "[2512 rows x 10 columns]"
            ]
          },
          "metadata": {
            "tags": []
          },
          "execution_count": 31
        }
      ]
    },
    {
      "cell_type": "code",
      "metadata": {
        "colab": {
          "base_uri": "https://localhost:8080/"
        },
        "id": "ijJRghkHooz4",
        "outputId": "3e2347d6-bef2-4471-9f1e-78059eec1325"
      },
      "source": [
        "# сразу посчитаем количество людей в отделе\n",
        "police_df.groupby('EmployeeName')['EmployeeName'].count()"
      ],
      "execution_count": 32,
      "outputs": [
        {
          "output_type": "execute_result",
          "data": {
            "text/plain": [
              "EmployeeName\n",
              "AARON BALLONADO      1\n",
              "AARON COWHIG         1\n",
              "AARON FISCHER        1\n",
              "AARON FOLTZ          1\n",
              "AARON LOZADA         1\n",
              "                    ..\n",
              "YVETTE POINDEXTER    1\n",
              "YVONNE ALLEN         1\n",
              "YVONNE MOILANEN      1\n",
              "ZAHID KHAN           1\n",
              "ZOILA MAGUINA        1\n",
              "Name: EmployeeName, Length: 2487, dtype: int64"
            ]
          },
          "metadata": {
            "tags": []
          },
          "execution_count": 32
        }
      ]
    },
    {
      "cell_type": "code",
      "metadata": {
        "colab": {
          "base_uri": "https://localhost:8080/",
          "height": 934
        },
        "id": "fD8rPC0rF_hG",
        "outputId": "507b32ee-b9e0-4327-ba66-561b8a8bed11"
      },
      "source": [
        "police_df['BasePay'] = df['BasePay'].apply(pd.to_numeric, downcast='float', errors='coerce') # сгруппировала по году\n",
        "police_df.groupby(['Year','JobTitle'],as_index=False).mean()"
      ],
      "execution_count": 33,
      "outputs": [
        {
          "output_type": "stream",
          "text": [
            "/usr/local/lib/python3.7/dist-packages/ipykernel_launcher.py:1: SettingWithCopyWarning: \n",
            "A value is trying to be set on a copy of a slice from a DataFrame.\n",
            "Try using .loc[row_indexer,col_indexer] = value instead\n",
            "\n",
            "See the caveats in the documentation: https://pandas.pydata.org/pandas-docs/stable/user_guide/indexing.html#returning-a-view-versus-a-copy\n",
            "  \"\"\"Entry point for launching an IPython kernel.\n"
          ],
          "name": "stderr"
        },
        {
          "output_type": "execute_result",
          "data": {
            "text/html": [
              "<div>\n",
              "<style scoped>\n",
              "    .dataframe tbody tr th:only-of-type {\n",
              "        vertical-align: middle;\n",
              "    }\n",
              "\n",
              "    .dataframe tbody tr th {\n",
              "        vertical-align: top;\n",
              "    }\n",
              "\n",
              "    .dataframe thead th {\n",
              "        text-align: right;\n",
              "    }\n",
              "</style>\n",
              "<table border=\"1\" class=\"dataframe\">\n",
              "  <thead>\n",
              "    <tr style=\"text-align: right;\">\n",
              "      <th></th>\n",
              "      <th>Year</th>\n",
              "      <th>JobTitle</th>\n",
              "      <th>Id</th>\n",
              "      <th>BasePay</th>\n",
              "      <th>OvertimePay</th>\n",
              "      <th>OtherPay</th>\n",
              "      <th>TotalPay</th>\n",
              "      <th>TotalPayBenefits</th>\n",
              "    </tr>\n",
              "  </thead>\n",
              "  <tbody>\n",
              "    <tr>\n",
              "      <th>0</th>\n",
              "      <td>2011.0</td>\n",
              "      <td>AIRPORT POLICE SERVICES AIDE</td>\n",
              "      <td>20580.267380</td>\n",
              "      <td>51178.742834</td>\n",
              "      <td>5478.936096</td>\n",
              "      <td>3472.252353</td>\n",
              "      <td>60129.931283</td>\n",
              "      <td>60129.931283</td>\n",
              "    </tr>\n",
              "    <tr>\n",
              "      <th>1</th>\n",
              "      <td>2011.0</td>\n",
              "      <td>ASSISTANT INSPECTOR (POLICE DEPARTMENT)</td>\n",
              "      <td>434.000000</td>\n",
              "      <td>123169.950000</td>\n",
              "      <td>45679.840000</td>\n",
              "      <td>20149.410000</td>\n",
              "      <td>188999.200000</td>\n",
              "      <td>188999.200000</td>\n",
              "    </tr>\n",
              "    <tr>\n",
              "      <th>2</th>\n",
              "      <td>2011.0</td>\n",
              "      <td>ASSISTANT INSPECTOR II (POLICE DEPARTMENT)</td>\n",
              "      <td>2250.100000</td>\n",
              "      <td>127866.102000</td>\n",
              "      <td>13547.629000</td>\n",
              "      <td>9475.130000</td>\n",
              "      <td>150888.861000</td>\n",
              "      <td>150888.861000</td>\n",
              "    </tr>\n",
              "    <tr>\n",
              "      <th>3</th>\n",
              "      <td>2011.0</td>\n",
              "      <td>ASSISTANT INSPECTOR III (POLICE DEPARTMENT)</td>\n",
              "      <td>2183.888889</td>\n",
              "      <td>130479.954444</td>\n",
              "      <td>13373.892222</td>\n",
              "      <td>8817.368889</td>\n",
              "      <td>152671.215556</td>\n",
              "      <td>152671.215556</td>\n",
              "    </tr>\n",
              "    <tr>\n",
              "      <th>4</th>\n",
              "      <td>2011.0</td>\n",
              "      <td>CAPTAIN III (POLICE DEPARTMENT)</td>\n",
              "      <td>670.189189</td>\n",
              "      <td>170183.408649</td>\n",
              "      <td>15874.425405</td>\n",
              "      <td>25726.059189</td>\n",
              "      <td>211783.893243</td>\n",
              "      <td>211783.893243</td>\n",
              "    </tr>\n",
              "    <tr>\n",
              "      <th>5</th>\n",
              "      <td>2011.0</td>\n",
              "      <td>CHIEF OF POLICE</td>\n",
              "      <td>26.000000</td>\n",
              "      <td>256470.410000</td>\n",
              "      <td>0.000000</td>\n",
              "      <td>11522.180000</td>\n",
              "      <td>267992.590000</td>\n",
              "      <td>267992.590000</td>\n",
              "    </tr>\n",
              "    <tr>\n",
              "      <th>6</th>\n",
              "      <td>2011.0</td>\n",
              "      <td>COMMANDER III, (POLICE DEPARTMENT)</td>\n",
              "      <td>731.571429</td>\n",
              "      <td>167042.752857</td>\n",
              "      <td>15796.962857</td>\n",
              "      <td>22296.791429</td>\n",
              "      <td>205136.507143</td>\n",
              "      <td>205136.507143</td>\n",
              "    </tr>\n",
              "    <tr>\n",
              "      <th>7</th>\n",
              "      <td>2011.0</td>\n",
              "      <td>DEPUTY CHIEF III (POLICE DEPARTMENT)</td>\n",
              "      <td>47.000000</td>\n",
              "      <td>219758.726000</td>\n",
              "      <td>0.000000</td>\n",
              "      <td>30267.762000</td>\n",
              "      <td>250026.488000</td>\n",
              "      <td>250026.488000</td>\n",
              "    </tr>\n",
              "    <tr>\n",
              "      <th>8</th>\n",
              "      <td>2011.0</td>\n",
              "      <td>INSPECTOR II, (POLICE DEPARTMENT)</td>\n",
              "      <td>2698.666667</td>\n",
              "      <td>128145.436667</td>\n",
              "      <td>9213.790000</td>\n",
              "      <td>6923.510000</td>\n",
              "      <td>144282.736667</td>\n",
              "      <td>144282.736667</td>\n",
              "    </tr>\n",
              "    <tr>\n",
              "      <th>9</th>\n",
              "      <td>2011.0</td>\n",
              "      <td>INSPECTOR III, (POLICE DEPARTMENT)</td>\n",
              "      <td>2461.481481</td>\n",
              "      <td>120294.284259</td>\n",
              "      <td>14408.287593</td>\n",
              "      <td>19423.711605</td>\n",
              "      <td>154126.283457</td>\n",
              "      <td>154126.283457</td>\n",
              "    </tr>\n",
              "    <tr>\n",
              "      <th>10</th>\n",
              "      <td>2011.0</td>\n",
              "      <td>INSPECTOR, (POLICE DEPARTMENT)</td>\n",
              "      <td>1613.000000</td>\n",
              "      <td>123178.880000</td>\n",
              "      <td>17560.220000</td>\n",
              "      <td>18759.885000</td>\n",
              "      <td>159498.985000</td>\n",
              "      <td>159498.985000</td>\n",
              "    </tr>\n",
              "    <tr>\n",
              "      <th>11</th>\n",
              "      <td>2011.0</td>\n",
              "      <td>INSTITUTIONAL POLICE LIEUTENANT</td>\n",
              "      <td>21321.000000</td>\n",
              "      <td>49215.620000</td>\n",
              "      <td>2563.460000</td>\n",
              "      <td>7463.510000</td>\n",
              "      <td>59242.590000</td>\n",
              "      <td>59242.590000</td>\n",
              "    </tr>\n",
              "    <tr>\n",
              "      <th>12</th>\n",
              "      <td>2011.0</td>\n",
              "      <td>INSTITUTIONAL POLICE OFFICER</td>\n",
              "      <td>16592.230769</td>\n",
              "      <td>55309.311538</td>\n",
              "      <td>14262.680000</td>\n",
              "      <td>3194.992308</td>\n",
              "      <td>72766.983846</td>\n",
              "      <td>72766.983846</td>\n",
              "    </tr>\n",
              "    <tr>\n",
              "      <th>13</th>\n",
              "      <td>2011.0</td>\n",
              "      <td>INSTITUTIONAL POLICE SERGEANT</td>\n",
              "      <td>5158.000000</td>\n",
              "      <td>102973.985000</td>\n",
              "      <td>20196.030000</td>\n",
              "      <td>3802.055000</td>\n",
              "      <td>126972.070000</td>\n",
              "      <td>126972.070000</td>\n",
              "    </tr>\n",
              "    <tr>\n",
              "      <th>14</th>\n",
              "      <td>2011.0</td>\n",
              "      <td>LIEUTENANT I, (POLICE DEPARTMENT)</td>\n",
              "      <td>1956.000000</td>\n",
              "      <td>140654.870000</td>\n",
              "      <td>12244.430000</td>\n",
              "      <td>896.430000</td>\n",
              "      <td>153795.730000</td>\n",
              "      <td>153795.730000</td>\n",
              "    </tr>\n",
              "    <tr>\n",
              "      <th>15</th>\n",
              "      <td>2011.0</td>\n",
              "      <td>LIEUTENANT II (POLICE DEPARTMENT)</td>\n",
              "      <td>2038.000000</td>\n",
              "      <td>54505.380000</td>\n",
              "      <td>0.000000</td>\n",
              "      <td>98480.010000</td>\n",
              "      <td>152985.390000</td>\n",
              "      <td>152985.390000</td>\n",
              "    </tr>\n",
              "    <tr>\n",
              "      <th>16</th>\n",
              "      <td>2011.0</td>\n",
              "      <td>LIEUTENANT III (POLICE DEPARTMENT)</td>\n",
              "      <td>1505.224490</td>\n",
              "      <td>139491.858571</td>\n",
              "      <td>13092.981939</td>\n",
              "      <td>14395.435102</td>\n",
              "      <td>166980.275612</td>\n",
              "      <td>166980.275612</td>\n",
              "    </tr>\n",
              "    <tr>\n",
              "      <th>17</th>\n",
              "      <td>2011.0</td>\n",
              "      <td>POLICE COMMUNICATIONS SHIFT SUPERVISOR</td>\n",
              "      <td>9844.875000</td>\n",
              "      <td>86923.021250</td>\n",
              "      <td>3327.248750</td>\n",
              "      <td>8720.057500</td>\n",
              "      <td>98970.327500</td>\n",
              "      <td>98970.327500</td>\n",
              "    </tr>\n",
              "    <tr>\n",
              "      <th>18</th>\n",
              "      <td>2011.0</td>\n",
              "      <td>POLICE OFFICER I</td>\n",
              "      <td>7176.948608</td>\n",
              "      <td>97257.355953</td>\n",
              "      <td>7123.243940</td>\n",
              "      <td>9782.614411</td>\n",
              "      <td>114163.214304</td>\n",
              "      <td>114163.214304</td>\n",
              "    </tr>\n",
              "    <tr>\n",
              "      <th>19</th>\n",
              "      <td>2011.0</td>\n",
              "      <td>POLICE OFFICER II</td>\n",
              "      <td>5775.952909</td>\n",
              "      <td>103341.248615</td>\n",
              "      <td>8154.091939</td>\n",
              "      <td>11787.403130</td>\n",
              "      <td>123282.743684</td>\n",
              "      <td>123282.743684</td>\n",
              "    </tr>\n",
              "    <tr>\n",
              "      <th>20</th>\n",
              "      <td>2011.0</td>\n",
              "      <td>POLICE OFFICER III</td>\n",
              "      <td>5518.667522</td>\n",
              "      <td>106324.644365</td>\n",
              "      <td>8380.226470</td>\n",
              "      <td>13129.525083</td>\n",
              "      <td>127834.395918</td>\n",
              "      <td>127834.395918</td>\n",
              "    </tr>\n",
              "    <tr>\n",
              "      <th>21</th>\n",
              "      <td>2011.0</td>\n",
              "      <td>POLICE SERVICES AIDE</td>\n",
              "      <td>26325.500000</td>\n",
              "      <td>30919.095000</td>\n",
              "      <td>2229.895000</td>\n",
              "      <td>2443.700000</td>\n",
              "      <td>35592.690000</td>\n",
              "      <td>35592.690000</td>\n",
              "    </tr>\n",
              "    <tr>\n",
              "      <th>22</th>\n",
              "      <td>2011.0</td>\n",
              "      <td>SENIOR POLICE COMMUNICATIONS DISPATCHER</td>\n",
              "      <td>10923.416667</td>\n",
              "      <td>78925.361667</td>\n",
              "      <td>9970.508333</td>\n",
              "      <td>7149.751250</td>\n",
              "      <td>96045.621250</td>\n",
              "      <td>96045.621250</td>\n",
              "    </tr>\n",
              "    <tr>\n",
              "      <th>23</th>\n",
              "      <td>2011.0</td>\n",
              "      <td>SERGEANT I (POLICE DEPARTMENT)</td>\n",
              "      <td>2887.058824</td>\n",
              "      <td>120720.923529</td>\n",
              "      <td>12046.225882</td>\n",
              "      <td>14917.391765</td>\n",
              "      <td>147684.541176</td>\n",
              "      <td>147684.541176</td>\n",
              "    </tr>\n",
              "    <tr>\n",
              "      <th>24</th>\n",
              "      <td>2011.0</td>\n",
              "      <td>SERGEANT II (POLICE DEPARTMENT)</td>\n",
              "      <td>2600.263158</td>\n",
              "      <td>126354.654737</td>\n",
              "      <td>10318.805263</td>\n",
              "      <td>10180.875263</td>\n",
              "      <td>146854.335263</td>\n",
              "      <td>146854.335263</td>\n",
              "    </tr>\n",
              "    <tr>\n",
              "      <th>25</th>\n",
              "      <td>2011.0</td>\n",
              "      <td>SERGEANT III (POLICE DEPARTMENT)</td>\n",
              "      <td>2485.284746</td>\n",
              "      <td>127600.584203</td>\n",
              "      <td>9530.638678</td>\n",
              "      <td>14191.748237</td>\n",
              "      <td>151322.971119</td>\n",
              "      <td>151322.971119</td>\n",
              "    </tr>\n",
              "  </tbody>\n",
              "</table>\n",
              "</div>"
            ],
            "text/plain": [
              "      Year  ... TotalPayBenefits\n",
              "0   2011.0  ...     60129.931283\n",
              "1   2011.0  ...    188999.200000\n",
              "2   2011.0  ...    150888.861000\n",
              "3   2011.0  ...    152671.215556\n",
              "4   2011.0  ...    211783.893243\n",
              "5   2011.0  ...    267992.590000\n",
              "6   2011.0  ...    205136.507143\n",
              "7   2011.0  ...    250026.488000\n",
              "8   2011.0  ...    144282.736667\n",
              "9   2011.0  ...    154126.283457\n",
              "10  2011.0  ...    159498.985000\n",
              "11  2011.0  ...     59242.590000\n",
              "12  2011.0  ...     72766.983846\n",
              "13  2011.0  ...    126972.070000\n",
              "14  2011.0  ...    153795.730000\n",
              "15  2011.0  ...    152985.390000\n",
              "16  2011.0  ...    166980.275612\n",
              "17  2011.0  ...     98970.327500\n",
              "18  2011.0  ...    114163.214304\n",
              "19  2011.0  ...    123282.743684\n",
              "20  2011.0  ...    127834.395918\n",
              "21  2011.0  ...     35592.690000\n",
              "22  2011.0  ...     96045.621250\n",
              "23  2011.0  ...    147684.541176\n",
              "24  2011.0  ...    146854.335263\n",
              "25  2011.0  ...    151322.971119\n",
              "\n",
              "[26 rows x 8 columns]"
            ]
          },
          "metadata": {
            "tags": []
          },
          "execution_count": 33
        }
      ]
    },
    {
      "cell_type": "code",
      "metadata": {
        "colab": {
          "base_uri": "https://localhost:8080/"
        },
        "id": "H_jh4XzIGJSE",
        "outputId": "8490ba22-6b6c-47bf-a865-529d3860546b"
      },
      "source": [
        "police_df['BasePay'].max()"
      ],
      "execution_count": 34,
      "outputs": [
        {
          "output_type": "execute_result",
          "data": {
            "text/plain": [
              "261717.6"
            ]
          },
          "metadata": {
            "tags": []
          },
          "execution_count": 34
        }
      ]
    },
    {
      "cell_type": "code",
      "metadata": {
        "colab": {
          "base_uri": "https://localhost:8080/"
        },
        "id": "KSIqqfZYGVT_",
        "outputId": "4a8c26b1-e95a-4add-d513-6137b95e4956"
      },
      "source": [
        "police_df['BasePay'].mean()"
      ],
      "execution_count": 35,
      "outputs": [
        {
          "output_type": "execute_result",
          "data": {
            "text/plain": [
              "105981.21477308912"
            ]
          },
          "metadata": {
            "tags": []
          },
          "execution_count": 35
        }
      ]
    },
    {
      "cell_type": "code",
      "metadata": {
        "colab": {
          "base_uri": "https://localhost:8080/"
        },
        "id": "Ib0binlJGYHy",
        "outputId": "1bc3316d-5719-4f9e-fd13-17c114b29296"
      },
      "source": [
        "police_df['BasePay'].median()"
      ],
      "execution_count": 36,
      "outputs": [
        {
          "output_type": "execute_result",
          "data": {
            "text/plain": [
              "111976.14"
            ]
          },
          "metadata": {
            "tags": []
          },
          "execution_count": 36
        }
      ]
    },
    {
      "cell_type": "code",
      "metadata": {
        "colab": {
          "base_uri": "https://localhost:8080/",
          "height": 345
        },
        "id": "OuG1h8oQcxiF",
        "outputId": "1d561eb8-9e60-4f49-98d1-4993af3be708"
      },
      "source": [
        "import seaborn as sns\n",
        "from pandas import Series,DataFrame\n",
        "sns.distplot(police_df['BasePay'],bins=25) # посмотрим как распределялась базовая зп работников полиции\n",
        "plt.show()"
      ],
      "execution_count": 37,
      "outputs": [
        {
          "output_type": "stream",
          "text": [
            "/usr/local/lib/python3.7/dist-packages/seaborn/distributions.py:2557: FutureWarning: `distplot` is a deprecated function and will be removed in a future version. Please adapt your code to use either `displot` (a figure-level function with similar flexibility) or `histplot` (an axes-level function for histograms).\n",
            "  warnings.warn(msg, FutureWarning)\n"
          ],
          "name": "stderr"
        },
        {
          "output_type": "display_data",
          "data": {
            "image/png": "[encoded data removed]",
            "text/plain": [
              "<Figure size 432x288 with 1 Axes>"
            ]
          },
          "metadata": {
            "tags": [],
            "needs_background": "light"
          }
        }
      ]
    },
    {
      "cell_type": "code",
      "metadata": {
        "colab": {
          "base_uri": "https://localhost:8080/",
          "height": 314
        },
        "id": "t3P9fCB3Tr0I",
        "outputId": "e2909240-5687-41ff-b54c-a165bef956b8"
      },
      "source": [
        "police = police_df.groupby('Year').mean() # посмотрим как со временем менялась базовая зп работников полиции\n",
        "police.reset_index(inplace=True)\n",
        "sns.barplot(x = 'Year', y='BasePay' , data = sal)\n",
        "plt.figure()"
      ],
      "execution_count": 38,
      "outputs": [
        {
          "output_type": "execute_result",
          "data": {
            "text/plain": [
              "<Figure size 432x288 with 0 Axes>"
            ]
          },
          "metadata": {
            "tags": []
          },
          "execution_count": 38
        },
        {
          "output_type": "display_data",
          "data": {
            "image/png": "[encoded data removed]",
            "text/plain": [
              "<Figure size 432x288 with 1 Axes>"
            ]
          },
          "metadata": {
            "tags": [],
            "needs_background": "light"
          }
        },
        {
          "output_type": "display_data",
          "data": {
            "text/plain": [
              "<Figure size 432x288 with 0 Axes>"
            ]
          },
          "metadata": {
            "tags": []
          }
        }
      ]
    },
    {
      "cell_type": "code",
      "metadata": {
        "colab": {
          "base_uri": "https://localhost:8080/",
          "height": 345
        },
        "id": "qSKLqPHZdg62",
        "outputId": "2309b8f8-d143-4f0d-a529-68fe7761e7b1"
      },
      "source": [
        "sns.distplot(police_df['OvertimePay'],bins=25) # посмотрим как распределялись сверхурочные работников полиции\n",
        "plt.show()"
      ],
      "execution_count": 39,
      "outputs": [
        {
          "output_type": "stream",
          "text": [
            "/usr/local/lib/python3.7/dist-packages/seaborn/distributions.py:2557: FutureWarning: `distplot` is a deprecated function and will be removed in a future version. Please adapt your code to use either `displot` (a figure-level function with similar flexibility) or `histplot` (an axes-level function for histograms).\n",
            "  warnings.warn(msg, FutureWarning)\n"
          ],
          "name": "stderr"
        },
        {
          "output_type": "display_data",
          "data": {
            "image/png": "[encoded data removed]",
            "text/plain": [
              "<Figure size 432x288 with 1 Axes>"
            ]
          },
          "metadata": {
            "tags": [],
            "needs_background": "light"
          }
        }
      ]
    },
    {
      "cell_type": "code",
      "metadata": {
        "colab": {
          "base_uri": "https://localhost:8080/",
          "height": 314
        },
        "id": "82XJRc3wexLR",
        "outputId": "7f27194f-ae92-4820-c03c-4b012373ede1"
      },
      "source": [
        "police = police_df.groupby('Year').mean() # посмотрим как со временем менялись сверхурочные работников полиции\n",
        "police.reset_index(inplace=True)\n",
        "sns.barplot(x = 'Year', y='OvertimePay' , data = sal)\n",
        "plt.figure()"
      ],
      "execution_count": 40,
      "outputs": [
        {
          "output_type": "execute_result",
          "data": {
            "text/plain": [
              "<Figure size 432x288 with 0 Axes>"
            ]
          },
          "metadata": {
            "tags": []
          },
          "execution_count": 40
        },
        {
          "output_type": "display_data",
          "data": {
            "image/png": "[encoded data removed]",
            "text/plain": [
              "<Figure size 432x288 with 1 Axes>"
            ]
          },
          "metadata": {
            "tags": [],
            "needs_background": "light"
          }
        },
        {
          "output_type": "display_data",
          "data": {
            "text/plain": [
              "<Figure size 432x288 with 0 Axes>"
            ]
          },
          "metadata": {
            "tags": []
          }
        }
      ]
    },
    {
      "cell_type": "code",
      "metadata": {
        "colab": {
          "base_uri": "https://localhost:8080/",
          "height": 345
        },
        "id": "_O7UnYShd67v",
        "outputId": "1665d1df-4d15-46d4-e3a7-02c666c8bfff"
      },
      "source": [
        "sns.distplot(police_df['OtherPay'],bins=25) # посмотрим как распределялись льготы работников полиции\n",
        "plt.show()"
      ],
      "execution_count": 41,
      "outputs": [
        {
          "output_type": "stream",
          "text": [
            "/usr/local/lib/python3.7/dist-packages/seaborn/distributions.py:2557: FutureWarning: `distplot` is a deprecated function and will be removed in a future version. Please adapt your code to use either `displot` (a figure-level function with similar flexibility) or `histplot` (an axes-level function for histograms).\n",
            "  warnings.warn(msg, FutureWarning)\n"
          ],
          "name": "stderr"
        },
        {
          "output_type": "display_data",
          "data": {
            "image/png": "[encoded data removed]",
            "text/plain": [
              "<Figure size 432x288 with 1 Axes>"
            ]
          },
          "metadata": {
            "tags": [],
            "needs_background": "light"
          }
        }
      ]
    },
    {
      "cell_type": "code",
      "metadata": {
        "colab": {
          "base_uri": "https://localhost:8080/",
          "height": 314
        },
        "id": "kQwftRubUilN",
        "outputId": "8279d25e-72a1-4e4b-9db5-6d98a28667a2"
      },
      "source": [
        "police = police_df.groupby('Year').mean() # посмотрим как со временем менялись льготы работников полиции\n",
        "police.reset_index(inplace=True)\n",
        "sns.barplot(x = 'Year', y='OtherPay' , data = sal)\n",
        "plt.figure()"
      ],
      "execution_count": 42,
      "outputs": [
        {
          "output_type": "execute_result",
          "data": {
            "text/plain": [
              "<Figure size 432x288 with 0 Axes>"
            ]
          },
          "metadata": {
            "tags": []
          },
          "execution_count": 42
        },
        {
          "output_type": "display_data",
          "data": {
            "image/png": "[encoded data removed]",
            "text/plain": [
              "<Figure size 432x288 with 1 Axes>"
            ]
          },
          "metadata": {
            "tags": [],
            "needs_background": "light"
          }
        },
        {
          "output_type": "display_data",
          "data": {
            "text/plain": [
              "<Figure size 432x288 with 0 Axes>"
            ]
          },
          "metadata": {
            "tags": []
          }
        }
      ]
    },
    {
      "cell_type": "code",
      "metadata": {
        "colab": {
          "base_uri": "https://localhost:8080/",
          "height": 345
        },
        "id": "2nbpJEjSecOo",
        "outputId": "08f3cf0f-7fe4-4bbe-acd9-ca99d92c8c1b"
      },
      "source": [
        "sns.distplot(med_df['BasePay'],bins=25) # посмотрим как распределялась базовая зп медиков\n",
        "plt.show()"
      ],
      "execution_count": 43,
      "outputs": [
        {
          "output_type": "stream",
          "text": [
            "/usr/local/lib/python3.7/dist-packages/seaborn/distributions.py:2557: FutureWarning: `distplot` is a deprecated function and will be removed in a future version. Please adapt your code to use either `displot` (a figure-level function with similar flexibility) or `histplot` (an axes-level function for histograms).\n",
            "  warnings.warn(msg, FutureWarning)\n"
          ],
          "name": "stderr"
        },
        {
          "output_type": "display_data",
          "data": {
            "image/png": "[encoded data removed]",
            "text/plain": [
              "<Figure size 432x288 with 1 Axes>"
            ]
          },
          "metadata": {
            "tags": [],
            "needs_background": "light"
          }
        }
      ]
    },
    {
      "cell_type": "code",
      "metadata": {
        "colab": {
          "base_uri": "https://localhost:8080/",
          "height": 314
        },
        "id": "A-oq-HshVApB",
        "outputId": "9c6bb5de-f244-4e4c-9d57-bac32eca184d"
      },
      "source": [
        "med = med_df.groupby('Year').mean() # посмотрим как со временем менялась базовая зп медиков\n",
        "med.reset_index(inplace=True)\n",
        "sns.barplot(x = 'Year', y='BasePay' , data = sal)\n",
        "plt.figure()"
      ],
      "execution_count": 44,
      "outputs": [
        {
          "output_type": "execute_result",
          "data": {
            "text/plain": [
              "<Figure size 432x288 with 0 Axes>"
            ]
          },
          "metadata": {
            "tags": []
          },
          "execution_count": 44
        },
        {
          "output_type": "display_data",
          "data": {
            "image/png": "[encoded data removed]",
            "text/plain": [
              "<Figure size 432x288 with 1 Axes>"
            ]
          },
          "metadata": {
            "tags": [],
            "needs_background": "light"
          }
        },
        {
          "output_type": "display_data",
          "data": {
            "text/plain": [
              "<Figure size 432x288 with 0 Axes>"
            ]
          },
          "metadata": {
            "tags": []
          }
        }
      ]
    },
    {
      "cell_type": "code",
      "metadata": {
        "colab": {
          "base_uri": "https://localhost:8080/",
          "height": 334
        },
        "id": "9crwgC_ReyiU",
        "outputId": "53e53b1d-86ad-4d37-9d30-46ce398392cd"
      },
      "source": [
        "sns.distplot(med_df['OvertimePay'],bins=25) # посмотрим как распределялись сверхурочные медиков\n",
        "plt.show()"
      ],
      "execution_count": 45,
      "outputs": [
        {
          "output_type": "stream",
          "text": [
            "/usr/local/lib/python3.7/dist-packages/seaborn/distributions.py:2557: FutureWarning: `distplot` is a deprecated function and will be removed in a future version. Please adapt your code to use either `displot` (a figure-level function with similar flexibility) or `histplot` (an axes-level function for histograms).\n",
            "  warnings.warn(msg, FutureWarning)\n"
          ],
          "name": "stderr"
        },
        {
          "output_type": "display_data",
          "data": {
            "image/png": "[encoded data removed]",
            "text/plain": [
              "<Figure size 432x288 with 1 Axes>"
            ]
          },
          "metadata": {
            "tags": [],
            "needs_background": "light"
          }
        }
      ]
    },
    {
      "cell_type": "code",
      "metadata": {
        "colab": {
          "base_uri": "https://localhost:8080/",
          "height": 314
        },
        "id": "gCFW_OynVXdr",
        "outputId": "4f578607-f428-4068-cc45-56fa06a3c5c8"
      },
      "source": [
        "med = med_df.groupby('Year').mean() # посмотрим как со временем менялись сверхурочные медиков\n",
        "med.reset_index(inplace=True)\n",
        "sns.barplot(x = 'Year', y='OvertimePay' , data = sal)\n",
        "plt.figure()"
      ],
      "execution_count": 46,
      "outputs": [
        {
          "output_type": "execute_result",
          "data": {
            "text/plain": [
              "<Figure size 432x288 with 0 Axes>"
            ]
          },
          "metadata": {
            "tags": []
          },
          "execution_count": 46
        },
        {
          "output_type": "display_data",
          "data": {
            "image/png": "[encoded data removed]",
            "text/plain": [
              "<Figure size 432x288 with 1 Axes>"
            ]
          },
          "metadata": {
            "tags": [],
            "needs_background": "light"
          }
        },
        {
          "output_type": "display_data",
          "data": {
            "text/plain": [
              "<Figure size 432x288 with 0 Axes>"
            ]
          },
          "metadata": {
            "tags": []
          }
        }
      ]
    },
    {
      "cell_type": "code",
      "metadata": {
        "colab": {
          "base_uri": "https://localhost:8080/",
          "height": 334
        },
        "id": "_uIpR1UpfAYH",
        "outputId": "aa7f94e8-6e45-4c2b-bc42-5f58cfdd0e77"
      },
      "source": [
        "sns.distplot(med_df['OtherPay'],bins=25) # посмотрим как распределялись льготы медиков\n",
        "plt.show()"
      ],
      "execution_count": 47,
      "outputs": [
        {
          "output_type": "stream",
          "text": [
            "/usr/local/lib/python3.7/dist-packages/seaborn/distributions.py:2557: FutureWarning: `distplot` is a deprecated function and will be removed in a future version. Please adapt your code to use either `displot` (a figure-level function with similar flexibility) or `histplot` (an axes-level function for histograms).\n",
            "  warnings.warn(msg, FutureWarning)\n"
          ],
          "name": "stderr"
        },
        {
          "output_type": "display_data",
          "data": {
            "image/png": "[encoded data removed]",
            "text/plain": [
              "<Figure size 432x288 with 1 Axes>"
            ]
          },
          "metadata": {
            "tags": [],
            "needs_background": "light"
          }
        }
      ]
    },
    {
      "cell_type": "code",
      "metadata": {
        "colab": {
          "base_uri": "https://localhost:8080/",
          "height": 314
        },
        "id": "MAkuJjPyVnKO",
        "outputId": "25a2a27f-9b4f-4a05-9157-6fb43c4c9d01"
      },
      "source": [
        "med = med_df.groupby('Year').mean() # посмотрим как со временем менялись льготы медиков\n",
        "med.reset_index(inplace=True)\n",
        "sns.barplot(x = 'Year', y='OtherPay' , data = sal)\n",
        "plt.figure()"
      ],
      "execution_count": 48,
      "outputs": [
        {
          "output_type": "execute_result",
          "data": {
            "text/plain": [
              "<Figure size 432x288 with 0 Axes>"
            ]
          },
          "metadata": {
            "tags": []
          },
          "execution_count": 48
        },
        {
          "output_type": "display_data",
          "data": {
            "image/png": "[encoded data removed]",
            "text/plain": [
              "<Figure size 432x288 with 1 Axes>"
            ]
          },
          "metadata": {
            "tags": [],
            "needs_background": "light"
          }
        },
        {
          "output_type": "display_data",
          "data": {
            "text/plain": [
              "<Figure size 432x288 with 0 Axes>"
            ]
          },
          "metadata": {
            "tags": []
          }
        }
      ]
    },
    {
      "cell_type": "code",
      "metadata": {
        "colab": {
          "base_uri": "https://localhost:8080/",
          "height": 363
        },
        "id": "ltWmohy1V4uX",
        "outputId": "ffd3aef3-92e8-4d27-ab2b-8646a6fe662b"
      },
      "source": [
        "sns.distplot(fire_df['BasePay'],bins=25) # посмотрим как распределялась базовая зп пожарных"
      ],
      "execution_count": 49,
      "outputs": [
        {
          "output_type": "stream",
          "text": [
            "/usr/local/lib/python3.7/dist-packages/seaborn/distributions.py:2557: FutureWarning: `distplot` is a deprecated function and will be removed in a future version. Please adapt your code to use either `displot` (a figure-level function with similar flexibility) or `histplot` (an axes-level function for histograms).\n",
            "  warnings.warn(msg, FutureWarning)\n"
          ],
          "name": "stderr"
        },
        {
          "output_type": "execute_result",
          "data": {
            "text/plain": [
              "<matplotlib.axes._subplots.AxesSubplot at 0x7f6611ec69d0>"
            ]
          },
          "metadata": {
            "tags": []
          },
          "execution_count": 49
        },
        {
          "output_type": "display_data",
          "data": {
            "image/png": "[encoded data removed]",
            "text/plain": [
              "<Figure size 432x288 with 1 Axes>"
            ]
          },
          "metadata": {
            "tags": [],
            "needs_background": "light"
          }
        }
      ]
    },
    {
      "cell_type": "code",
      "metadata": {
        "colab": {
          "base_uri": "https://localhost:8080/",
          "height": 314
        },
        "id": "KDQj2XaDWMEv",
        "outputId": "e08564d3-79e3-4b98-ccd0-67c87d1baebb"
      },
      "source": [
        "fire = fire_df.groupby('Year').mean() # посмотрим как со временем менялась базовая пожарных\n",
        "fire.reset_index(inplace=True)\n",
        "sns.barplot(x = 'Year', y='BasePay' , data = sal)\n",
        "plt.figure()"
      ],
      "execution_count": 50,
      "outputs": [
        {
          "output_type": "execute_result",
          "data": {
            "text/plain": [
              "<Figure size 432x288 with 0 Axes>"
            ]
          },
          "metadata": {
            "tags": []
          },
          "execution_count": 50
        },
        {
          "output_type": "display_data",
          "data": {
            "image/png": "[encoded data removed]",
            "text/plain": [
              "<Figure size 432x288 with 1 Axes>"
            ]
          },
          "metadata": {
            "tags": [],
            "needs_background": "light"
          }
        },
        {
          "output_type": "display_data",
          "data": {
            "text/plain": [
              "<Figure size 432x288 with 0 Axes>"
            ]
          },
          "metadata": {
            "tags": []
          }
        }
      ]
    },
    {
      "cell_type": "code",
      "metadata": {
        "colab": {
          "base_uri": "https://localhost:8080/",
          "height": 345
        },
        "id": "6CT4y7vjWqNS",
        "outputId": "c2d259a2-8b27-4cfd-8536-adc58b2ee66c"
      },
      "source": [
        "sns.distplot(fire_df['OvertimePay'],bins=25) # посмотрим как распределялись сверхурочные пожарных\n",
        "plt.show()"
      ],
      "execution_count": 51,
      "outputs": [
        {
          "output_type": "stream",
          "text": [
            "/usr/local/lib/python3.7/dist-packages/seaborn/distributions.py:2557: FutureWarning: `distplot` is a deprecated function and will be removed in a future version. Please adapt your code to use either `displot` (a figure-level function with similar flexibility) or `histplot` (an axes-level function for histograms).\n",
            "  warnings.warn(msg, FutureWarning)\n"
          ],
          "name": "stderr"
        },
        {
          "output_type": "display_data",
          "data": {
            "image/png": "[encoded data removed]",
            "text/plain": [
              "<Figure size 432x288 with 1 Axes>"
            ]
          },
          "metadata": {
            "tags": [],
            "needs_background": "light"
          }
        }
      ]
    },
    {
      "cell_type": "code",
      "metadata": {
        "colab": {
          "base_uri": "https://localhost:8080/",
          "height": 314
        },
        "id": "UNKWxstSW2eR",
        "outputId": "05e00c10-2f58-49f2-ffdc-1382446800e7"
      },
      "source": [
        "fire = fire_df.groupby('Year').mean() # посмотрим как со временем менялись сверхурочные пожарных\n",
        "fire.reset_index(inplace=True)\n",
        "sns.barplot(x = 'Year', y='OvertimePay' , data = sal)\n",
        "plt.figure()"
      ],
      "execution_count": 52,
      "outputs": [
        {
          "output_type": "execute_result",
          "data": {
            "text/plain": [
              "<Figure size 432x288 with 0 Axes>"
            ]
          },
          "metadata": {
            "tags": []
          },
          "execution_count": 52
        },
        {
          "output_type": "display_data",
          "data": {
            "image/png": "[encoded data removed]",
            "text/plain": [
              "<Figure size 432x288 with 1 Axes>"
            ]
          },
          "metadata": {
            "tags": [],
            "needs_background": "light"
          }
        },
        {
          "output_type": "display_data",
          "data": {
            "text/plain": [
              "<Figure size 432x288 with 0 Axes>"
            ]
          },
          "metadata": {
            "tags": []
          }
        }
      ]
    },
    {
      "cell_type": "code",
      "metadata": {
        "colab": {
          "base_uri": "https://localhost:8080/",
          "height": 345
        },
        "id": "tbICP3-RXCiU",
        "outputId": "a9c75318-fcea-474b-e46c-c604d77b0713"
      },
      "source": [
        "sns.distplot(fire_df['OtherPay'],bins=25) # посмотрим как распределялись льготы медиков\n",
        "plt.show()"
      ],
      "execution_count": 53,
      "outputs": [
        {
          "output_type": "stream",
          "text": [
            "/usr/local/lib/python3.7/dist-packages/seaborn/distributions.py:2557: FutureWarning: `distplot` is a deprecated function and will be removed in a future version. Please adapt your code to use either `displot` (a figure-level function with similar flexibility) or `histplot` (an axes-level function for histograms).\n",
            "  warnings.warn(msg, FutureWarning)\n"
          ],
          "name": "stderr"
        },
        {
          "output_type": "display_data",
          "data": {
            "image/png": "[encoded data removed]",
            "text/plain": [
              "<Figure size 432x288 with 1 Axes>"
            ]
          },
          "metadata": {
            "tags": [],
            "needs_background": "light"
          }
        }
      ]
    },
    {
      "cell_type": "code",
      "metadata": {
        "colab": {
          "base_uri": "https://localhost:8080/",
          "height": 314
        },
        "id": "0eNxC0pTXJY9",
        "outputId": "9a4a331d-5595-485c-fb61-a9182d1e7296"
      },
      "source": [
        "fire = fire_df.groupby('Year').mean() # посмотрим как со временем менялись льготы пожарных\n",
        "fire.reset_index(inplace=True)\n",
        "sns.barplot(x = 'Year', y='OtherPay' , data = sal)\n",
        "plt.figure()"
      ],
      "execution_count": 54,
      "outputs": [
        {
          "output_type": "execute_result",
          "data": {
            "text/plain": [
              "<Figure size 432x288 with 0 Axes>"
            ]
          },
          "metadata": {
            "tags": []
          },
          "execution_count": 54
        },
        {
          "output_type": "display_data",
          "data": {
            "image/png": "[encoded data removed]",
            "text/plain": [
              "<Figure size 432x288 with 1 Axes>"
            ]
          },
          "metadata": {
            "tags": [],
            "needs_background": "light"
          }
        },
        {
          "output_type": "display_data",
          "data": {
            "text/plain": [
              "<Figure size 432x288 with 0 Axes>"
            ]
          },
          "metadata": {
            "tags": []
          }
        }
      ]
    },
    {
      "cell_type": "code",
      "metadata": {
        "colab": {
          "base_uri": "https://localhost:8080/",
          "height": 283
        },
        "id": "nNzUFTMLjIQJ",
        "outputId": "eff1514f-a189-4b37-d055-b6663b4dc7bf"
      },
      "source": [
        "# переделаем датафрейм, оставив необходимые колонки\n",
        "fi = fire.query('2011 == Year')\n",
        "f1 = fi.drop(['Year','Id', 'TotalPay', 'TotalPayBenefits'], axis = 1) # удалила колонку \n",
        "plt.pie(f1)\n",
        "plt.show()\n",
        "# построим диаграмму распределения средств за 2011 год, видно, что самая большая часть средств идет на базовую зп, остальное в равных долях распределяется между льготами и сверхурочными"
      ],
      "execution_count": 55,
      "outputs": [
        {
          "output_type": "stream",
          "text": [
            "/usr/local/lib/python3.7/dist-packages/ipykernel_launcher.py:4: MatplotlibDeprecationWarning: Non-1D inputs to pie() are currently squeeze()d, but this behavior is deprecated since 3.1 and will be removed in 3.3; pass a 1D array instead.\n",
            "  after removing the cwd from sys.path.\n"
          ],
          "name": "stderr"
        },
        {
          "output_type": "display_data",
          "data": {
            "image/png": "[encoded data removed]",
            "text/plain": [
              "<Figure size 432x288 with 1 Axes>"
            ]
          },
          "metadata": {
            "tags": []
          }
        }
      ]
    },
    {
      "cell_type": "code",
      "metadata": {
        "colab": {
          "base_uri": "https://localhost:8080/",
          "height": 247
        },
        "id": "GwdylcXVmRPU",
        "outputId": "f99257bc-944e-46d3-df07-e4417401c8b5"
      },
      "source": [
        "# аналогично проиллюстрируем 2012 и 2013 гг\n",
        "fa = fire.query('2012 == Year')\n",
        "f2 = fa.drop(['Year','Id', 'TotalPay', 'TotalPayBenefits'], axis = 1)\n",
        "plt.pie(f2)\n",
        "plt.show()"
      ],
      "execution_count": 56,
      "outputs": [
        {
          "output_type": "display_data",
          "data": {
            "image/png": "[encoded data removed]",
            "text/plain": [
              "<Figure size 432x288 with 1 Axes>"
            ]
          },
          "metadata": {
            "tags": []
          }
        }
      ]
    },
    {
      "cell_type": "code",
      "metadata": {
        "colab": {
          "base_uri": "https://localhost:8080/",
          "height": 247
        },
        "id": "yrHCw_AonXFd",
        "outputId": "08a356a3-faf2-47c8-ad21-3daee7344791"
      },
      "source": [
        "f = fire.query('2013 == Year')\n",
        "f3 = f.drop(['Year','Id', 'TotalPay', 'TotalPayBenefits'], axis = 1)\n",
        "plt.pie(f3)\n",
        "plt.show()"
      ],
      "execution_count": 57,
      "outputs": [
        {
          "output_type": "display_data",
          "data": {
            "image/png": "[encoded data removed]",
            "text/plain": [
              "<Figure size 432x288 with 1 Axes>"
            ]
          },
          "metadata": {
            "tags": []
          }
        }
      ]
    },
    {
      "cell_type": "code",
      "metadata": {
        "colab": {
          "base_uri": "https://localhost:8080/"
        },
        "id": "RvTiHMJ3n0Qz",
        "outputId": "36b00e24-6f8a-4184-b0fd-915a61764ab3"
      },
      "source": [
        "# определим кол-во людей в каждом департаменте проведем группировку по имени \n",
        "\n",
        "fire_df.groupby('EmployeeName')['EmployeeName'].count()"
      ],
      "execution_count": 58,
      "outputs": [
        {
          "output_type": "execute_result",
          "data": {
            "text/plain": [
              "EmployeeName\n",
              "AARON STEVENSON         2\n",
              "AISHA KRIEGER           1\n",
              "ALAN REYNAUD            1\n",
              "ALAN WONG               1\n",
              "ALBERTO PEDRUCO         1\n",
              "                       ..\n",
              "VINCENT PEREZ           1\n",
              "WALTER VILLAVICENCIO    1\n",
              "WAYNE WONG              1\n",
              "WILLIAM MCFARLAND       1\n",
              "ZACHARY PUMPHREY        1\n",
              "Name: EmployeeName, Length: 221, dtype: int64"
            ]
          },
          "metadata": {
            "tags": []
          },
          "execution_count": 58
        }
      ]
    },
    {
      "cell_type": "code",
      "metadata": {
        "colab": {
          "base_uri": "https://localhost:8080/"
        },
        "id": "pEOjyWwxpbbF",
        "outputId": "41a39e55-45ed-4072-9cf8-c8d0bda9896e"
      },
      "source": [
        "police_df.groupby('EmployeeName')['EmployeeName'].count()"
      ],
      "execution_count": 59,
      "outputs": [
        {
          "output_type": "execute_result",
          "data": {
            "text/plain": [
              "EmployeeName\n",
              "AARON BALLONADO      1\n",
              "AARON COWHIG         1\n",
              "AARON FISCHER        1\n",
              "AARON FOLTZ          1\n",
              "AARON LOZADA         1\n",
              "                    ..\n",
              "YVETTE POINDEXTER    1\n",
              "YVONNE ALLEN         1\n",
              "YVONNE MOILANEN      1\n",
              "ZAHID KHAN           1\n",
              "ZOILA MAGUINA        1\n",
              "Name: EmployeeName, Length: 2487, dtype: int64"
            ]
          },
          "metadata": {
            "tags": []
          },
          "execution_count": 59
        }
      ]
    },
    {
      "cell_type": "code",
      "metadata": {
        "colab": {
          "base_uri": "https://localhost:8080/"
        },
        "id": "k8bFJ2s0phrA",
        "outputId": "4d9e6dc9-0495-423e-fd36-02403800b57c"
      },
      "source": [
        "med_df.groupby('EmployeeName')['EmployeeName'].count()"
      ],
      "execution_count": 60,
      "outputs": [
        {
          "output_type": "execute_result",
          "data": {
            "text/plain": [
              "EmployeeName\n",
              "ADAM DOMINGUEZ     1\n",
              "ADAM HELLMAN       1\n",
              "ADAM LEWIS         1\n",
              "AL GARZA           1\n",
              "ALAN PRINGLE       1\n",
              "                  ..\n",
              "YOLANDA HERRON     1\n",
              "YUBING XUE         1\n",
              "YVETTE ANDERSON    1\n",
              "ZACHARY BEATTY     1\n",
              "ZAYINNA LEIVA      1\n",
              "Name: EmployeeName, Length: 739, dtype: int64"
            ]
          },
          "metadata": {
            "tags": []
          },
          "execution_count": 60
        }
      ]
    }
  ]
}